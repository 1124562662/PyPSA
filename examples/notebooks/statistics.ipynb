{
 "cells": [
  {
   "cell_type": "markdown",
   "metadata": {},
   "source": [
    "# Using the statistics module in PyPSA\n",
    "\n",
    "The `statistics` module is used to easily extract information from your networks. This is useful when inspecting your solved networks and creating first visualizations of your results.\n",
    "\n",
    "With the `statistics` module, you can look at different metrics of your network. A list of the implemented metrics are:\n",
    "    \n",
    "- Capital expenditure\n",
    "- Operational expenditure\n",
    "- Installed capacities\n",
    "- Optimal capacities\n",
    "- Supply\n",
    "- Withdrawal\n",
    "- Curtailment\n",
    "- Capacity Factor\n",
    "- Revenue\n",
    "- Market value\n",
    "- Energy balance\n",
    "\n",
    "Now lets look at an example."
   ]
  },
  {
   "cell_type": "code",
   "execution_count": 91,
   "metadata": {},
   "outputs": [],
   "source": [
    "import pypsa\n",
    "import matplotlib.pyplot as plt\n",
    "import numpy as np"
   ]
  },
  {
   "cell_type": "markdown",
   "metadata": {},
   "source": [
    "First, we open an example network we want to investigate."
   ]
  },
  {
   "cell_type": "code",
   "execution_count": 2,
   "metadata": {},
   "outputs": [
    {
     "name": "stderr",
     "output_type": "stream",
     "text": [
      "WARNING:pypsa.io:Importing network from PyPSA version v0.17.1 while current version is v0.25.1. Read the release notes at https://pypsa.readthedocs.io/en/latest/release_notes.html to prepare your network for import.\n",
      "INFO:pypsa.io:Imported network scigrid-de.nc has buses, generators, lines, loads, storage_units, transformers\n"
     ]
    }
   ],
   "source": [
    "n = pypsa.examples.scigrid_de()"
   ]
  },
  {
   "cell_type": "markdown",
   "metadata": {},
   "source": [
    "Lets run an overview of all statistics by calling:"
   ]
  },
  {
   "cell_type": "code",
   "execution_count": 98,
   "metadata": {},
   "outputs": [
    {
     "data": {
      "text/html": [
       "<div>\n",
       "<style scoped>\n",
       "    .dataframe tbody tr th:only-of-type {\n",
       "        vertical-align: middle;\n",
       "    }\n",
       "\n",
       "    .dataframe tbody tr th {\n",
       "        vertical-align: top;\n",
       "    }\n",
       "\n",
       "    .dataframe thead th {\n",
       "        text-align: right;\n",
       "    }\n",
       "</style>\n",
       "<table border=\"1\" class=\"dataframe\">\n",
       "  <thead>\n",
       "    <tr style=\"text-align: right;\">\n",
       "      <th></th>\n",
       "      <th></th>\n",
       "      <th>Capacity Factor</th>\n",
       "      <th>Capital Expenditure</th>\n",
       "      <th>Curtailment</th>\n",
       "      <th>Dispatch</th>\n",
       "      <th>Installed Capacity</th>\n",
       "      <th>Market Value</th>\n",
       "      <th>Operational Expenditure</th>\n",
       "      <th>Optimal Capacity</th>\n",
       "      <th>Revenue</th>\n",
       "      <th>Supply</th>\n",
       "      <th>Withdrawal</th>\n",
       "    </tr>\n",
       "    <tr>\n",
       "      <th></th>\n",
       "      <th>carrier</th>\n",
       "      <th></th>\n",
       "      <th></th>\n",
       "      <th></th>\n",
       "      <th></th>\n",
       "      <th></th>\n",
       "      <th></th>\n",
       "      <th></th>\n",
       "      <th></th>\n",
       "      <th></th>\n",
       "      <th></th>\n",
       "      <th></th>\n",
       "    </tr>\n",
       "  </thead>\n",
       "  <tbody>\n",
       "    <tr>\n",
       "      <th rowspan=\"10\" valign=\"top\">Generator</th>\n",
       "      <th>Brown Coal</th>\n",
       "      <td>0.085529</td>\n",
       "      <td>0.0</td>\n",
       "      <td>0.000000</td>\n",
       "      <td>42859.029000</td>\n",
       "      <td>20879.500000</td>\n",
       "      <td>13.725614</td>\n",
       "      <td>428590.2900</td>\n",
       "      <td>20879.500000</td>\n",
       "      <td>588266.476000</td>\n",
       "      <td>42859.029000</td>\n",
       "      <td>0.0000</td>\n",
       "    </tr>\n",
       "    <tr>\n",
       "      <th>Gas</th>\n",
       "      <td>0.000138</td>\n",
       "      <td>0.0</td>\n",
       "      <td>0.000000</td>\n",
       "      <td>79.437970</td>\n",
       "      <td>23913.130000</td>\n",
       "      <td>50.000000</td>\n",
       "      <td>3971.8985</td>\n",
       "      <td>23913.130000</td>\n",
       "      <td>3971.898500</td>\n",
       "      <td>79.437970</td>\n",
       "      <td>0.0000</td>\n",
       "    </tr>\n",
       "    <tr>\n",
       "      <th>Hard Coal</th>\n",
       "      <td>0.017343</td>\n",
       "      <td>0.0</td>\n",
       "      <td>0.000000</td>\n",
       "      <td>10535.663500</td>\n",
       "      <td>25312.600000</td>\n",
       "      <td>25.833395</td>\n",
       "      <td>263391.5875</td>\n",
       "      <td>25312.600000</td>\n",
       "      <td>272171.958470</td>\n",
       "      <td>10535.663500</td>\n",
       "      <td>0.0000</td>\n",
       "    </tr>\n",
       "    <tr>\n",
       "      <th>Nuclear</th>\n",
       "      <td>0.108665</td>\n",
       "      <td>0.0</td>\n",
       "      <td>0.000000</td>\n",
       "      <td>31472.994000</td>\n",
       "      <td>12068.000000</td>\n",
       "      <td>16.747951</td>\n",
       "      <td>251783.9520</td>\n",
       "      <td>12068.000000</td>\n",
       "      <td>527108.168310</td>\n",
       "      <td>31472.994000</td>\n",
       "      <td>0.0000</td>\n",
       "    </tr>\n",
       "    <tr>\n",
       "      <th>Other</th>\n",
       "      <td>0.004624</td>\n",
       "      <td>0.0</td>\n",
       "      <td>0.000000</td>\n",
       "      <td>336.000000</td>\n",
       "      <td>3027.800000</td>\n",
       "      <td>34.235750</td>\n",
       "      <td>10752.0000</td>\n",
       "      <td>3027.800000</td>\n",
       "      <td>11503.212000</td>\n",
       "      <td>336.000000</td>\n",
       "      <td>0.0000</td>\n",
       "    </tr>\n",
       "    <tr>\n",
       "      <th>Run of River</th>\n",
       "      <td>0.142983</td>\n",
       "      <td>0.0</td>\n",
       "      <td>0.000000</td>\n",
       "      <td>13723.318200</td>\n",
       "      <td>3999.100000</td>\n",
       "      <td>21.992657</td>\n",
       "      <td>41169.9546</td>\n",
       "      <td>3999.100000</td>\n",
       "      <td>301812.224107</td>\n",
       "      <td>13723.318200</td>\n",
       "      <td>0.0000</td>\n",
       "    </tr>\n",
       "    <tr>\n",
       "      <th>Storage Hydro</th>\n",
       "      <td>0.103230</td>\n",
       "      <td>0.0</td>\n",
       "      <td>0.000000</td>\n",
       "      <td>3580.000000</td>\n",
       "      <td>1445.000000</td>\n",
       "      <td>20.364349</td>\n",
       "      <td>10740.0000</td>\n",
       "      <td>1445.000000</td>\n",
       "      <td>72904.370250</td>\n",
       "      <td>3580.000000</td>\n",
       "      <td>0.0000</td>\n",
       "    </tr>\n",
       "    <tr>\n",
       "      <th>Waste</th>\n",
       "      <td>0.120501</td>\n",
       "      <td>0.0</td>\n",
       "      <td>0.000000</td>\n",
       "      <td>4760.000000</td>\n",
       "      <td>1645.900000</td>\n",
       "      <td>20.508790</td>\n",
       "      <td>28560.0000</td>\n",
       "      <td>1645.900000</td>\n",
       "      <td>97621.842763</td>\n",
       "      <td>4760.000000</td>\n",
       "      <td>0.0000</td>\n",
       "    </tr>\n",
       "    <tr>\n",
       "      <th>Wind Offshore</th>\n",
       "      <td>0.089504</td>\n",
       "      <td>0.0</td>\n",
       "      <td>63086.266344</td>\n",
       "      <td>6387.383000</td>\n",
       "      <td>2973.500000</td>\n",
       "      <td>2.197173</td>\n",
       "      <td>0.0000</td>\n",
       "      <td>2973.500000</td>\n",
       "      <td>14034.188115</td>\n",
       "      <td>6387.383000</td>\n",
       "      <td>0.0000</td>\n",
       "    </tr>\n",
       "    <tr>\n",
       "      <th>Wind Onshore</th>\n",
       "      <td>0.092218</td>\n",
       "      <td>0.0</td>\n",
       "      <td>390798.156206</td>\n",
       "      <td>82642.127289</td>\n",
       "      <td>37339.895329</td>\n",
       "      <td>4.913119</td>\n",
       "      <td>0.0000</td>\n",
       "      <td>37339.895329</td>\n",
       "      <td>406030.614531</td>\n",
       "      <td>82642.127289</td>\n",
       "      <td>0.0000</td>\n",
       "    </tr>\n",
       "    <tr>\n",
       "      <th>StorageUnit</th>\n",
       "      <th>Pumped Hydro</th>\n",
       "      <td>0.004625</td>\n",
       "      <td>0.0</td>\n",
       "      <td>0.000000</td>\n",
       "      <td>-1018.866300</td>\n",
       "      <td>9179.500000</td>\n",
       "      <td>-3.938994</td>\n",
       "      <td>0.0000</td>\n",
       "      <td>9179.500000</td>\n",
       "      <td>4013.308116</td>\n",
       "      <td>0.000000</td>\n",
       "      <td>-1018.8663</td>\n",
       "    </tr>\n",
       "  </tbody>\n",
       "</table>\n",
       "</div>"
      ],
      "text/plain": [
       "                           Capacity Factor  Capital Expenditure  \\\n",
       "            carrier                                               \n",
       "Generator   Brown Coal            0.085529                  0.0   \n",
       "            Gas                   0.000138                  0.0   \n",
       "            Hard Coal             0.017343                  0.0   \n",
       "            Nuclear               0.108665                  0.0   \n",
       "            Other                 0.004624                  0.0   \n",
       "            Run of River          0.142983                  0.0   \n",
       "            Storage Hydro         0.103230                  0.0   \n",
       "            Waste                 0.120501                  0.0   \n",
       "            Wind Offshore         0.089504                  0.0   \n",
       "            Wind Onshore          0.092218                  0.0   \n",
       "StorageUnit Pumped Hydro          0.004625                  0.0   \n",
       "\n",
       "                             Curtailment      Dispatch  Installed Capacity  \\\n",
       "            carrier                                                          \n",
       "Generator   Brown Coal          0.000000  42859.029000        20879.500000   \n",
       "            Gas                 0.000000     79.437970        23913.130000   \n",
       "            Hard Coal           0.000000  10535.663500        25312.600000   \n",
       "            Nuclear             0.000000  31472.994000        12068.000000   \n",
       "            Other               0.000000    336.000000         3027.800000   \n",
       "            Run of River        0.000000  13723.318200         3999.100000   \n",
       "            Storage Hydro       0.000000   3580.000000         1445.000000   \n",
       "            Waste               0.000000   4760.000000         1645.900000   \n",
       "            Wind Offshore   63086.266344   6387.383000         2973.500000   \n",
       "            Wind Onshore   390798.156206  82642.127289        37339.895329   \n",
       "StorageUnit Pumped Hydro        0.000000  -1018.866300         9179.500000   \n",
       "\n",
       "                           Market Value  Operational Expenditure  \\\n",
       "            carrier                                                \n",
       "Generator   Brown Coal        13.725614              428590.2900   \n",
       "            Gas               50.000000                3971.8985   \n",
       "            Hard Coal         25.833395              263391.5875   \n",
       "            Nuclear           16.747951              251783.9520   \n",
       "            Other             34.235750               10752.0000   \n",
       "            Run of River      21.992657               41169.9546   \n",
       "            Storage Hydro     20.364349               10740.0000   \n",
       "            Waste             20.508790               28560.0000   \n",
       "            Wind Offshore      2.197173                   0.0000   \n",
       "            Wind Onshore       4.913119                   0.0000   \n",
       "StorageUnit Pumped Hydro      -3.938994                   0.0000   \n",
       "\n",
       "                           Optimal Capacity        Revenue        Supply  \\\n",
       "            carrier                                                        \n",
       "Generator   Brown Coal         20879.500000  588266.476000  42859.029000   \n",
       "            Gas                23913.130000    3971.898500     79.437970   \n",
       "            Hard Coal          25312.600000  272171.958470  10535.663500   \n",
       "            Nuclear            12068.000000  527108.168310  31472.994000   \n",
       "            Other               3027.800000   11503.212000    336.000000   \n",
       "            Run of River        3999.100000  301812.224107  13723.318200   \n",
       "            Storage Hydro       1445.000000   72904.370250   3580.000000   \n",
       "            Waste               1645.900000   97621.842763   4760.000000   \n",
       "            Wind Offshore       2973.500000   14034.188115   6387.383000   \n",
       "            Wind Onshore       37339.895329  406030.614531  82642.127289   \n",
       "StorageUnit Pumped Hydro        9179.500000    4013.308116      0.000000   \n",
       "\n",
       "                           Withdrawal  \n",
       "            carrier                    \n",
       "Generator   Brown Coal         0.0000  \n",
       "            Gas                0.0000  \n",
       "            Hard Coal          0.0000  \n",
       "            Nuclear            0.0000  \n",
       "            Other              0.0000  \n",
       "            Run of River       0.0000  \n",
       "            Storage Hydro      0.0000  \n",
       "            Waste              0.0000  \n",
       "            Wind Offshore      0.0000  \n",
       "            Wind Onshore       0.0000  \n",
       "StorageUnit Pumped Hydro   -1018.8663  "
      ]
     },
     "execution_count": 98,
     "metadata": {},
     "output_type": "execute_result"
    }
   ],
   "source": [
    "n.statistics().dropna()"
   ]
  },
  {
   "cell_type": "markdown",
   "metadata": {},
   "source": [
    "So far the `statistics` are not so interesting, because we have not solved the network yet. We can only see that the network already has some installed capacities for different components.\n",
    "\n",
    "You can see that `statistics` returns a `pandas.DataFrame`. The MultiIndex of the `DataFrame` provides the name of the network component (i.e. first entry of the MultiIndex, like *Generator, Line,...*) on the first index level. The `carrier` index level provides the carrier name of the given component. For example, in `n.generators`, we have the carriers *Brown Coal, Gas* and so on.\n",
    "\n",
    "Now lets solve the network."
   ]
  },
  {
   "cell_type": "code",
   "execution_count": 4,
   "metadata": {},
   "outputs": [
    {
     "name": "stderr",
     "output_type": "stream",
     "text": [
      "WARNING:pypsa.components:The following transformers have zero r, which could break the linear load flow:\n",
      "Index(['2', '5', '10', '12', '13', '15', '18', '20', '22', '24', '26', '30',\n",
      "       '32', '37', '42', '46', '52', '56', '61', '68', '69', '74', '78', '86',\n",
      "       '87', '94', '95', '96', '99', '100', '104', '105', '106', '107', '117',\n",
      "       '120', '123', '124', '125', '128', '129', '138', '143', '156', '157',\n",
      "       '159', '160', '165', '184', '191', '195', '201', '220', '231', '232',\n",
      "       '233', '236', '247', '248', '250', '251', '252', '261', '263', '264',\n",
      "       '267', '272', '279', '281', '282', '292', '303', '307', '308', '312',\n",
      "       '315', '317', '322', '332', '334', '336', '338', '351', '353', '360',\n",
      "       '362', '382', '384', '385', '391', '403', '404', '413', '421', '450',\n",
      "       '458'],\n",
      "      dtype='object', name='Transformer')\n",
      "WARNING:pypsa.components:The following transformers have zero r, which could break the linear load flow:\n",
      "Index(['2', '5', '10', '12', '13', '15', '18', '20', '22', '24', '26', '30',\n",
      "       '32', '37', '42', '46', '52', '56', '61', '68', '69', '74', '78', '86',\n",
      "       '87', '94', '95', '96', '99', '100', '104', '105', '106', '107', '117',\n",
      "       '120', '123', '124', '125', '128', '129', '138', '143', '156', '157',\n",
      "       '159', '160', '165', '184', '191', '195', '201', '220', '231', '232',\n",
      "       '233', '236', '247', '248', '250', '251', '252', '261', '263', '264',\n",
      "       '267', '272', '279', '281', '282', '292', '303', '307', '308', '312',\n",
      "       '315', '317', '322', '332', '334', '336', '338', '351', '353', '360',\n",
      "       '362', '382', '384', '385', '391', '403', '404', '413', '421', '450',\n",
      "       '458'],\n",
      "      dtype='object', name='Transformer')\n",
      "INFO:linopy.model: Solve linear problem using Glpk solver\n",
      "INFO:linopy.io:Writing objective.\n",
      "Writing constraints.: 100%|\u001b[38;2;128;191;255m██████████\u001b[0m| 15/15 [00:00<00:00, 94.70it/s] \n",
      "Writing continuous variables.: 100%|\u001b[38;2;128;191;255m██████████\u001b[0m| 7/7 [00:00<00:00, 345.36it/s]\n",
      "INFO:linopy.io: Writing time: 0.2s\n"
     ]
    },
    {
     "name": "stdout",
     "output_type": "stream",
     "text": [
      "GLPSOL--GLPK LP/MIP Solver 5.0\n",
      "Parameter(s) specified in the command line:\n",
      " --lp /tmp/linopy-problem-el37b9_q.lp --output /tmp/linopy-solve-h5y6xur0.sol\n",
      "Reading problem data from '/tmp/linopy-problem-el37b9_q.lp'...\n",
      "23828 rows, 9940 columns, 43938 non-zeros\n",
      "127276 lines were read\n",
      "GLPK Simplex Optimizer 5.0\n",
      "23828 rows, 9940 columns, 43938 non-zeros\n",
      "Preprocessing...\n",
      "3772 rows, 5708 columns, 19650 non-zeros\n",
      "Scaling...\n",
      " A: min|aij| =  1.485e-02  max|aij| =  1.974e+02  ratio =  1.329e+04\n",
      "GM: min|aij| =  1.913e-01  max|aij| =  5.228e+00  ratio =  2.733e+01\n",
      "EQ: min|aij| =  3.688e-02  max|aij| =  1.000e+00  ratio =  2.712e+01\n",
      "Constructing initial basis...\n",
      "Size of triangular part is 3665\n",
      "      0: obj =   6.144485279e+07 inf =   5.153e+07 (2847)\n",
      "   6813: obj =   4.807086401e+06 inf =   7.457e-13 (0) 41\n"
     ]
    },
    {
     "name": "stderr",
     "output_type": "stream",
     "text": [
      "INFO:linopy.constants: Optimization successful: \n",
      "Status: ok\n",
      "Termination condition: optimal\n",
      "Solution: 9940 primals, 23828 duals\n",
      "Objective: 1.04e+06\n",
      "Solver model: not available\n",
      "Solver message: optimal\n",
      "\n"
     ]
    },
    {
     "name": "stdout",
     "output_type": "stream",
     "text": [
      "*  9356: obj =   1.038959807e+06 inf =   4.098e-12 (0) 10\n",
      "OPTIMAL LP SOLUTION FOUND\n",
      "Time used:   1.9 secs\n",
      "Memory used: 17.3 Mb (18143476 bytes)\n",
      "Writing basic solution to '/tmp/linopy-solve-h5y6xur0.sol'...\n"
     ]
    },
    {
     "name": "stderr",
     "output_type": "stream",
     "text": [
      "INFO:pypsa.optimization.optimize:The shadow-prices of the constraints Generator-fix-p-lower, Generator-fix-p-upper, Line-fix-s-lower, Line-fix-s-upper, Transformer-fix-s-lower, Transformer-fix-s-upper, StorageUnit-fix-p_dispatch-lower, StorageUnit-fix-p_dispatch-upper, StorageUnit-fix-p_store-lower, StorageUnit-fix-p_store-upper, StorageUnit-fix-state_of_charge-lower, StorageUnit-fix-state_of_charge-upper, Kirchhoff-Voltage-Law, StorageUnit-energy_balance were not assigned to the network.\n"
     ]
    },
    {
     "data": {
      "text/plain": [
       "('ok', 'optimal')"
      ]
     },
     "execution_count": 4,
     "metadata": {},
     "output_type": "execute_result"
    }
   ],
   "source": [
    "n.optimize(n.snapshots[:4])"
   ]
  },
  {
   "cell_type": "markdown",
   "metadata": {},
   "source": [
    "Now we can look at the `statistics` of the solved network."
   ]
  },
  {
   "cell_type": "code",
   "execution_count": 5,
   "metadata": {},
   "outputs": [
    {
     "data": {
      "text/html": [
       "<div>\n",
       "<style scoped>\n",
       "    .dataframe tbody tr th:only-of-type {\n",
       "        vertical-align: middle;\n",
       "    }\n",
       "\n",
       "    .dataframe tbody tr th {\n",
       "        vertical-align: top;\n",
       "    }\n",
       "\n",
       "    .dataframe thead th {\n",
       "        text-align: right;\n",
       "    }\n",
       "</style>\n",
       "<table border=\"1\" class=\"dataframe\">\n",
       "  <thead>\n",
       "    <tr style=\"text-align: right;\">\n",
       "      <th></th>\n",
       "      <th></th>\n",
       "      <th>Capacity Factor</th>\n",
       "      <th>Capital Expenditure</th>\n",
       "      <th>Curtailment</th>\n",
       "      <th>Dispatch</th>\n",
       "      <th>Installed Capacity</th>\n",
       "      <th>Market Value</th>\n",
       "      <th>Operational Expenditure</th>\n",
       "      <th>Optimal Capacity</th>\n",
       "      <th>Revenue</th>\n",
       "      <th>Supply</th>\n",
       "      <th>Withdrawal</th>\n",
       "    </tr>\n",
       "    <tr>\n",
       "      <th></th>\n",
       "      <th>carrier</th>\n",
       "      <th></th>\n",
       "      <th></th>\n",
       "      <th></th>\n",
       "      <th></th>\n",
       "      <th></th>\n",
       "      <th></th>\n",
       "      <th></th>\n",
       "      <th></th>\n",
       "      <th></th>\n",
       "      <th></th>\n",
       "      <th></th>\n",
       "    </tr>\n",
       "  </thead>\n",
       "  <tbody>\n",
       "    <tr>\n",
       "      <th rowspan=\"14\" valign=\"top\">Generator</th>\n",
       "      <th>Brown Coal</th>\n",
       "      <td>0.1</td>\n",
       "      <td>0.0</td>\n",
       "      <td>0.0</td>\n",
       "      <td>42859.0</td>\n",
       "      <td>20879.5</td>\n",
       "      <td>13.7</td>\n",
       "      <td>428590.3</td>\n",
       "      <td>20879.5</td>\n",
       "      <td>588266.5</td>\n",
       "      <td>42859.0</td>\n",
       "      <td>0.0</td>\n",
       "    </tr>\n",
       "    <tr>\n",
       "      <th>Gas</th>\n",
       "      <td>0.0</td>\n",
       "      <td>0.0</td>\n",
       "      <td>0.0</td>\n",
       "      <td>79.4</td>\n",
       "      <td>23913.1</td>\n",
       "      <td>50.0</td>\n",
       "      <td>3971.9</td>\n",
       "      <td>23913.1</td>\n",
       "      <td>3971.9</td>\n",
       "      <td>79.4</td>\n",
       "      <td>0.0</td>\n",
       "    </tr>\n",
       "    <tr>\n",
       "      <th>Geothermal</th>\n",
       "      <td>0.0</td>\n",
       "      <td>0.0</td>\n",
       "      <td>0.0</td>\n",
       "      <td>0.0</td>\n",
       "      <td>31.7</td>\n",
       "      <td>NaN</td>\n",
       "      <td>0.0</td>\n",
       "      <td>31.7</td>\n",
       "      <td>0.0</td>\n",
       "      <td>0.0</td>\n",
       "      <td>0.0</td>\n",
       "    </tr>\n",
       "    <tr>\n",
       "      <th>Hard Coal</th>\n",
       "      <td>0.0</td>\n",
       "      <td>0.0</td>\n",
       "      <td>0.0</td>\n",
       "      <td>10535.7</td>\n",
       "      <td>25312.6</td>\n",
       "      <td>25.8</td>\n",
       "      <td>263391.6</td>\n",
       "      <td>25312.6</td>\n",
       "      <td>272172.0</td>\n",
       "      <td>10535.7</td>\n",
       "      <td>0.0</td>\n",
       "    </tr>\n",
       "    <tr>\n",
       "      <th>Multiple</th>\n",
       "      <td>0.0</td>\n",
       "      <td>0.0</td>\n",
       "      <td>0.0</td>\n",
       "      <td>0.0</td>\n",
       "      <td>152.7</td>\n",
       "      <td>NaN</td>\n",
       "      <td>0.0</td>\n",
       "      <td>152.7</td>\n",
       "      <td>0.0</td>\n",
       "      <td>0.0</td>\n",
       "      <td>0.0</td>\n",
       "    </tr>\n",
       "    <tr>\n",
       "      <th>Nuclear</th>\n",
       "      <td>0.1</td>\n",
       "      <td>0.0</td>\n",
       "      <td>0.0</td>\n",
       "      <td>31473.0</td>\n",
       "      <td>12068.0</td>\n",
       "      <td>16.7</td>\n",
       "      <td>251784.0</td>\n",
       "      <td>12068.0</td>\n",
       "      <td>527108.2</td>\n",
       "      <td>31473.0</td>\n",
       "      <td>0.0</td>\n",
       "    </tr>\n",
       "    <tr>\n",
       "      <th>Oil</th>\n",
       "      <td>0.0</td>\n",
       "      <td>0.0</td>\n",
       "      <td>0.0</td>\n",
       "      <td>0.0</td>\n",
       "      <td>2710.2</td>\n",
       "      <td>NaN</td>\n",
       "      <td>0.0</td>\n",
       "      <td>2710.2</td>\n",
       "      <td>0.0</td>\n",
       "      <td>0.0</td>\n",
       "      <td>0.0</td>\n",
       "    </tr>\n",
       "    <tr>\n",
       "      <th>Other</th>\n",
       "      <td>0.0</td>\n",
       "      <td>0.0</td>\n",
       "      <td>0.0</td>\n",
       "      <td>336.0</td>\n",
       "      <td>3027.8</td>\n",
       "      <td>34.2</td>\n",
       "      <td>10752.0</td>\n",
       "      <td>3027.8</td>\n",
       "      <td>11503.2</td>\n",
       "      <td>336.0</td>\n",
       "      <td>0.0</td>\n",
       "    </tr>\n",
       "    <tr>\n",
       "      <th>Run of River</th>\n",
       "      <td>0.1</td>\n",
       "      <td>0.0</td>\n",
       "      <td>0.0</td>\n",
       "      <td>13723.3</td>\n",
       "      <td>3999.1</td>\n",
       "      <td>22.0</td>\n",
       "      <td>41170.0</td>\n",
       "      <td>3999.1</td>\n",
       "      <td>301812.2</td>\n",
       "      <td>13723.3</td>\n",
       "      <td>0.0</td>\n",
       "    </tr>\n",
       "    <tr>\n",
       "      <th>Solar</th>\n",
       "      <td>0.0</td>\n",
       "      <td>0.0</td>\n",
       "      <td>47391.0</td>\n",
       "      <td>0.0</td>\n",
       "      <td>37041.5</td>\n",
       "      <td>NaN</td>\n",
       "      <td>0.0</td>\n",
       "      <td>37041.5</td>\n",
       "      <td>0.0</td>\n",
       "      <td>0.0</td>\n",
       "      <td>0.0</td>\n",
       "    </tr>\n",
       "    <tr>\n",
       "      <th>Storage Hydro</th>\n",
       "      <td>0.1</td>\n",
       "      <td>0.0</td>\n",
       "      <td>0.0</td>\n",
       "      <td>3580.0</td>\n",
       "      <td>1445.0</td>\n",
       "      <td>20.4</td>\n",
       "      <td>10740.0</td>\n",
       "      <td>1445.0</td>\n",
       "      <td>72904.4</td>\n",
       "      <td>3580.0</td>\n",
       "      <td>0.0</td>\n",
       "    </tr>\n",
       "    <tr>\n",
       "      <th>Waste</th>\n",
       "      <td>0.1</td>\n",
       "      <td>0.0</td>\n",
       "      <td>0.0</td>\n",
       "      <td>4760.0</td>\n",
       "      <td>1645.9</td>\n",
       "      <td>20.5</td>\n",
       "      <td>28560.0</td>\n",
       "      <td>1645.9</td>\n",
       "      <td>97621.8</td>\n",
       "      <td>4760.0</td>\n",
       "      <td>0.0</td>\n",
       "    </tr>\n",
       "    <tr>\n",
       "      <th>Wind Offshore</th>\n",
       "      <td>0.1</td>\n",
       "      <td>0.0</td>\n",
       "      <td>63086.3</td>\n",
       "      <td>6387.4</td>\n",
       "      <td>2973.5</td>\n",
       "      <td>2.2</td>\n",
       "      <td>0.0</td>\n",
       "      <td>2973.5</td>\n",
       "      <td>14034.2</td>\n",
       "      <td>6387.4</td>\n",
       "      <td>0.0</td>\n",
       "    </tr>\n",
       "    <tr>\n",
       "      <th>Wind Onshore</th>\n",
       "      <td>0.1</td>\n",
       "      <td>0.0</td>\n",
       "      <td>390798.2</td>\n",
       "      <td>82642.1</td>\n",
       "      <td>37339.9</td>\n",
       "      <td>4.9</td>\n",
       "      <td>0.0</td>\n",
       "      <td>37339.9</td>\n",
       "      <td>406030.6</td>\n",
       "      <td>82642.1</td>\n",
       "      <td>0.0</td>\n",
       "    </tr>\n",
       "    <tr>\n",
       "      <th>Line</th>\n",
       "      <th>AC</th>\n",
       "      <td>0.0</td>\n",
       "      <td>0.0</td>\n",
       "      <td>NaN</td>\n",
       "      <td>17195.2</td>\n",
       "      <td>961101.1</td>\n",
       "      <td>60.8</td>\n",
       "      <td>NaN</td>\n",
       "      <td>961101.1</td>\n",
       "      <td>1045149.1</td>\n",
       "      <td>843186.8</td>\n",
       "      <td>-843186.8</td>\n",
       "    </tr>\n",
       "    <tr>\n",
       "      <th>Load</th>\n",
       "      <th>-</th>\n",
       "      <td>NaN</td>\n",
       "      <td>NaN</td>\n",
       "      <td>NaN</td>\n",
       "      <td>-195357.1</td>\n",
       "      <td>NaN</td>\n",
       "      <td>-17.4</td>\n",
       "      <td>NaN</td>\n",
       "      <td>NaN</td>\n",
       "      <td>3396077.6</td>\n",
       "      <td>0.0</td>\n",
       "      <td>-195357.1</td>\n",
       "    </tr>\n",
       "    <tr>\n",
       "      <th>StorageUnit</th>\n",
       "      <th>Pumped Hydro</th>\n",
       "      <td>0.0</td>\n",
       "      <td>0.0</td>\n",
       "      <td>0.0</td>\n",
       "      <td>-1018.9</td>\n",
       "      <td>9179.5</td>\n",
       "      <td>-3.9</td>\n",
       "      <td>0.0</td>\n",
       "      <td>9179.5</td>\n",
       "      <td>4013.3</td>\n",
       "      <td>0.0</td>\n",
       "      <td>-1018.9</td>\n",
       "    </tr>\n",
       "    <tr>\n",
       "      <th>Transformer</th>\n",
       "      <th>-</th>\n",
       "      <td>0.0</td>\n",
       "      <td>0.0</td>\n",
       "      <td>NaN</td>\n",
       "      <td>-13993.7</td>\n",
       "      <td>192000.0</td>\n",
       "      <td>-3.7</td>\n",
       "      <td>NaN</td>\n",
       "      <td>192000.0</td>\n",
       "      <td>51490.2</td>\n",
       "      <td>103485.3</td>\n",
       "      <td>-103485.3</td>\n",
       "    </tr>\n",
       "  </tbody>\n",
       "</table>\n",
       "</div>"
      ],
      "text/plain": [
       "                           Capacity Factor  Capital Expenditure  Curtailment  \\\n",
       "            carrier                                                            \n",
       "Generator   Brown Coal                 0.1                  0.0          0.0   \n",
       "            Gas                        0.0                  0.0          0.0   \n",
       "            Geothermal                 0.0                  0.0          0.0   \n",
       "            Hard Coal                  0.0                  0.0          0.0   \n",
       "            Multiple                   0.0                  0.0          0.0   \n",
       "            Nuclear                    0.1                  0.0          0.0   \n",
       "            Oil                        0.0                  0.0          0.0   \n",
       "            Other                      0.0                  0.0          0.0   \n",
       "            Run of River               0.1                  0.0          0.0   \n",
       "            Solar                      0.0                  0.0      47391.0   \n",
       "            Storage Hydro              0.1                  0.0          0.0   \n",
       "            Waste                      0.1                  0.0          0.0   \n",
       "            Wind Offshore              0.1                  0.0      63086.3   \n",
       "            Wind Onshore               0.1                  0.0     390798.2   \n",
       "Line        AC                         0.0                  0.0          NaN   \n",
       "Load        -                          NaN                  NaN          NaN   \n",
       "StorageUnit Pumped Hydro               0.0                  0.0          0.0   \n",
       "Transformer -                          0.0                  0.0          NaN   \n",
       "\n",
       "                           Dispatch  Installed Capacity  Market Value  \\\n",
       "            carrier                                                     \n",
       "Generator   Brown Coal      42859.0             20879.5          13.7   \n",
       "            Gas                79.4             23913.1          50.0   \n",
       "            Geothermal          0.0                31.7           NaN   \n",
       "            Hard Coal       10535.7             25312.6          25.8   \n",
       "            Multiple            0.0               152.7           NaN   \n",
       "            Nuclear         31473.0             12068.0          16.7   \n",
       "            Oil                 0.0              2710.2           NaN   \n",
       "            Other             336.0              3027.8          34.2   \n",
       "            Run of River    13723.3              3999.1          22.0   \n",
       "            Solar               0.0             37041.5           NaN   \n",
       "            Storage Hydro    3580.0              1445.0          20.4   \n",
       "            Waste            4760.0              1645.9          20.5   \n",
       "            Wind Offshore    6387.4              2973.5           2.2   \n",
       "            Wind Onshore    82642.1             37339.9           4.9   \n",
       "Line        AC              17195.2            961101.1          60.8   \n",
       "Load        -             -195357.1                 NaN         -17.4   \n",
       "StorageUnit Pumped Hydro    -1018.9              9179.5          -3.9   \n",
       "Transformer -              -13993.7            192000.0          -3.7   \n",
       "\n",
       "                           Operational Expenditure  Optimal Capacity  \\\n",
       "            carrier                                                    \n",
       "Generator   Brown Coal                    428590.3           20879.5   \n",
       "            Gas                             3971.9           23913.1   \n",
       "            Geothermal                         0.0              31.7   \n",
       "            Hard Coal                     263391.6           25312.6   \n",
       "            Multiple                           0.0             152.7   \n",
       "            Nuclear                       251784.0           12068.0   \n",
       "            Oil                                0.0            2710.2   \n",
       "            Other                          10752.0            3027.8   \n",
       "            Run of River                   41170.0            3999.1   \n",
       "            Solar                              0.0           37041.5   \n",
       "            Storage Hydro                  10740.0            1445.0   \n",
       "            Waste                          28560.0            1645.9   \n",
       "            Wind Offshore                      0.0            2973.5   \n",
       "            Wind Onshore                       0.0           37339.9   \n",
       "Line        AC                                 NaN          961101.1   \n",
       "Load        -                                  NaN               NaN   \n",
       "StorageUnit Pumped Hydro                       0.0            9179.5   \n",
       "Transformer -                                  NaN          192000.0   \n",
       "\n",
       "                             Revenue    Supply  Withdrawal  \n",
       "            carrier                                         \n",
       "Generator   Brown Coal      588266.5   42859.0         0.0  \n",
       "            Gas               3971.9      79.4         0.0  \n",
       "            Geothermal           0.0       0.0         0.0  \n",
       "            Hard Coal       272172.0   10535.7         0.0  \n",
       "            Multiple             0.0       0.0         0.0  \n",
       "            Nuclear         527108.2   31473.0         0.0  \n",
       "            Oil                  0.0       0.0         0.0  \n",
       "            Other            11503.2     336.0         0.0  \n",
       "            Run of River    301812.2   13723.3         0.0  \n",
       "            Solar                0.0       0.0         0.0  \n",
       "            Storage Hydro    72904.4    3580.0         0.0  \n",
       "            Waste            97621.8    4760.0         0.0  \n",
       "            Wind Offshore    14034.2    6387.4         0.0  \n",
       "            Wind Onshore    406030.6   82642.1         0.0  \n",
       "Line        AC             1045149.1  843186.8   -843186.8  \n",
       "Load        -              3396077.6       0.0   -195357.1  \n",
       "StorageUnit Pumped Hydro      4013.3       0.0     -1018.9  \n",
       "Transformer -                51490.2  103485.3   -103485.3  "
      ]
     },
     "execution_count": 5,
     "metadata": {},
     "output_type": "execute_result"
    }
   ],
   "source": [
    "n.statistics().round(1)"
   ]
  },
  {
   "cell_type": "markdown",
   "metadata": {},
   "source": [
    "As you can see there is now much more information available. There are still no capital expenditures in the network, because we only performed an operational optimization with this example network.\n",
    "\n",
    "If you are interested in a specific metric, e.g. curtailment, you can run"
   ]
  },
  {
   "cell_type": "code",
   "execution_count": 99,
   "metadata": {},
   "outputs": [
    {
     "data": {
      "text/plain": [
       "           carrier      \n",
       "Generator  Solar             47391.043207\n",
       "           Wind Offshore     63086.266344\n",
       "           Wind Onshore     390798.156206\n",
       "dtype: float64"
      ]
     },
     "execution_count": 99,
     "metadata": {},
     "output_type": "execute_result"
    }
   ],
   "source": [
    "curtailment = n.statistics.curtailment()\n",
    "curtailment[curtailment!=0]"
   ]
  },
  {
   "cell_type": "markdown",
   "metadata": {},
   "source": [
    "Note that when calling a specific metric the `statistics` module returns a `pandas.Series`.\n",
    "To find the unit of the data returned by `statistics`, you can call `attrs` on the `DataFrame` or `Series`."
   ]
  },
  {
   "cell_type": "code",
   "execution_count": 7,
   "metadata": {},
   "outputs": [
    {
     "data": {
      "text/plain": [
       "{'name': 'Curtailment', 'unit': 'MWh'}"
      ]
     },
     "execution_count": 7,
     "metadata": {},
     "output_type": "execute_result"
    }
   ],
   "source": [
    "curtailment.attrs"
   ]
  },
  {
   "cell_type": "markdown",
   "metadata": {},
   "source": [
    "So the unit of curtailment is given in `MWh`. You can also customize your request.\n",
    "\n",
    "For this you have various options:\n",
    "1. You can select the component from which you want to get the metric with the attribute `comps`. Careful, `comps` has to be a list of strings."
   ]
  },
  {
   "cell_type": "code",
   "execution_count": 102,
   "metadata": {},
   "outputs": [
    {
     "data": {
      "text/plain": [
       "           carrier      \n",
       "Generator  Brown Coal       42859.029000\n",
       "           Gas                 79.437970\n",
       "           Geothermal           0.000000\n",
       "           Hard Coal        10535.663500\n",
       "           Multiple             0.000000\n",
       "           Nuclear          31472.994000\n",
       "           Oil                  0.000000\n",
       "           Other              336.000000\n",
       "           Run of River     13723.318200\n",
       "           Solar                0.000000\n",
       "           Storage Hydro     3580.000000\n",
       "           Waste             4760.000000\n",
       "           Wind Offshore     6387.383000\n",
       "           Wind Onshore     82642.127289\n",
       "Name: generators, dtype: float64"
      ]
     },
     "execution_count": 102,
     "metadata": {},
     "output_type": "execute_result"
    }
   ],
   "source": [
    "n.statistics.supply(comps=[\"Generator\"])"
   ]
  },
  {
   "cell_type": "markdown",
   "metadata": {},
   "source": [
    "2. For metrics which have a time dimension, you can choose the aggregation method or decide to not aggregate them at all. Just use the `aggregate_time` attribute to specify what you want to do.\n",
    "\n",
    "For example calculate the mean supply/generation per time step is"
   ]
  },
  {
   "cell_type": "code",
   "execution_count": 103,
   "metadata": {},
   "outputs": [
    {
     "data": {
      "text/plain": [
       "           carrier      \n",
       "Generator  Brown Coal       1785.792875\n",
       "           Gas                 3.309915\n",
       "           Geothermal          0.000000\n",
       "           Hard Coal         438.985979\n",
       "           Multiple            0.000000\n",
       "           Nuclear          1311.374750\n",
       "           Oil                 0.000000\n",
       "           Other              14.000000\n",
       "           Run of River      571.804925\n",
       "           Solar               0.000000\n",
       "           Storage Hydro     149.166667\n",
       "           Waste             198.333333\n",
       "           Wind Offshore     266.140958\n",
       "           Wind Onshore     3443.421970\n",
       "dtype: float64"
      ]
     },
     "execution_count": 103,
     "metadata": {},
     "output_type": "execute_result"
    }
   ],
   "source": [
    "n.statistics.supply(comps=[\"Generator\"], aggregate_time=\"mean\")"
   ]
  },
  {
   "cell_type": "markdown",
   "metadata": {},
   "source": [
    "Or retrieve the supply time series by not aggregating the time series. "
   ]
  },
  {
   "cell_type": "code",
   "execution_count": 104,
   "metadata": {},
   "outputs": [
    {
     "data": {
      "text/html": [
       "<div>\n",
       "<style scoped>\n",
       "    .dataframe tbody tr th:only-of-type {\n",
       "        vertical-align: middle;\n",
       "    }\n",
       "\n",
       "    .dataframe tbody tr th {\n",
       "        vertical-align: top;\n",
       "    }\n",
       "\n",
       "    .dataframe thead th {\n",
       "        text-align: right;\n",
       "    }\n",
       "</style>\n",
       "<table border=\"1\" class=\"dataframe\">\n",
       "  <thead>\n",
       "    <tr style=\"text-align: right;\">\n",
       "      <th></th>\n",
       "      <th>snapshot</th>\n",
       "      <th>2011-01-01 00:00:00</th>\n",
       "      <th>2011-01-01 01:00:00</th>\n",
       "      <th>2011-01-01 02:00:00</th>\n",
       "      <th>2011-01-01 03:00:00</th>\n",
       "    </tr>\n",
       "    <tr>\n",
       "      <th></th>\n",
       "      <th>carrier</th>\n",
       "      <th></th>\n",
       "      <th></th>\n",
       "      <th></th>\n",
       "      <th></th>\n",
       "    </tr>\n",
       "  </thead>\n",
       "  <tbody>\n",
       "    <tr>\n",
       "      <th rowspan=\"14\" valign=\"top\">Generator</th>\n",
       "      <th>Brown Coal</th>\n",
       "      <td>12563.897000</td>\n",
       "      <td>10848.560000</td>\n",
       "      <td>10006.395000</td>\n",
       "      <td>9440.17700</td>\n",
       "    </tr>\n",
       "    <tr>\n",
       "      <th>Gas</th>\n",
       "      <td>35.826800</td>\n",
       "      <td>23.721700</td>\n",
       "      <td>13.083000</td>\n",
       "      <td>6.80647</td>\n",
       "    </tr>\n",
       "    <tr>\n",
       "      <th>Geothermal</th>\n",
       "      <td>0.000000</td>\n",
       "      <td>0.000000</td>\n",
       "      <td>0.000000</td>\n",
       "      <td>0.00000</td>\n",
       "    </tr>\n",
       "    <tr>\n",
       "      <th>Hard Coal</th>\n",
       "      <td>4778.482000</td>\n",
       "      <td>3124.547000</td>\n",
       "      <td>1722.869000</td>\n",
       "      <td>909.76550</td>\n",
       "    </tr>\n",
       "    <tr>\n",
       "      <th>Multiple</th>\n",
       "      <td>0.000000</td>\n",
       "      <td>0.000000</td>\n",
       "      <td>0.000000</td>\n",
       "      <td>0.00000</td>\n",
       "    </tr>\n",
       "    <tr>\n",
       "      <th>Nuclear</th>\n",
       "      <td>7842.041000</td>\n",
       "      <td>7863.186000</td>\n",
       "      <td>7882.532000</td>\n",
       "      <td>7885.23500</td>\n",
       "    </tr>\n",
       "    <tr>\n",
       "      <th>Oil</th>\n",
       "      <td>0.000000</td>\n",
       "      <td>0.000000</td>\n",
       "      <td>0.000000</td>\n",
       "      <td>0.00000</td>\n",
       "    </tr>\n",
       "    <tr>\n",
       "      <th>Other</th>\n",
       "      <td>84.000000</td>\n",
       "      <td>84.000000</td>\n",
       "      <td>84.000000</td>\n",
       "      <td>84.00000</td>\n",
       "    </tr>\n",
       "    <tr>\n",
       "      <th>Run of River</th>\n",
       "      <td>3458.909000</td>\n",
       "      <td>3419.332800</td>\n",
       "      <td>3413.465800</td>\n",
       "      <td>3431.61060</td>\n",
       "    </tr>\n",
       "    <tr>\n",
       "      <th>Solar</th>\n",
       "      <td>0.000000</td>\n",
       "      <td>0.000000</td>\n",
       "      <td>0.000000</td>\n",
       "      <td>0.00000</td>\n",
       "    </tr>\n",
       "    <tr>\n",
       "      <th>Storage Hydro</th>\n",
       "      <td>895.000000</td>\n",
       "      <td>895.000000</td>\n",
       "      <td>895.000000</td>\n",
       "      <td>895.00000</td>\n",
       "    </tr>\n",
       "    <tr>\n",
       "      <th>Waste</th>\n",
       "      <td>1167.500000</td>\n",
       "      <td>1240.500000</td>\n",
       "      <td>1184.500000</td>\n",
       "      <td>1167.50000</td>\n",
       "    </tr>\n",
       "    <tr>\n",
       "      <th>Wind Offshore</th>\n",
       "      <td>2489.407000</td>\n",
       "      <td>951.186000</td>\n",
       "      <td>1580.327000</td>\n",
       "      <td>1366.46300</td>\n",
       "    </tr>\n",
       "    <tr>\n",
       "      <th>Wind Onshore</th>\n",
       "      <td>18800.568772</td>\n",
       "      <td>21313.374768</td>\n",
       "      <td>21039.168909</td>\n",
       "      <td>21489.01484</td>\n",
       "    </tr>\n",
       "  </tbody>\n",
       "</table>\n",
       "</div>"
      ],
      "text/plain": [
       "snapshot                 2011-01-01 00:00:00  2011-01-01 01:00:00  \\\n",
       "          carrier                                                   \n",
       "Generator Brown Coal            12563.897000         10848.560000   \n",
       "          Gas                      35.826800            23.721700   \n",
       "          Geothermal                0.000000             0.000000   \n",
       "          Hard Coal              4778.482000          3124.547000   \n",
       "          Multiple                  0.000000             0.000000   \n",
       "          Nuclear                7842.041000          7863.186000   \n",
       "          Oil                       0.000000             0.000000   \n",
       "          Other                    84.000000            84.000000   \n",
       "          Run of River           3458.909000          3419.332800   \n",
       "          Solar                     0.000000             0.000000   \n",
       "          Storage Hydro           895.000000           895.000000   \n",
       "          Waste                  1167.500000          1240.500000   \n",
       "          Wind Offshore          2489.407000           951.186000   \n",
       "          Wind Onshore          18800.568772         21313.374768   \n",
       "\n",
       "snapshot                 2011-01-01 02:00:00  2011-01-01 03:00:00  \n",
       "          carrier                                                  \n",
       "Generator Brown Coal            10006.395000           9440.17700  \n",
       "          Gas                      13.083000              6.80647  \n",
       "          Geothermal                0.000000              0.00000  \n",
       "          Hard Coal              1722.869000            909.76550  \n",
       "          Multiple                  0.000000              0.00000  \n",
       "          Nuclear                7882.532000           7885.23500  \n",
       "          Oil                       0.000000              0.00000  \n",
       "          Other                    84.000000             84.00000  \n",
       "          Run of River           3413.465800           3431.61060  \n",
       "          Solar                     0.000000              0.00000  \n",
       "          Storage Hydro           895.000000            895.00000  \n",
       "          Waste                  1184.500000           1167.50000  \n",
       "          Wind Offshore          1580.327000           1366.46300  \n",
       "          Wind Onshore          21039.168909          21489.01484  "
      ]
     },
     "execution_count": 104,
     "metadata": {},
     "output_type": "execute_result"
    }
   ],
   "source": [
    "n.statistics.supply(comps=[\"Generator\"], aggregate_time=False).iloc[:, :4]"
   ]
  },
  {
   "cell_type": "markdown",
   "metadata": {},
   "source": [
    "3. You can choose how you want to group the components of the network and how to aggregate the groups. By default the components are grouped by their carriers and summed. However, you can change this by providing different `groupby` and `aggregate_groups` attributes."
   ]
  },
  {
   "cell_type": "code",
   "execution_count": 105,
   "metadata": {},
   "outputs": [
    {
     "data": {
      "text/plain": [
       "           bus      \n",
       "Generator  1               0.000000\n",
       "           100_220kV       0.000000\n",
       "           101          1392.589000\n",
       "           102           970.750000\n",
       "           103             0.127076\n",
       "                           ...     \n",
       "           95_220kV      186.429300\n",
       "           96_220kV       53.032800\n",
       "           97              0.002514\n",
       "           98            335.603700\n",
       "           99_220kV        0.000000\n",
       "Name: generators, Length: 489, dtype: float64"
      ]
     },
     "execution_count": 105,
     "metadata": {},
     "output_type": "execute_result"
    }
   ],
   "source": [
    "n.statistics.supply(comps=[\"Generator\"], groupby=[\"bus\"], aggregate_groups=\"max\")"
   ]
  },
  {
   "cell_type": "markdown",
   "metadata": {},
   "source": [
    "Now you obtained the maximal supply in one time step for every bus in the network.\n",
    "\n",
    "Often it is better when inspecting your network to visualize the tables. Therefore, you can easily make plots to analyze your results. For example the supply of the generators."
   ]
  },
  {
   "cell_type": "code",
   "execution_count": 106,
   "metadata": {},
   "outputs": [
    {
     "data": {
      "text/plain": [
       "<Axes: title={'center': 'Generator in GWh'}, xlabel='carrier'>"
      ]
     },
     "execution_count": 106,
     "metadata": {},
     "output_type": "execute_result"
    },
    {
     "data": {
      "image/png": "[encoded data removed]",
      "text/plain": [
       "<Figure size 640x480 with 1 Axes>"
      ]
     },
     "metadata": {},
     "output_type": "display_data"
    }
   ],
   "source": [
    "n.statistics.supply(comps=[\"Generator\"]).droplevel(0).div(1e3).plot.bar(title=\"Generator in GWh\")"
   ]
  },
  {
   "cell_type": "markdown",
   "metadata": {},
   "source": [
    "Or you could plot the generation time series of the generators."
   ]
  },
  {
   "cell_type": "code",
   "execution_count": 31,
   "metadata": {},
   "outputs": [
    {
     "data": {
      "text/plain": [
       "<matplotlib.legend.Legend at 0x7f27f5d84e90>"
      ]
     },
     "execution_count": 31,
     "metadata": {},
     "output_type": "execute_result"
    },
    {
     "data": {
      "image/png": "[encoded data removed]",
      "text/plain": [
       "<Figure size 640x480 with 1 Axes>"
      ]
     },
     "metadata": {},
     "output_type": "display_data"
    }
   ],
   "source": [
    "fig, ax = plt.subplots()\n",
    "n.statistics.supply(comps=[\"Generator\"], aggregate_time=False).droplevel(0).iloc[:, :4].div(\n",
    "    1e3\n",
    ").T.plot.area(\n",
    "    title=\"Generation in GW\",\n",
    "    ax=ax,\n",
    "    legend=False,\n",
    "    linewidth=0,\n",
    ")\n",
    "ax.legend(bbox_to_anchor=(1, 0), loc=\"lower left\", title=None, ncol=1)"
   ]
  },
  {
   "cell_type": "markdown",
   "metadata": {},
   "source": [
    "Finally, we want to look at the energy balance of the network. The energy balance is not included in the overview of the statistics module. To calculate the energy balance, you can do"
   ]
  },
  {
   "cell_type": "code",
   "execution_count": 14,
   "metadata": {},
   "outputs": [
    {
     "data": {
      "text/plain": [
       "             carrier        bus_carrier\n",
       "Generator    Brown Coal     AC             4.285903e+04\n",
       "             Gas            AC             7.943797e+01\n",
       "             Geothermal     AC             0.000000e+00\n",
       "             Hard Coal      AC             1.053566e+04\n",
       "             Multiple       AC             0.000000e+00\n",
       "             Nuclear        AC             3.147299e+04\n",
       "             Oil            AC             0.000000e+00\n",
       "             Other          AC             3.360000e+02\n",
       "             Run of River   AC             1.372332e+04\n",
       "             Solar          AC             0.000000e+00\n",
       "             Storage Hydro  AC             3.580000e+03\n",
       "             Waste          AC             4.760000e+03\n",
       "             Wind Offshore  AC             6.387383e+03\n",
       "             Wind Onshore   AC             8.264213e+04\n",
       "Transformer  -              AC            -5.684342e-13\n",
       "StorageUnit  Pumped Hydro   AC            -1.018866e+03\n",
       "Load         -              AC            -1.953571e+05\n",
       "Line         AC             AC            -6.821210e-13\n",
       "dtype: float64"
      ]
     },
     "execution_count": 14,
     "metadata": {},
     "output_type": "execute_result"
    }
   ],
   "source": [
    "n.statistics.energy_balance()"
   ]
  },
  {
   "cell_type": "markdown",
   "metadata": {},
   "source": [
    "Note that there is now an additional index level called bus carrier. This is because an energy balance is defined for every bus carrier. The bus carriers you have in your network you can find by looking at `n.buses.carrier.unique()`. For this network, there is only one bus carrier which is AC and corresponds to electricity. However, you can have further bus carriers for example when you have a sector coupled network. You could have heat or CO $_2$ as bus carrier. Therefore, for many `statistics` functions you have to be careful about the units of the values and it is not always given by the `attr` object of the `DataFrame` or `Series`.\n",
    "\n",
    "Finally, we want to plot the energy balance and the energy balance time series for electrcity which has the bus carrier AC. In a sector coupled network, you could also choose other bus carriers like H2 or heat. Note that in this example \"-\" represents the load in the system."
   ]
  },
  {
   "cell_type": "code",
   "execution_count": 33,
   "metadata": {},
   "outputs": [
    {
     "data": {
      "text/plain": [
       "<matplotlib.legend.Legend at 0x7f27f5bccb90>"
      ]
     },
     "execution_count": 33,
     "metadata": {},
     "output_type": "execute_result"
    },
    {
     "data": {
      "image/png": "[encoded data removed]",
      "text/plain": [
       "<Figure size 640x480 with 1 Axes>"
      ]
     },
     "metadata": {},
     "output_type": "display_data"
    }
   ],
   "source": [
    "fig, ax = plt.subplots()\n",
    "n.statistics.energy_balance().loc[:,:,\"AC\"].groupby(\"carrier\").sum().to_frame().T.plot.bar(stacked=True, ax=ax,     title=\"Energy Balance\")\n",
    "ax.legend(bbox_to_anchor=(1, 0), loc=\"lower left\", title=None, ncol=1)"
   ]
  },
  {
   "cell_type": "code",
   "execution_count": 107,
   "metadata": {},
   "outputs": [
    {
     "data": {
      "text/plain": [
       "<matplotlib.legend.Legend at 0x7f27ee0d8690>"
      ]
     },
     "execution_count": 107,
     "metadata": {},
     "output_type": "execute_result"
    },
    {
     "data": {
      "image/png": "[encoded data removed]",
      "text/plain": [
       "<Figure size 640x480 with 1 Axes>"
      ]
     },
     "metadata": {},
     "output_type": "display_data"
    }
   ],
   "source": [
    "fig, ax = plt.subplots()\n",
    "n.statistics.energy_balance(aggregate_time=False).loc[:,:,\"AC\"].droplevel(0).iloc[:,:4].groupby(\"carrier\").sum().where(lambda x: np.abs(x)>1).fillna(0).T.plot.area(ax=ax, title=\"Energy Balance Timeseries\")\n",
    "ax.legend(bbox_to_anchor=(1, 0), loc=\"lower left\", title=None, ncol=1)"
   ]
  }
 ],
 "metadata": {
  "kernelspec": {
   "display_name": "pypsa",
   "language": "python",
   "name": "python3"
  },
  "language_info": {
   "codemirror_mode": {
    "name": "ipython",
    "version": 3
   },
   "file_extension": ".py",
   "mimetype": "text/x-python",
   "name": "python",
   "nbconvert_exporter": "python",
   "pygments_lexer": "ipython3",
   "version": "3.11.4"
  },
  "orig_nbformat": 4
 },
 "nbformat": 4,
 "nbformat_minor": 2
}
