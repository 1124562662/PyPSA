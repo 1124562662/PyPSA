{
 "cells": [
  {
   "cell_type": "markdown",
   "metadata": {},
   "source": [
    "# Stochastic optimisation example\n",
    "\n",
    "This example optimises a single node with only a wind, solar, gas and lignite generator under uncertainty about the gas price.\n",
    "\n",
    "In Stage 1 decisions are made about capacities of the generators while the gas price is unknown.\n",
    "\n",
    "\n",
    "First we solve assuming knowledge about the gas price, then stochastically according to the probability distribution of gas prices.\n",
    "\n",
    "We then show that the average total cost of the system of the stochastically optimised capacities is lower than the means of the solutions from the deterministically determined capacities.\n",
    "\n"
   ]
  },
  {
   "cell_type": "markdown",
   "metadata": {},
   "source": [
    "### Required data\n",
    "\n",
    "For this example, we need solar and wind generation time-series. For convenience, we will be fetching the time-series data directly from the renewables.ninja server. An arbitrary example of Germany's data is retrieved. \n",
    "\n",
    "The fetched files: \n",
    "- PV (1985-2016, SARAH) (6.37 MB)\n",
    "- Wind (Current fleet, onshore/offshore separate, MERRA-2) (13.93 MB)\n",
    "\n",
    "See: https://www.renewables.ninja/ \n"
   ]
  },
  {
   "cell_type": "markdown",
   "metadata": {},
   "source": [
    "### Dependencies"
   ]
  },
  {
   "cell_type": "code",
   "execution_count": 140,
   "metadata": {},
   "outputs": [],
   "source": [
    "import requests\n",
    "from io import StringIO\n",
    "\n",
    "import pypsa, pandas as pd, numpy as np\n",
    "import matplotlib.pyplot as plt\n",
    "\n",
    "from xarray import DataArray\n",
    "from pypsa.optimization.common import reindex\n",
    "from pypsa.descriptors import get_switchable_as_dense as get_as_dense\n",
    "from pypsa.descriptors import nominal_attrs\n",
    "from pypsa.descriptors import (\n",
    "    additional_linkports,\n",
    "    expand_series,\n",
    "    get_activity_mask,\n",
    "    get_bounds_pu,\n",
    ")\n",
    "from linopy.expressions import LinearExpression, merge"
   ]
  },
  {
   "cell_type": "code",
   "execution_count": 141,
   "metadata": {},
   "outputs": [],
   "source": [
    "%matplotlib inline"
   ]
  },
  {
   "cell_type": "markdown",
   "metadata": {},
   "source": [
    "### Retrieve PV & Wind data"
   ]
  },
  {
   "cell_type": "code",
   "execution_count": 142,
   "metadata": {},
   "outputs": [],
   "source": [
    "urls = {\n",
    "    \"solar_pu\": \"https://www.renewables.ninja/country_downloads/DE/ninja_pv_country_DE_sarah_corrected.csv\",\n",
    "    \"wind_pu\": \"https://www.renewables.ninja/country_downloads/DE/ninja_wind_country_DE_current-merra-2_corrected.csv\",\n",
    "}"
   ]
  },
  {
   "cell_type": "code",
   "execution_count": 143,
   "metadata": {},
   "outputs": [],
   "source": [
    "def fetch_timeseries_data(url):\n",
    "    \"\"\"Fetch the timeseries data from the renewable.ninja server\"\"\"\n",
    "\n",
    "    response = requests.get(url)\n",
    "    response.raise_for_status()  # Raise an error for bad responses\n",
    "    \n",
    "    return pd.read_csv(\n",
    "        StringIO(response.text), skiprows=2, parse_dates=[\"time\"], index_col=\"time\"\n",
    "    )[\"national\"]"
   ]
  },
  {
   "cell_type": "code",
   "execution_count": 144,
   "metadata": {},
   "outputs": [],
   "source": [
    "solar_pu = fetch_timeseries_data(urls[\"solar_pu\"])\n",
    "wind_pu = fetch_timeseries_data(urls[\"wind_pu\"])"
   ]
  },
  {
   "cell_type": "markdown",
   "metadata": {},
   "source": [
    "### Major settings"
   ]
  },
  {
   "cell_type": "code",
   "execution_count": 145,
   "metadata": {},
   "outputs": [],
   "source": [
    "scenarios = [\"low\", \"med\", \"high\"]\n",
    "\n",
    "# this just determines the default scenario when building stochastic model\n",
    "base_scenario = \"low\"\n",
    "\n",
    "# in EUR/MWh_th\n",
    "gas_prices = {\"low\": 50, \"med\": 100, \"high\": 400}\n",
    "\n",
    "probability = {\"low\": 0.4, \"med\": 0.3, \"high\": 0.3}"
   ]
  },
  {
   "cell_type": "code",
   "execution_count": 146,
   "metadata": {},
   "outputs": [],
   "source": [
    "# years for weather data (solar is 1985-2015 inclusive, wind is 1980-2019)\n",
    "year_start = 2015\n",
    "year_end = 2015\n",
    "\n",
    "# 1 is hourly, 3 is 3-hourly\n",
    "frequency = 3\n",
    "\n",
    "# Fixed load in MW\n",
    "load = 1\n",
    "\n",
    "# https://github.com/ERGO-Code/HiGHS\n",
    "solver_name = \"highs\"\n",
    "\n",
    "cts = [\"DE\"]"
   ]
  },
  {
   "cell_type": "markdown",
   "metadata": {},
   "source": [
    "### Prepare data"
   ]
  },
  {
   "cell_type": "code",
   "execution_count": 147,
   "metadata": {},
   "outputs": [
    {
     "data": {
      "text/html": [
       "<div>\n",
       "<style scoped>\n",
       "    .dataframe tbody tr th:only-of-type {\n",
       "        vertical-align: middle;\n",
       "    }\n",
       "\n",
       "    .dataframe tbody tr th {\n",
       "        vertical-align: top;\n",
       "    }\n",
       "\n",
       "    .dataframe thead th {\n",
       "        text-align: right;\n",
       "    }\n",
       "</style>\n",
       "<table border=\"1\" class=\"dataframe\">\n",
       "  <thead>\n",
       "    <tr style=\"text-align: right;\">\n",
       "      <th></th>\n",
       "      <th>FOM</th>\n",
       "      <th>discount rate</th>\n",
       "      <th>efficiency</th>\n",
       "      <th>investment</th>\n",
       "      <th>lifetime</th>\n",
       "      <th>fixed</th>\n",
       "    </tr>\n",
       "  </thead>\n",
       "  <tbody>\n",
       "    <tr>\n",
       "      <th>default</th>\n",
       "      <td>3.0</td>\n",
       "      <td>0.03</td>\n",
       "      <td>NaN</td>\n",
       "      <td>NaN</td>\n",
       "      <td>25</td>\n",
       "      <td>NaN</td>\n",
       "    </tr>\n",
       "    <tr>\n",
       "      <th>onshore wind</th>\n",
       "      <td>3.0</td>\n",
       "      <td>0.03</td>\n",
       "      <td>NaN</td>\n",
       "      <td>2000000.0</td>\n",
       "      <td>25</td>\n",
       "      <td>174855.742078</td>\n",
       "    </tr>\n",
       "    <tr>\n",
       "      <th>utility solar PV</th>\n",
       "      <td>3.0</td>\n",
       "      <td>0.03</td>\n",
       "      <td>NaN</td>\n",
       "      <td>1000000.0</td>\n",
       "      <td>25</td>\n",
       "      <td>87427.871039</td>\n",
       "    </tr>\n",
       "    <tr>\n",
       "      <th>gas CCGT</th>\n",
       "      <td>3.0</td>\n",
       "      <td>0.03</td>\n",
       "      <td>0.6</td>\n",
       "      <td>700000.0</td>\n",
       "      <td>25</td>\n",
       "      <td>61199.509727</td>\n",
       "    </tr>\n",
       "    <tr>\n",
       "      <th>lignite</th>\n",
       "      <td>3.0</td>\n",
       "      <td>0.03</td>\n",
       "      <td>0.3</td>\n",
       "      <td>1500000.0</td>\n",
       "      <td>25</td>\n",
       "      <td>131141.806559</td>\n",
       "    </tr>\n",
       "  </tbody>\n",
       "</table>\n",
       "</div>"
      ],
      "text/plain": [
       "                  FOM  discount rate efficiency investment  lifetime  \\\n",
       "default           3.0           0.03        NaN        NaN        25   \n",
       "onshore wind      3.0           0.03        NaN  2000000.0        25   \n",
       "utility solar PV  3.0           0.03        NaN  1000000.0        25   \n",
       "gas CCGT          3.0           0.03        0.6   700000.0        25   \n",
       "lignite           3.0           0.03        0.3  1500000.0        25   \n",
       "\n",
       "                          fixed  \n",
       "default                     NaN  \n",
       "onshore wind      174855.742078  \n",
       "utility solar PV   87427.871039  \n",
       "gas CCGT           61199.509727  \n",
       "lignite           131141.806559  "
      ]
     },
     "execution_count": 147,
     "metadata": {},
     "output_type": "execute_result"
    }
   ],
   "source": [
    "assumptions = pd.DataFrame(\n",
    "    columns=[\"FOM\", \"discount rate\", \"efficiency\", \"investment\", \"lifetime\"],\n",
    "    index=[\"default\", \"onshore wind\", \"utility solar PV\", \"gas CCGT\", \"lignite\"],\n",
    ")\n",
    "\n",
    "assumptions.at[\"default\", \"FOM\"] = 3.0\n",
    "assumptions.at[\"default\", \"discount rate\"] = 0.03\n",
    "assumptions.at[\"default\", \"lifetime\"] = 25\n",
    "\n",
    "assumptions.at[\"onshore wind\", \"investment\"] = 2e6\n",
    "assumptions.at[\"utility solar PV\", \"investment\"] = 10e5\n",
    "assumptions.at[\"gas CCGT\", \"investment\"] = 7e5\n",
    "assumptions.at[\"gas CCGT\", \"efficiency\"] = 0.6\n",
    "\n",
    "assumptions.at[\"lignite\", \"investment\"] = 15e5\n",
    "assumptions.at[\"lignite\", \"efficiency\"] = 0.3\n",
    "\n",
    "# fill defaults\n",
    "assumptions = assumptions.fillna(\n",
    "    {\n",
    "        \"FOM\": assumptions.at[\"default\", \"FOM\"],\n",
    "        \"discount rate\": assumptions.at[\"default\", \"discount rate\"],\n",
    "        \"lifetime\": assumptions.at[\"default\", \"lifetime\"],\n",
    "    }\n",
    ")\n",
    "\n",
    "\n",
    "def annuity(lifetime, rate):\n",
    "    if rate == 0.0:\n",
    "        return 1 / lifetime\n",
    "    else:\n",
    "        return rate / (1.0 - 1.0 / (1.0 + rate) ** lifetime)\n",
    "\n",
    "\n",
    "# annualise investment costs, add FOM\n",
    "assumptions[\"fixed\"] = [\n",
    "    (annuity(v[\"lifetime\"], v[\"discount rate\"]) + v[\"FOM\"] / 100.0) * v[\"investment\"]\n",
    "    for i, v in assumptions.iterrows()\n",
    "]\n",
    "\n",
    "assumptions"
   ]
  },
  {
   "cell_type": "markdown",
   "metadata": {},
   "source": [
    "### Required functions"
   ]
  },
  {
   "cell_type": "code",
   "execution_count": 148,
   "metadata": {},
   "outputs": [],
   "source": [
    "# prepare base network (without stochastic optimisation)\n",
    "def prepare_network(cts, gas_price):\n",
    "    network = pypsa.Network()\n",
    "\n",
    "    snapshots = pd.date_range(\n",
    "        \"{}-01-01\".format(year_start),\n",
    "        \"{}-12-31 23:00\".format(year_end),\n",
    "        freq=str(frequency) + \"H\",\n",
    "    )\n",
    "\n",
    "    network.set_snapshots(snapshots)\n",
    "\n",
    "    network.snapshot_weightings = pd.Series(float(frequency), index=network.snapshots)\n",
    "\n",
    "    for ct in cts:\n",
    "        network.add(\"Bus\", ct)\n",
    "        network.add(\"Load\", ct, bus=ct, p_set=load)\n",
    "\n",
    "        network.add(\n",
    "            \"Generator\",\n",
    "            ct + \" solar\",\n",
    "            bus=ct,\n",
    "            p_max_pu=solar_pu,\n",
    "            p_nom_extendable=True,\n",
    "            marginal_cost=0.01,  # Small cost to prefer curtailment to destroying energy in storage, solar curtails before wind\n",
    "            capital_cost=assumptions.at[\"utility solar PV\", \"fixed\"],\n",
    "        )\n",
    "\n",
    "        network.add(\n",
    "            \"Generator\",\n",
    "            ct + \" wind\",\n",
    "            bus=ct,\n",
    "            p_max_pu=wind_pu,\n",
    "            p_nom_extendable=True,\n",
    "            marginal_cost=0.02,  # Small cost to prefer curtailment to destroying energy in storage, solar curtails before wind\n",
    "            capital_cost=assumptions.at[\"onshore wind\", \"fixed\"],\n",
    "        )\n",
    "\n",
    "        network.add(\n",
    "            \"Generator\",\n",
    "            ct + \" gas\",\n",
    "            bus=ct,\n",
    "            p_nom_extendable=True,\n",
    "            efficiency=assumptions.at[\"gas CCGT\", \"efficiency\"],\n",
    "            marginal_cost=gas_price / assumptions.at[\"gas CCGT\", \"efficiency\"],\n",
    "            capital_cost=assumptions.at[\"gas CCGT\", \"fixed\"],\n",
    "        )\n",
    "\n",
    "        network.add(\n",
    "            \"Generator\",\n",
    "            ct + \" lignite\",\n",
    "            bus=ct,\n",
    "            p_nom_extendable=True,\n",
    "            efficiency=assumptions.at[\"lignite\", \"efficiency\"],\n",
    "            marginal_cost=150,\n",
    "            capital_cost=assumptions.at[\"gas CCGT\", \"fixed\"],\n",
    "        )\n",
    "\n",
    "    return network"
   ]
  },
  {
   "cell_type": "code",
   "execution_count": 149,
   "metadata": {},
   "outputs": [],
   "source": [
    "# add additional operational scenarios to the base model\n",
    "def prepare_stochastic_model(n):\n",
    "    m = n.optimize.create_model()\n",
    "\n",
    "    nonbase_scenarios = scenarios.copy()\n",
    "    nonbase_scenarios.remove(base_scenario)\n",
    "\n",
    "    # we only have generators in this example, which simplifies things\n",
    "    c = \"Generator\"\n",
    "    sns = n.snapshots\n",
    "    attr = \"p\"\n",
    "    active = None\n",
    "    column = \"bus\"\n",
    "    sign = 1\n",
    "    ext_i = n.get_extendable_i(c)\n",
    "    min_pu, max_pu = map(DataArray, get_bounds_pu(n, c, sns, ext_i, attr))\n",
    "    capacity = n.model[f\"{c}-{nominal_attrs[c]}\"]\n",
    "\n",
    "    for scenario in nonbase_scenarios:\n",
    "        # add extra operational variables for each non-base scenario\n",
    "        dispatch = m.add_variables(\n",
    "            coords=m[\"Generator-p\"].coords, name=f\"Generator-p-{scenario}\"\n",
    "        )\n",
    "        dispatch = reindex(dispatch, c, ext_i)\n",
    "\n",
    "        # add dispatch constraints\n",
    "        lhs = dispatch - max_pu * capacity  # instead of the tuple formulation\n",
    "        m.add_constraints(lhs, \"<=\", 0, f\"{c}-ext-{attr}-upper-{scenario}\", active)\n",
    "\n",
    "        lhs = dispatch - min_pu * capacity\n",
    "        m.add_constraints(lhs, \">=\", 0, f\"{c}-ext-{attr}-lower-{scenario}\", active)\n",
    "\n",
    "        # add nodal balance constraints\n",
    "        exprs = []\n",
    "        expr = DataArray(sign) * m[f\"{c}-{attr}-{scenario}\"]\n",
    "        buses = n.df(c)[column].rename(\"Bus\")\n",
    "        expr = expr.groupby(\n",
    "            buses.to_xarray()\n",
    "        ).sum()  # for linopy >=0.2, see breaking changes log\n",
    "        exprs.append(expr)\n",
    "        lhs = merge(exprs).reindex(\n",
    "            Bus=n.buses.index, fill_value=LinearExpression.fill_value\n",
    "        )\n",
    "        rhs = (\n",
    "            (-get_as_dense(n, \"Load\", \"p_set\", sns) * n.loads.sign)\n",
    "            .groupby(n.loads.bus, axis=1)\n",
    "            .sum()\n",
    "            .reindex(columns=n.buses.index, fill_value=0)\n",
    "        )\n",
    "        rhs.index.name = \"snapshot\"\n",
    "        rhs = DataArray(rhs)\n",
    "        mask = None\n",
    "        m.add_constraints(lhs, \"=\", rhs, f\"Bus-nodal_balance-{scenario}\", mask=mask)\n",
    "\n",
    "    # define the new objective\n",
    "\n",
    "    objective = []\n",
    "    weighting = n.snapshot_weightings.objective\n",
    "    weighting = weighting.loc[sns]\n",
    "    cost = (\n",
    "        get_as_dense(n, c, \"marginal_cost\", sns)\n",
    "        .loc[:, lambda ds: (ds != 0).all()]\n",
    "        .mul(weighting, axis=0)\n",
    "    )\n",
    "\n",
    "    for scenario in scenarios:\n",
    "        cost_modified = cost.copy()\n",
    "\n",
    "        if scenario == base_scenario:\n",
    "            name = f\"{c}-{attr}\"\n",
    "        else:\n",
    "            name = f\"{c}-{attr}-{scenario}\"\n",
    "            cost_modified[\"DE gas\"] = (\n",
    "                cost_modified[\"DE gas\"]\n",
    "                * gas_prices[scenario]\n",
    "                / gas_prices[base_scenario]\n",
    "            )\n",
    "\n",
    "        operation = m[name].sel({\"snapshot\": sns, c: cost.columns})\n",
    "        objective.append((operation * (probability[scenario] * cost_modified)).sum())\n",
    "\n",
    "    ext_i = n.get_extendable_i(c)\n",
    "    cost = n.df(c)[\"capital_cost\"][ext_i]\n",
    "    objective.append((capacity * cost).sum())\n",
    "\n",
    "    m.objective = merge(objective)"
   ]
  },
  {
   "cell_type": "code",
   "execution_count": 150,
   "metadata": {},
   "outputs": [],
   "source": [
    "# Check that network is created correctly:\n",
    "# gas_price = 30\n",
    "# n = prepare_network(cts,gas_price)"
   ]
  },
  {
   "cell_type": "markdown",
   "metadata": {},
   "source": [
    "### First solve capacities for each scenario deterministically"
   ]
  },
  {
   "cell_type": "code",
   "execution_count": 151,
   "metadata": {},
   "outputs": [
    {
     "name": "stderr",
     "output_type": "stream",
     "text": [
      "/home/iegor/ensys/PyPSA/pypsa/components.py:323: FutureWarning: Setting an item of incompatible dtype is deprecated and will raise in a future error of pandas. Value '[]' has dtype incompatible with float64, please explicitly cast to a compatible dtype first.\n",
      "  attrs.loc[bool_b, \"default\"] = attrs.loc[bool_b].isin({True, \"True\"})\n",
      "/home/iegor/ensys/PyPSA/pypsa/components.py:323: FutureWarning: Setting an item of incompatible dtype is deprecated and will raise in a future error of pandas. Value '[]' has dtype incompatible with float64, please explicitly cast to a compatible dtype first.\n",
      "  attrs.loc[bool_b, \"default\"] = attrs.loc[bool_b].isin({True, \"True\"})\n",
      "/home/iegor/ensys/PyPSA/pypsa/components.py:323: FutureWarning: Setting an item of incompatible dtype is deprecated and will raise in a future error of pandas. Value '[]' has dtype incompatible with float64, please explicitly cast to a compatible dtype first.\n",
      "  attrs.loc[bool_b, \"default\"] = attrs.loc[bool_b].isin({True, \"True\"})\n",
      "/home/iegor/ensys/PyPSA/pypsa/components.py:323: FutureWarning: Setting an item of incompatible dtype is deprecated and will raise in a future error of pandas. Value '[]' has dtype incompatible with float64, please explicitly cast to a compatible dtype first.\n",
      "  attrs.loc[bool_b, \"default\"] = attrs.loc[bool_b].isin({True, \"True\"})\n",
      "INFO:pypsa.components:Applying weightings to all columns of `snapshot_weightings`\n"
     ]
    },
    {
     "name": "stderr",
     "output_type": "stream",
     "text": [
      "/home/iegor/ensys/PyPSA/pypsa/optimization/constraints.py:530: FutureWarning: DataFrame.groupby with axis=1 is deprecated. Do `frame.T.groupby(...)` without axis instead.\n",
      "  (-get_as_dense(n, \"Load\", \"p_set\", sns) * n.loads.sign)\n",
      "INFO:linopy.model: Solve problem using Highs solver\n",
      "INFO:linopy.io:Writing objective.\n",
      "Writing constraints.: 100%|\u001b[38;2;128;191;255m██████████\u001b[0m| 5/5 [00:00<00:00, 56.88it/s]\n",
      "Writing continuous variables.: 100%|\u001b[38;2;128;191;255m██████████\u001b[0m| 2/2 [00:00<00:00, 106.18it/s]\n",
      "INFO:linopy.io: Writing time: 0.13s\n",
      "INFO:linopy.solvers:Log file at /tmp/highs.log.\n",
      "INFO:linopy.constants: Optimization successful: \n",
      "Status: ok\n",
      "Termination condition: optimal\n",
      "Solution: 11684 primals, 26284 duals\n",
      "Objective: 7.88e+05\n",
      "Solver model: available\n",
      "Solver message: optimal\n",
      "\n",
      "INFO:pypsa.optimization.optimize:The shadow-prices of the constraints Generator-ext-p-lower, Generator-ext-p-upper were not assigned to the network.\n"
     ]
    },
    {
     "name": "stdout",
     "output_type": "stream",
     "text": [
      "Running HiGHS 1.5.3 [date: 2023-05-16, git hash: 594fa5a9d-dirty]\n",
      "Copyright (c) 2023 HiGHS under MIT licence terms\n",
      "Presolving model\n",
      "13239 rows, 10323 cols, 30957 nonzeros\n",
      "13239 rows, 10323 cols, 30957 nonzeros\n",
      "Presolve : Reductions: rows 13239(-13045); columns 10323(-1361); elements 30957(-14406)\n",
      "Solving the presolved LP\n",
      "Using EKK dual simplex solver - serial\n",
      "  Iteration        Objective     Infeasibilities num(sum)\n",
      "          0     0.0000000000e+00 Pr: 2920(34348) 0s\n",
      "       7427     7.8834903072e+05 Pr: 0(0) 0s\n",
      "Solving the original LP from the solution after postsolve\n",
      "Model   status      : Optimal\n",
      "Simplex   iterations: 7427\n",
      "Objective value     :  7.8834903072e+05\n",
      "HiGHS run time      :          0.09\n"
     ]
    },
    {
     "name": "stderr",
     "output_type": "stream",
     "text": [
      "/home/iegor/ensys/PyPSA/pypsa/optimization/optimize.py:466: FutureWarning: DataFrame.groupby with axis=1 is deprecated. Do `frame.T.groupby(...)` without axis instead.\n",
      "  pd.concat(\n",
      "/home/iegor/ensys/PyPSA/pypsa/components.py:323: FutureWarning: Setting an item of incompatible dtype is deprecated and will raise in a future error of pandas. Value '[]' has dtype incompatible with float64, please explicitly cast to a compatible dtype first.\n",
      "  attrs.loc[bool_b, \"default\"] = attrs.loc[bool_b].isin({True, \"True\"})\n",
      "/home/iegor/ensys/PyPSA/pypsa/components.py:323: FutureWarning: Setting an item of incompatible dtype is deprecated and will raise in a future error of pandas. Value '[]' has dtype incompatible with float64, please explicitly cast to a compatible dtype first.\n",
      "  attrs.loc[bool_b, \"default\"] = attrs.loc[bool_b].isin({True, \"True\"})\n",
      "/home/iegor/ensys/PyPSA/pypsa/components.py:323: FutureWarning: Setting an item of incompatible dtype is deprecated and will raise in a future error of pandas. Value '[]' has dtype incompatible with float64, please explicitly cast to a compatible dtype first.\n",
      "  attrs.loc[bool_b, \"default\"] = attrs.loc[bool_b].isin({True, \"True\"})\n",
      "/home/iegor/ensys/PyPSA/pypsa/components.py:323: FutureWarning: Setting an item of incompatible dtype is deprecated and will raise in a future error of pandas. Value '[]' has dtype incompatible with float64, please explicitly cast to a compatible dtype first.\n",
      "  attrs.loc[bool_b, \"default\"] = attrs.loc[bool_b].isin({True, \"True\"})\n",
      "INFO:pypsa.components:Applying weightings to all columns of `snapshot_weightings`\n",
      "/home/iegor/ensys/PyPSA/pypsa/optimization/constraints.py:530: FutureWarning: DataFrame.groupby with axis=1 is deprecated. Do `frame.T.groupby(...)` without axis instead.\n",
      "  (-get_as_dense(n, \"Load\", \"p_set\", sns) * n.loads.sign)\n",
      "INFO:linopy.model: Solve problem using Highs solver\n",
      "INFO:linopy.io:Writing objective.\n",
      "Writing constraints.: 100%|\u001b[38;2;128;191;255m██████████\u001b[0m| 5/5 [00:00<00:00, 53.81it/s]\n",
      "Writing continuous variables.: 100%|\u001b[38;2;128;191;255m██████████\u001b[0m| 2/2 [00:00<00:00, 104.59it/s]\n",
      "INFO:linopy.io: Writing time: 0.13s\n",
      "INFO:linopy.solvers:Log file at /tmp/highs.log.\n"
     ]
    },
    {
     "name": "stdout",
     "output_type": "stream",
     "text": [
      "Running HiGHS 1.5.3 [date: 2023-05-16, git hash: 594fa5a9d-dirty]\n",
      "Copyright (c) 2023 HiGHS under MIT licence terms\n",
      "Presolving model\n"
     ]
    },
    {
     "name": "stderr",
     "output_type": "stream",
     "text": [
      "INFO:linopy.constants: Optimization successful: \n",
      "Status: ok\n",
      "Termination condition: optimal\n",
      "Solution: 11684 primals, 26284 duals\n",
      "Objective: 1.12e+06\n",
      "Solver model: available\n",
      "Solver message: optimal\n",
      "\n",
      "INFO:pypsa.optimization.optimize:The shadow-prices of the constraints Generator-ext-p-lower, Generator-ext-p-upper were not assigned to the network.\n",
      "/home/iegor/ensys/PyPSA/pypsa/optimization/optimize.py:466: FutureWarning: DataFrame.groupby with axis=1 is deprecated. Do `frame.T.groupby(...)` without axis instead.\n",
      "  pd.concat(\n",
      "/home/iegor/ensys/PyPSA/pypsa/components.py:323: FutureWarning: Setting an item of incompatible dtype is deprecated and will raise in a future error of pandas. Value '[]' has dtype incompatible with float64, please explicitly cast to a compatible dtype first.\n",
      "  attrs.loc[bool_b, \"default\"] = attrs.loc[bool_b].isin({True, \"True\"})\n",
      "/home/iegor/ensys/PyPSA/pypsa/components.py:323: FutureWarning: Setting an item of incompatible dtype is deprecated and will raise in a future error of pandas. Value '[]' has dtype incompatible with float64, please explicitly cast to a compatible dtype first.\n",
      "  attrs.loc[bool_b, \"default\"] = attrs.loc[bool_b].isin({True, \"True\"})\n",
      "/home/iegor/ensys/PyPSA/pypsa/components.py:323: FutureWarning: Setting an item of incompatible dtype is deprecated and will raise in a future error of pandas. Value '[]' has dtype incompatible with float64, please explicitly cast to a compatible dtype first.\n",
      "  attrs.loc[bool_b, \"default\"] = attrs.loc[bool_b].isin({True, \"True\"})\n",
      "/home/iegor/ensys/PyPSA/pypsa/components.py:323: FutureWarning: Setting an item of incompatible dtype is deprecated and will raise in a future error of pandas. Value '[]' has dtype incompatible with float64, please explicitly cast to a compatible dtype first.\n",
      "  attrs.loc[bool_b, \"default\"] = attrs.loc[bool_b].isin({True, \"True\"})\n",
      "INFO:pypsa.components:Applying weightings to all columns of `snapshot_weightings`\n"
     ]
    },
    {
     "name": "stdout",
     "output_type": "stream",
     "text": [
      "13239 rows, 10323 cols, 30957 nonzeros\n",
      "13239 rows, 10323 cols, 30957 nonzeros\n",
      "Presolve : Reductions: rows 13239(-13045); columns 10323(-1361); elements 30957(-14406)\n",
      "Solving the presolved LP\n",
      "Using EKK dual simplex solver - serial\n",
      "  Iteration        Objective     Infeasibilities num(sum)\n",
      "          0     0.0000000000e+00 Pr: 2920(34892) 0s\n",
      "       7275     1.1182753980e+06 Pr: 0(0) 0s\n",
      "Solving the original LP from the solution after postsolve\n",
      "Model   status      : Optimal\n",
      "Simplex   iterations: 7275\n",
      "Objective value     :  1.1182753980e+06\n",
      "HiGHS run time      :          0.20\n"
     ]
    },
    {
     "name": "stderr",
     "output_type": "stream",
     "text": [
      "/home/iegor/ensys/PyPSA/pypsa/optimization/constraints.py:530: FutureWarning: DataFrame.groupby with axis=1 is deprecated. Do `frame.T.groupby(...)` without axis instead.\n",
      "  (-get_as_dense(n, \"Load\", \"p_set\", sns) * n.loads.sign)\n",
      "INFO:linopy.model: Solve problem using Highs solver\n",
      "INFO:linopy.io:Writing objective.\n",
      "Writing constraints.: 100%|\u001b[38;2;128;191;255m██████████\u001b[0m| 5/5 [00:00<00:00, 54.81it/s]\n",
      "Writing continuous variables.: 100%|\u001b[38;2;128;191;255m██████████\u001b[0m| 2/2 [00:00<00:00, 104.92it/s]\n",
      "INFO:linopy.io: Writing time: 0.13s\n",
      "INFO:linopy.solvers:Log file at /tmp/highs.log.\n"
     ]
    },
    {
     "name": "stdout",
     "output_type": "stream",
     "text": [
      "Running HiGHS 1.5.3 [date: 2023-05-16, git hash: 594fa5a9d-dirty]\n",
      "Copyright (c) 2023 HiGHS under MIT licence terms\n",
      "Presolving model\n",
      "13239 rows, 10323 cols, 30957 nonzeros\n",
      "13239 rows, 10323 cols, 30957 nonzeros\n",
      "Presolve : Reductions: rows 13239(-13045); columns 10323(-1361); elements 30957(-14406)\n",
      "Solving the presolved LP\n",
      "Using EKK dual simplex solver - serial\n",
      "  Iteration        Objective     Infeasibilities num(sum)\n",
      "          0     0.0000000000e+00 Pr: 2920(50896) 0s\n",
      "       7310     1.1182753980e+06 Pr: 0(0) 0s\n",
      "Solving the original LP from the solution after postsolve\n",
      "Model   status      : Optimal\n",
      "Simplex   iterations: 7310\n",
      "Objective value     :  1.1182753980e+06\n",
      "HiGHS run time      :          0.20\n"
     ]
    },
    {
     "name": "stderr",
     "output_type": "stream",
     "text": [
      "INFO:linopy.constants: Optimization successful: \n",
      "Status: ok\n",
      "Termination condition: optimal\n",
      "Solution: 11684 primals, 26284 duals\n",
      "Objective: 1.12e+06\n",
      "Solver model: available\n",
      "Solver message: optimal\n",
      "\n",
      "INFO:pypsa.optimization.optimize:The shadow-prices of the constraints Generator-ext-p-lower, Generator-ext-p-upper were not assigned to the network.\n",
      "/home/iegor/ensys/PyPSA/pypsa/optimization/optimize.py:466: FutureWarning: DataFrame.groupby with axis=1 is deprecated. Do `frame.T.groupby(...)` without axis instead.\n",
      "  pd.concat(\n"
     ]
    }
   ],
   "source": [
    "results = None\n",
    "\n",
    "for scenario in scenarios:\n",
    "    gas_price = gas_prices[scenario]\n",
    "\n",
    "    n = prepare_network(cts, gas_price)\n",
    "\n",
    "    n.optimize(solver_name=solver_name)\n",
    "\n",
    "    if results is None:\n",
    "        results = pd.DataFrame(columns=n.generators.index)\n",
    "        results.index.name = \"scenario\"\n",
    "\n",
    "    results.loc[scenario] = n.generators.p_nom_opt"
   ]
  },
  {
   "cell_type": "code",
   "execution_count": 152,
   "metadata": {},
   "outputs": [
    {
     "data": {
      "text/html": [
       "<div>\n",
       "<style scoped>\n",
       "    .dataframe tbody tr th:only-of-type {\n",
       "        vertical-align: middle;\n",
       "    }\n",
       "\n",
       "    .dataframe tbody tr th {\n",
       "        vertical-align: top;\n",
       "    }\n",
       "\n",
       "    .dataframe thead th {\n",
       "        text-align: right;\n",
       "    }\n",
       "</style>\n",
       "<table border=\"1\" class=\"dataframe\">\n",
       "  <thead>\n",
       "    <tr style=\"text-align: right;\">\n",
       "      <th>Generator</th>\n",
       "      <th>DE solar</th>\n",
       "      <th>DE wind</th>\n",
       "      <th>DE gas</th>\n",
       "      <th>DE lignite</th>\n",
       "    </tr>\n",
       "    <tr>\n",
       "      <th>scenario</th>\n",
       "      <th></th>\n",
       "      <th></th>\n",
       "      <th></th>\n",
       "      <th></th>\n",
       "    </tr>\n",
       "  </thead>\n",
       "  <tbody>\n",
       "    <tr>\n",
       "      <th>low</th>\n",
       "      <td>1.388503</td>\n",
       "      <td>-0.00000</td>\n",
       "      <td>1.0</td>\n",
       "      <td>-0.000000</td>\n",
       "    </tr>\n",
       "    <tr>\n",
       "      <th>med</th>\n",
       "      <td>1.631694</td>\n",
       "      <td>1.92419</td>\n",
       "      <td>-0.0</td>\n",
       "      <td>0.986723</td>\n",
       "    </tr>\n",
       "    <tr>\n",
       "      <th>high</th>\n",
       "      <td>1.631694</td>\n",
       "      <td>1.92419</td>\n",
       "      <td>-0.0</td>\n",
       "      <td>0.986723</td>\n",
       "    </tr>\n",
       "  </tbody>\n",
       "</table>\n",
       "</div>"
      ],
      "text/plain": [
       "Generator  DE solar  DE wind  DE gas  DE lignite\n",
       "scenario                                        \n",
       "low        1.388503 -0.00000     1.0   -0.000000\n",
       "med        1.631694  1.92419    -0.0    0.986723\n",
       "high       1.631694  1.92419    -0.0    0.986723"
      ]
     },
     "execution_count": 152,
     "metadata": {},
     "output_type": "execute_result"
    }
   ],
   "source": [
    "results"
   ]
  },
  {
   "cell_type": "markdown",
   "metadata": {},
   "source": [
    "### Now solve the full problem stochastically"
   ]
  },
  {
   "cell_type": "code",
   "execution_count": 153,
   "metadata": {},
   "outputs": [
    {
     "name": "stderr",
     "output_type": "stream",
     "text": [
      "/home/iegor/ensys/PyPSA/pypsa/components.py:323: FutureWarning: Setting an item of incompatible dtype is deprecated and will raise in a future error of pandas. Value '[]' has dtype incompatible with float64, please explicitly cast to a compatible dtype first.\n",
      "  attrs.loc[bool_b, \"default\"] = attrs.loc[bool_b].isin({True, \"True\"})\n",
      "/home/iegor/ensys/PyPSA/pypsa/components.py:323: FutureWarning: Setting an item of incompatible dtype is deprecated and will raise in a future error of pandas. Value '[]' has dtype incompatible with float64, please explicitly cast to a compatible dtype first.\n",
      "  attrs.loc[bool_b, \"default\"] = attrs.loc[bool_b].isin({True, \"True\"})\n",
      "/home/iegor/ensys/PyPSA/pypsa/components.py:323: FutureWarning: Setting an item of incompatible dtype is deprecated and will raise in a future error of pandas. Value '[]' has dtype incompatible with float64, please explicitly cast to a compatible dtype first.\n",
      "  attrs.loc[bool_b, \"default\"] = attrs.loc[bool_b].isin({True, \"True\"})\n",
      "/home/iegor/ensys/PyPSA/pypsa/components.py:323: FutureWarning: Setting an item of incompatible dtype is deprecated and will raise in a future error of pandas. Value '[]' has dtype incompatible with float64, please explicitly cast to a compatible dtype first.\n",
      "  attrs.loc[bool_b, \"default\"] = attrs.loc[bool_b].isin({True, \"True\"})\n",
      "INFO:pypsa.components:Applying weightings to all columns of `snapshot_weightings`\n",
      "/home/iegor/ensys/PyPSA/pypsa/optimization/constraints.py:530: FutureWarning: DataFrame.groupby with axis=1 is deprecated. Do `frame.T.groupby(...)` without axis instead.\n",
      "  (-get_as_dense(n, \"Load\", \"p_set\", sns) * n.loads.sign)\n",
      "/tmp/ipykernel_126431/1521646535.py:45: FutureWarning: DataFrame.groupby with axis=1 is deprecated. Do `frame.T.groupby(...)` without axis instead.\n",
      "  (-get_as_dense(n, \"Load\", \"p_set\", sns) * n.loads.sign)\n",
      "/tmp/ipykernel_126431/1521646535.py:45: FutureWarning: DataFrame.groupby with axis=1 is deprecated. Do `frame.T.groupby(...)` without axis instead.\n",
      "  (-get_as_dense(n, \"Load\", \"p_set\", sns) * n.loads.sign)\n",
      "INFO:linopy.model: Solve problem using Highs solver\n",
      "INFO:linopy.io:Writing objective.\n",
      "Writing constraints.: 100%|\u001b[38;2;128;191;255m██████████\u001b[0m| 11/11 [00:00<00:00, 39.35it/s]\n",
      "Writing continuous variables.: 100%|\u001b[38;2;128;191;255m██████████\u001b[0m| 4/4 [00:00<00:00, 87.49it/s]\n",
      "INFO:linopy.io: Writing time: 0.37s\n",
      "INFO:linopy.solvers:Log file at /tmp/highs.log.\n"
     ]
    },
    {
     "name": "stdout",
     "output_type": "stream",
     "text": [
      "Running HiGHS 1.5.3 [date: 2023-05-16, git hash: 594fa5a9d-dirty]\n",
      "Copyright (c) 2023 HiGHS under MIT licence terms\n",
      "Presolving model\n"
     ]
    },
    {
     "name": "stderr",
     "output_type": "stream",
     "text": [
      "INFO:linopy.constants: Optimization successful: \n",
      "Status: ok\n",
      "Termination condition: optimal\n",
      "Solution: 35044 primals, 78844 duals\n",
      "Objective: 1.06e+06\n",
      "Solver model: available\n",
      "Solver message: optimal\n",
      "\n",
      "INFO:pypsa.optimization.optimize:The shadow-prices of the constraints Generator-ext-p-lower, Generator-ext-p-upper, Generator-ext-p-upper-med, Generator-ext-p-lower-med, Bus-nodal_balance-med, Generator-ext-p-upper-high, Generator-ext-p-lower-high, Bus-nodal_balance-high were not assigned to the network.\n"
     ]
    },
    {
     "name": "stdout",
     "output_type": "stream",
     "text": [
      "39717 rows, 30961 cols, 92871 nonzeros\n",
      "39717 rows, 30961 cols, 92871 nonzeros\n",
      "Presolve : Reductions: rows 39717(-39127); columns 30961(-4083); elements 92871(-43210)\n",
      "Solving the presolved LP\n",
      "Using EKK dual simplex solver - serial\n",
      "  Iteration        Objective     Infeasibilities num(sum)\n",
      "          0     0.0000000000e+00 Pr: 8760(53192) 0s\n",
      "      24210     1.0575733538e+06 Pr: 0(0) 2s\n",
      "Solving the original LP from the solution after postsolve\n",
      "Model   status      : Optimal\n",
      "Simplex   iterations: 24210\n",
      "Objective value     :  1.0575733538e+06\n",
      "HiGHS run time      :          2.58\n"
     ]
    },
    {
     "name": "stderr",
     "output_type": "stream",
     "text": [
      "/home/iegor/ensys/PyPSA/pypsa/optimization/optimize.py:466: FutureWarning: DataFrame.groupby with axis=1 is deprecated. Do `frame.T.groupby(...)` without axis instead.\n",
      "  pd.concat(\n"
     ]
    },
    {
     "data": {
      "text/plain": [
       "('ok', 'optimal')"
      ]
     },
     "execution_count": 153,
     "metadata": {},
     "output_type": "execute_result"
    }
   ],
   "source": [
    "gas_price = gas_prices[base_scenario]\n",
    "\n",
    "n = prepare_network(cts, gas_price)\n",
    "\n",
    "prepare_stochastic_model(n)\n",
    "\n",
    "n.optimize.solve_model(solver_name=solver_name)"
   ]
  },
  {
   "cell_type": "code",
   "execution_count": 154,
   "metadata": {},
   "outputs": [],
   "source": [
    "results.loc[\"stochastic\"] = n.generators.p_nom_opt"
   ]
  },
  {
   "cell_type": "code",
   "execution_count": 155,
   "metadata": {},
   "outputs": [
    {
     "data": {
      "text/html": [
       "<div>\n",
       "<style scoped>\n",
       "    .dataframe tbody tr th:only-of-type {\n",
       "        vertical-align: middle;\n",
       "    }\n",
       "\n",
       "    .dataframe tbody tr th {\n",
       "        vertical-align: top;\n",
       "    }\n",
       "\n",
       "    .dataframe thead th {\n",
       "        text-align: right;\n",
       "    }\n",
       "</style>\n",
       "<table border=\"1\" class=\"dataframe\">\n",
       "  <thead>\n",
       "    <tr style=\"text-align: right;\">\n",
       "      <th>Generator</th>\n",
       "      <th>DE solar</th>\n",
       "      <th>DE wind</th>\n",
       "      <th>DE gas</th>\n",
       "      <th>DE lignite</th>\n",
       "    </tr>\n",
       "    <tr>\n",
       "      <th>scenario</th>\n",
       "      <th></th>\n",
       "      <th></th>\n",
       "      <th></th>\n",
       "      <th></th>\n",
       "    </tr>\n",
       "  </thead>\n",
       "  <tbody>\n",
       "    <tr>\n",
       "      <th>low</th>\n",
       "      <td>1.388503</td>\n",
       "      <td>-0.000000</td>\n",
       "      <td>1.0000</td>\n",
       "      <td>-0.000000</td>\n",
       "    </tr>\n",
       "    <tr>\n",
       "      <th>med</th>\n",
       "      <td>1.631694</td>\n",
       "      <td>1.924190</td>\n",
       "      <td>-0.0000</td>\n",
       "      <td>0.986723</td>\n",
       "    </tr>\n",
       "    <tr>\n",
       "      <th>high</th>\n",
       "      <td>1.631694</td>\n",
       "      <td>1.924190</td>\n",
       "      <td>-0.0000</td>\n",
       "      <td>0.986723</td>\n",
       "    </tr>\n",
       "    <tr>\n",
       "      <th>stochastic</th>\n",
       "      <td>1.505975</td>\n",
       "      <td>1.529286</td>\n",
       "      <td>0.7761</td>\n",
       "      <td>0.926722</td>\n",
       "    </tr>\n",
       "  </tbody>\n",
       "</table>\n",
       "</div>"
      ],
      "text/plain": [
       "Generator   DE solar   DE wind  DE gas  DE lignite\n",
       "scenario                                          \n",
       "low         1.388503 -0.000000  1.0000   -0.000000\n",
       "med         1.631694  1.924190 -0.0000    0.986723\n",
       "high        1.631694  1.924190 -0.0000    0.986723\n",
       "stochastic  1.505975  1.529286  0.7761    0.926722"
      ]
     },
     "execution_count": 155,
     "metadata": {},
     "output_type": "execute_result"
    }
   ],
   "source": [
    "results"
   ]
  },
  {
   "cell_type": "markdown",
   "metadata": {},
   "source": [
    "### Now test each set of capacities against realisations of the gas price"
   ]
  },
  {
   "cell_type": "code",
   "execution_count": 156,
   "metadata": {},
   "outputs": [
    {
     "name": "stderr",
     "output_type": "stream",
     "text": [
      "/home/iegor/ensys/PyPSA/pypsa/components.py:323: FutureWarning: Setting an item of incompatible dtype is deprecated and will raise in a future error of pandas. Value '[]' has dtype incompatible with float64, please explicitly cast to a compatible dtype first.\n",
      "  attrs.loc[bool_b, \"default\"] = attrs.loc[bool_b].isin({True, \"True\"})\n",
      "/home/iegor/ensys/PyPSA/pypsa/components.py:323: FutureWarning: Setting an item of incompatible dtype is deprecated and will raise in a future error of pandas. Value '[]' has dtype incompatible with float64, please explicitly cast to a compatible dtype first.\n",
      "  attrs.loc[bool_b, \"default\"] = attrs.loc[bool_b].isin({True, \"True\"})\n",
      "/home/iegor/ensys/PyPSA/pypsa/components.py:323: FutureWarning: Setting an item of incompatible dtype is deprecated and will raise in a future error of pandas. Value '[]' has dtype incompatible with float64, please explicitly cast to a compatible dtype first.\n",
      "  attrs.loc[bool_b, \"default\"] = attrs.loc[bool_b].isin({True, \"True\"})\n",
      "/home/iegor/ensys/PyPSA/pypsa/components.py:323: FutureWarning: Setting an item of incompatible dtype is deprecated and will raise in a future error of pandas. Value '[]' has dtype incompatible with float64, please explicitly cast to a compatible dtype first.\n",
      "  attrs.loc[bool_b, \"default\"] = attrs.loc[bool_b].isin({True, \"True\"})\n",
      "INFO:pypsa.components:Applying weightings to all columns of `snapshot_weightings`\n",
      "/home/iegor/ensys/PyPSA/pypsa/optimization/constraints.py:530: FutureWarning: DataFrame.groupby with axis=1 is deprecated. Do `frame.T.groupby(...)` without axis instead.\n",
      "  (-get_as_dense(n, \"Load\", \"p_set\", sns) * n.loads.sign)\n",
      "INFO:linopy.model: Solve problem using Highs solver\n",
      "INFO:linopy.io:Writing objective.\n"
     ]
    },
    {
     "name": "stdout",
     "output_type": "stream",
     "text": [
      "Generator\n",
      "DE solar      1.388503\n",
      "DE wind      -0.000000\n",
      "DE gas        1.000000\n",
      "DE lignite   -0.000000\n",
      "Name: p_nom, dtype: float64\n"
     ]
    },
    {
     "name": "stderr",
     "output_type": "stream",
     "text": [
      "Writing constraints.: 100%|\u001b[38;2;128;191;255m██████████\u001b[0m| 3/3 [00:00<00:00, 45.74it/s]\n",
      "Writing continuous variables.: 100%|\u001b[38;2;128;191;255m██████████\u001b[0m| 1/1 [00:00<00:00, 65.73it/s]\n",
      "INFO:linopy.io: Writing time: 0.1s\n",
      "INFO:linopy.solvers:Log file at /tmp/highs.log.\n",
      "INFO:linopy.constants: Optimization successful: \n",
      "Status: ok\n",
      "Termination condition: optimal\n",
      "Solution: 11680 primals, 26280 duals\n",
      "Objective: 6.06e+05\n",
      "Solver model: available\n",
      "Solver message: optimal\n",
      "\n",
      "INFO:pypsa.optimization.optimize:The shadow-prices of the constraints Generator-fix-p-lower, Generator-fix-p-upper were not assigned to the network.\n"
     ]
    },
    {
     "name": "stdout",
     "output_type": "stream",
     "text": [
      "Running HiGHS 1.5.3 [date: 2023-05-16, git hash: 594fa5a9d-dirty]\n",
      "Copyright (c) 2023 HiGHS under MIT licence terms\n",
      "Presolving model\n",
      "0 rows, 0 cols, 0 nonzeros\n",
      "0 rows, 0 cols, 0 nonzeros\n",
      "Presolve : Reductions: rows 0(-26280); columns 0(-11680); elements 0(-35040) - Reduced to empty\n",
      "Solving the original LP from the solution after postsolve\n",
      "Model   status      : Optimal\n",
      "Objective value     :  6.0575564285e+05\n",
      "HiGHS run time      :          0.04\n",
      "Generator\n",
      "DE solar      1.631694\n",
      "DE wind       1.924190\n",
      "DE gas       -0.000000\n",
      "DE lignite    0.986723\n",
      "Name: p_nom, dtype: float64\n"
     ]
    },
    {
     "name": "stderr",
     "output_type": "stream",
     "text": [
      "/home/iegor/ensys/PyPSA/pypsa/optimization/optimize.py:466: FutureWarning: DataFrame.groupby with axis=1 is deprecated. Do `frame.T.groupby(...)` without axis instead.\n",
      "  pd.concat(\n",
      "/home/iegor/ensys/PyPSA/pypsa/optimization/constraints.py:530: FutureWarning: DataFrame.groupby with axis=1 is deprecated. Do `frame.T.groupby(...)` without axis instead.\n",
      "  (-get_as_dense(n, \"Load\", \"p_set\", sns) * n.loads.sign)\n",
      "INFO:linopy.model: Solve problem using Highs solver\n",
      "INFO:linopy.io:Writing objective.\n",
      "Writing constraints.: 100%|\u001b[38;2;128;191;255m██████████\u001b[0m| 3/3 [00:00<00:00, 45.84it/s]\n",
      "Writing continuous variables.: 100%|\u001b[38;2;128;191;255m██████████\u001b[0m| 1/1 [00:00<00:00, 42.44it/s]\n",
      "INFO:linopy.io: Writing time: 0.11s\n",
      "INFO:linopy.solvers:Log file at /tmp/highs.log.\n",
      "INFO:linopy.constants: Optimization successful: \n",
      "Status: ok\n",
      "Termination condition: optimal\n",
      "Solution: 11680 primals, 26280 duals\n",
      "Objective: 5.79e+05\n",
      "Solver model: available\n",
      "Solver message: optimal\n",
      "\n",
      "INFO:pypsa.optimization.optimize:The shadow-prices of the constraints Generator-fix-p-lower, Generator-fix-p-upper were not assigned to the network.\n"
     ]
    },
    {
     "name": "stdout",
     "output_type": "stream",
     "text": [
      "Running HiGHS 1.5.3 [date: 2023-05-16, git hash: 594fa5a9d-dirty]\n",
      "Copyright (c) 2023 HiGHS under MIT licence terms\n",
      "Presolving model\n",
      "1540 rows, 4358 cols, 4344 nonzeros\n",
      "210 rows, 630 cols, 630 nonzeros\n",
      "Presolve : Reductions: rows 210(-26070); columns 630(-11050); elements 630(-34410)\n",
      "Solving the presolved LP\n",
      "Using EKK dual simplex solver - serial\n",
      "  Iteration        Objective     Infeasibilities num(sum)\n",
      "          0     5.7876881154e+05 Pr: 210(210) 0s\n",
      "        210     5.7877726371e+05 Pr: 0(0) 0s\n",
      "Solving the original LP from the solution after postsolve\n",
      "Using EKK dual simplex solver - serial\n",
      "  Iteration        Objective     Infeasibilities num(sum)\n",
      "        210     5.7877717504e+05 Pr: 2(2) 0s\n",
      "        214     5.7877726371e+05 Pr: 0(0) 0s\n",
      "Model   status      : Optimal\n",
      "Simplex   iterations: 214\n",
      "Objective value     :  5.7877726371e+05\n",
      "HiGHS run time      :          0.05\n",
      "Generator\n",
      "DE solar      1.631694\n",
      "DE wind       1.924190\n",
      "DE gas       -0.000000\n",
      "DE lignite    0.986723\n",
      "Name: p_nom, dtype: float64\n"
     ]
    },
    {
     "name": "stderr",
     "output_type": "stream",
     "text": [
      "/home/iegor/ensys/PyPSA/pypsa/optimization/optimize.py:466: FutureWarning: DataFrame.groupby with axis=1 is deprecated. Do `frame.T.groupby(...)` without axis instead.\n",
      "  pd.concat(\n",
      "/home/iegor/ensys/PyPSA/pypsa/optimization/constraints.py:530: FutureWarning: DataFrame.groupby with axis=1 is deprecated. Do `frame.T.groupby(...)` without axis instead.\n",
      "  (-get_as_dense(n, \"Load\", \"p_set\", sns) * n.loads.sign)\n",
      "INFO:linopy.model: Solve problem using Highs solver\n",
      "INFO:linopy.io:Writing objective.\n",
      "Writing constraints.: 100%|\u001b[38;2;128;191;255m██████████\u001b[0m| 3/3 [00:00<00:00, 45.04it/s]\n",
      "Writing continuous variables.: 100%|\u001b[38;2;128;191;255m██████████\u001b[0m| 1/1 [00:00<00:00, 54.01it/s]\n",
      "INFO:linopy.io: Writing time: 0.1s\n",
      "INFO:linopy.solvers:Log file at /tmp/highs.log.\n",
      "INFO:linopy.constants: Optimization successful: \n",
      "Status: ok\n",
      "Termination condition: optimal\n",
      "Solution: 11680 primals, 26280 duals\n",
      "Objective: 5.79e+05\n",
      "Solver model: available\n",
      "Solver message: optimal\n",
      "\n",
      "INFO:pypsa.optimization.optimize:The shadow-prices of the constraints Generator-fix-p-lower, Generator-fix-p-upper were not assigned to the network.\n"
     ]
    },
    {
     "name": "stdout",
     "output_type": "stream",
     "text": [
      "Running HiGHS 1.5.3 [date: 2023-05-16, git hash: 594fa5a9d-dirty]\n",
      "Copyright (c) 2023 HiGHS under MIT licence terms\n",
      "Presolving model\n",
      "1540 rows, 4358 cols, 4344 nonzeros\n",
      "210 rows, 630 cols, 630 nonzeros\n",
      "Presolve : Reductions: rows 210(-26070); columns 630(-11050); elements 630(-34410)\n",
      "Solving the presolved LP\n",
      "Using EKK dual simplex solver - serial\n",
      "  Iteration        Objective     Infeasibilities num(sum)\n",
      "          0     5.7876881154e+05 Pr: 210(210) 0s\n",
      "        210     5.7877726371e+05 Pr: 0(0) 0s\n",
      "Solving the original LP from the solution after postsolve\n",
      "Using EKK dual simplex solver - serial\n",
      "  Iteration        Objective     Infeasibilities num(sum)\n",
      "        210     5.7877717504e+05 Pr: 2(2) 0s\n",
      "        214     5.7877726371e+05 Pr: 0(0) 0s\n",
      "Model   status      : Optimal\n",
      "Simplex   iterations: 214\n",
      "Objective value     :  5.7877726371e+05\n",
      "HiGHS run time      :          0.05\n",
      "Generator\n",
      "DE solar      1.505975\n",
      "DE wind       1.529286\n",
      "DE gas        0.776100\n",
      "DE lignite    0.926722\n",
      "Name: p_nom, dtype: float64\n"
     ]
    },
    {
     "name": "stderr",
     "output_type": "stream",
     "text": [
      "/home/iegor/ensys/PyPSA/pypsa/optimization/optimize.py:466: FutureWarning: DataFrame.groupby with axis=1 is deprecated. Do `frame.T.groupby(...)` without axis instead.\n",
      "  pd.concat(\n",
      "/home/iegor/ensys/PyPSA/pypsa/optimization/constraints.py:530: FutureWarning: DataFrame.groupby with axis=1 is deprecated. Do `frame.T.groupby(...)` without axis instead.\n",
      "  (-get_as_dense(n, \"Load\", \"p_set\", sns) * n.loads.sign)\n",
      "INFO:linopy.model: Solve problem using Highs solver\n",
      "INFO:linopy.io:Writing objective.\n",
      "Writing constraints.: 100%|\u001b[38;2;128;191;255m██████████\u001b[0m| 3/3 [00:00<00:00, 40.18it/s]\n",
      "Writing continuous variables.: 100%|\u001b[38;2;128;191;255m██████████\u001b[0m| 1/1 [00:00<00:00, 59.04it/s]\n",
      "INFO:linopy.io: Writing time: 0.11s\n",
      "INFO:linopy.solvers:Log file at /tmp/highs.log.\n",
      "INFO:linopy.constants: Optimization successful: \n",
      "Status: ok\n",
      "Termination condition: optimal\n",
      "Solution: 11680 primals, 26280 duals\n",
      "Objective: 3.84e+05\n",
      "Solver model: available\n",
      "Solver message: optimal\n",
      "\n",
      "INFO:pypsa.optimization.optimize:The shadow-prices of the constraints Generator-fix-p-lower, Generator-fix-p-upper were not assigned to the network.\n"
     ]
    },
    {
     "name": "stdout",
     "output_type": "stream",
     "text": [
      "Running HiGHS 1.5.3 [date: 2023-05-16, git hash: 594fa5a9d-dirty]\n",
      "Copyright (c) 2023 HiGHS under MIT licence terms\n",
      "Presolving model\n",
      "2920 rows, 9891 cols, 9891 nonzeros\n",
      "1960 rows, 7110 cols, 7110 nonzeros\n",
      "Presolve : Reductions: rows 1960(-24320); columns 7110(-4570); elements 7110(-27930)\n",
      "Solving the presolved LP\n",
      "Using EKK dual simplex solver - serial\n",
      "  Iteration        Objective     Infeasibilities num(sum)\n",
      "          0     1.7980261152e+05 Pr: 1960(1960) 0s\n",
      "       1960     3.8374175733e+05 Pr: 0(0) 0s\n",
      "Solving the original LP from the solution after postsolve\n",
      "Using EKK dual simplex solver - serial\n",
      "  Iteration        Objective     Infeasibilities num(sum)\n",
      "       1960     3.8354772457e+05 Pr: 1(1) 0s\n",
      "       1963     3.8374175733e+05 Pr: 0(0) 0s\n",
      "Model   status      : Optimal\n",
      "Simplex   iterations: 1963\n",
      "Objective value     :  3.8374175733e+05\n",
      "HiGHS run time      :          0.06\n"
     ]
    },
    {
     "name": "stderr",
     "output_type": "stream",
     "text": [
      "/home/iegor/ensys/PyPSA/pypsa/optimization/optimize.py:466: FutureWarning: DataFrame.groupby with axis=1 is deprecated. Do `frame.T.groupby(...)` without axis instead.\n",
      "  pd.concat(\n",
      "/home/iegor/ensys/PyPSA/pypsa/components.py:323: FutureWarning: Setting an item of incompatible dtype is deprecated and will raise in a future error of pandas. Value '[]' has dtype incompatible with float64, please explicitly cast to a compatible dtype first.\n",
      "  attrs.loc[bool_b, \"default\"] = attrs.loc[bool_b].isin({True, \"True\"})\n",
      "/home/iegor/ensys/PyPSA/pypsa/components.py:323: FutureWarning: Setting an item of incompatible dtype is deprecated and will raise in a future error of pandas. Value '[]' has dtype incompatible with float64, please explicitly cast to a compatible dtype first.\n",
      "  attrs.loc[bool_b, \"default\"] = attrs.loc[bool_b].isin({True, \"True\"})\n",
      "/home/iegor/ensys/PyPSA/pypsa/components.py:323: FutureWarning: Setting an item of incompatible dtype is deprecated and will raise in a future error of pandas. Value '[]' has dtype incompatible with float64, please explicitly cast to a compatible dtype first.\n",
      "  attrs.loc[bool_b, \"default\"] = attrs.loc[bool_b].isin({True, \"True\"})\n",
      "/home/iegor/ensys/PyPSA/pypsa/components.py:323: FutureWarning: Setting an item of incompatible dtype is deprecated and will raise in a future error of pandas. Value '[]' has dtype incompatible with float64, please explicitly cast to a compatible dtype first.\n",
      "  attrs.loc[bool_b, \"default\"] = attrs.loc[bool_b].isin({True, \"True\"})\n",
      "INFO:pypsa.components:Applying weightings to all columns of `snapshot_weightings`\n",
      "/home/iegor/ensys/PyPSA/pypsa/optimization/constraints.py:530: FutureWarning: DataFrame.groupby with axis=1 is deprecated. Do `frame.T.groupby(...)` without axis instead.\n",
      "  (-get_as_dense(n, \"Load\", \"p_set\", sns) * n.loads.sign)\n",
      "INFO:linopy.model: Solve problem using Highs solver\n",
      "INFO:linopy.io:Writing objective.\n"
     ]
    },
    {
     "name": "stdout",
     "output_type": "stream",
     "text": [
      "Generator\n",
      "DE solar      1.388503\n",
      "DE wind      -0.000000\n",
      "DE gas        1.000000\n",
      "DE lignite   -0.000000\n",
      "Name: p_nom, dtype: float64\n"
     ]
    },
    {
     "name": "stderr",
     "output_type": "stream",
     "text": [
      "Writing constraints.: 100%|\u001b[38;2;128;191;255m██████████\u001b[0m| 3/3 [00:00<00:00, 32.10it/s]\n",
      "Writing continuous variables.: 100%|\u001b[38;2;128;191;255m██████████\u001b[0m| 1/1 [00:00<00:00, 60.55it/s]\n",
      "INFO:linopy.io: Writing time: 0.13s\n",
      "INFO:linopy.solvers:Log file at /tmp/highs.log.\n",
      "INFO:linopy.constants: Optimization successful: \n",
      "Status: ok\n",
      "Termination condition: optimal\n",
      "Solution: 11680 primals, 26280 duals\n",
      "Objective: 1.21e+06\n",
      "Solver model: available\n",
      "Solver message: optimal\n",
      "\n",
      "INFO:pypsa.optimization.optimize:The shadow-prices of the constraints Generator-fix-p-lower, Generator-fix-p-upper were not assigned to the network.\n"
     ]
    },
    {
     "name": "stdout",
     "output_type": "stream",
     "text": [
      "Running HiGHS 1.5.3 [date: 2023-05-16, git hash: 594fa5a9d-dirty]\n",
      "Copyright (c) 2023 HiGHS under MIT licence terms\n",
      "Presolving model\n",
      "0 rows, 0 cols, 0 nonzeros\n",
      "0 rows, 0 cols, 0 nonzeros\n",
      "Presolve : Reductions: rows 0(-26280); columns 0(-11680); elements 0(-35040) - Reduced to empty\n",
      "Solving the original LP from the solution after postsolve\n",
      "Model   status      : Optimal\n",
      "Objective value     :  1.2114963746e+06\n",
      "HiGHS run time      :          0.02\n",
      "Generator\n",
      "DE solar      1.631694\n",
      "DE wind       1.924190\n",
      "DE gas       -0.000000\n",
      "DE lignite    0.986723\n",
      "Name: p_nom, dtype: float64\n"
     ]
    },
    {
     "name": "stderr",
     "output_type": "stream",
     "text": [
      "/home/iegor/ensys/PyPSA/pypsa/optimization/optimize.py:466: FutureWarning: DataFrame.groupby with axis=1 is deprecated. Do `frame.T.groupby(...)` without axis instead.\n",
      "  pd.concat(\n",
      "/home/iegor/ensys/PyPSA/pypsa/optimization/constraints.py:530: FutureWarning: DataFrame.groupby with axis=1 is deprecated. Do `frame.T.groupby(...)` without axis instead.\n",
      "  (-get_as_dense(n, \"Load\", \"p_set\", sns) * n.loads.sign)\n",
      "INFO:linopy.model: Solve problem using Highs solver\n",
      "INFO:linopy.io:Writing objective.\n",
      "Writing constraints.: 100%|\u001b[38;2;128;191;255m██████████\u001b[0m| 3/3 [00:00<00:00, 36.74it/s]\n",
      "Writing continuous variables.: 100%|\u001b[38;2;128;191;255m██████████\u001b[0m| 1/1 [00:00<00:00, 56.16it/s]\n",
      "INFO:linopy.io: Writing time: 0.13s\n",
      "INFO:linopy.solvers:Log file at /tmp/highs.log.\n",
      "INFO:linopy.constants: Optimization successful: \n",
      "Status: ok\n",
      "Termination condition: optimal\n",
      "Solution: 11680 primals, 26280 duals\n",
      "Objective: 5.79e+05\n",
      "Solver model: available\n",
      "Solver message: optimal\n",
      "\n",
      "INFO:pypsa.optimization.optimize:The shadow-prices of the constraints Generator-fix-p-lower, Generator-fix-p-upper were not assigned to the network.\n"
     ]
    },
    {
     "name": "stdout",
     "output_type": "stream",
     "text": [
      "Running HiGHS 1.5.3 [date: 2023-05-16, git hash: 594fa5a9d-dirty]\n",
      "Copyright (c) 2023 HiGHS under MIT licence terms\n",
      "Presolving model\n",
      "1540 rows, 4358 cols, 4344 nonzeros\n",
      "210 rows, 630 cols, 630 nonzeros\n",
      "Presolve : Reductions: rows 210(-26070); columns 630(-11050); elements 630(-34410)\n",
      "Solving the presolved LP\n",
      "Using EKK dual simplex solver - serial\n",
      "  Iteration        Objective     Infeasibilities num(sum)\n",
      "          0     5.7876881154e+05 Pr: 210(210) 0s\n",
      "        210     5.7877726371e+05 Pr: 0(0) 0s\n",
      "Solving the original LP from the solution after postsolve\n",
      "Using EKK dual simplex solver - serial\n",
      "  Iteration        Objective     Infeasibilities num(sum)\n",
      "        210     5.7877717504e+05 Pr: 2(2) 0s\n",
      "        214     5.7877726371e+05 Pr: 0(0) 0s\n",
      "Model   status      : Optimal\n",
      "Simplex   iterations: 214\n",
      "Objective value     :  5.7877726371e+05\n",
      "HiGHS run time      :          0.03\n",
      "Generator\n",
      "DE solar      1.631694\n",
      "DE wind       1.924190\n",
      "DE gas       -0.000000\n",
      "DE lignite    0.986723\n",
      "Name: p_nom, dtype: float64\n"
     ]
    },
    {
     "name": "stderr",
     "output_type": "stream",
     "text": [
      "/home/iegor/ensys/PyPSA/pypsa/optimization/optimize.py:466: FutureWarning: DataFrame.groupby with axis=1 is deprecated. Do `frame.T.groupby(...)` without axis instead.\n",
      "  pd.concat(\n",
      "/home/iegor/ensys/PyPSA/pypsa/optimization/constraints.py:530: FutureWarning: DataFrame.groupby with axis=1 is deprecated. Do `frame.T.groupby(...)` without axis instead.\n",
      "  (-get_as_dense(n, \"Load\", \"p_set\", sns) * n.loads.sign)\n",
      "INFO:linopy.model: Solve problem using Highs solver\n",
      "INFO:linopy.io:Writing objective.\n",
      "Writing constraints.: 100%|\u001b[38;2;128;191;255m██████████\u001b[0m| 3/3 [00:00<00:00, 35.71it/s]\n",
      "Writing continuous variables.: 100%|\u001b[38;2;128;191;255m██████████\u001b[0m| 1/1 [00:00<00:00, 59.92it/s]\n",
      "INFO:linopy.io: Writing time: 0.12s\n",
      "INFO:linopy.solvers:Log file at /tmp/highs.log.\n",
      "INFO:linopy.constants: Optimization successful: \n",
      "Status: ok\n",
      "Termination condition: optimal\n",
      "Solution: 11680 primals, 26280 duals\n",
      "Objective: 5.79e+05\n",
      "Solver model: available\n",
      "Solver message: optimal\n",
      "\n",
      "INFO:pypsa.optimization.optimize:The shadow-prices of the constraints Generator-fix-p-lower, Generator-fix-p-upper were not assigned to the network.\n"
     ]
    },
    {
     "name": "stdout",
     "output_type": "stream",
     "text": [
      "Running HiGHS 1.5.3 [date: 2023-05-16, git hash: 594fa5a9d-dirty]\n",
      "Copyright (c) 2023 HiGHS under MIT licence terms\n",
      "Presolving model\n",
      "1540 rows, 4358 cols, 4344 nonzeros\n",
      "210 rows, 630 cols, 630 nonzeros\n",
      "Presolve : Reductions: rows 210(-26070); columns 630(-11050); elements 630(-34410)\n",
      "Solving the presolved LP\n",
      "Using EKK dual simplex solver - serial\n",
      "  Iteration        Objective     Infeasibilities num(sum)\n",
      "          0     5.7876881154e+05 Pr: 210(210) 0s\n",
      "        210     5.7877726371e+05 Pr: 0(0) 0s\n",
      "Solving the original LP from the solution after postsolve\n",
      "Using EKK dual simplex solver - serial\n",
      "  Iteration        Objective     Infeasibilities num(sum)\n",
      "        210     5.7877717504e+05 Pr: 2(2) 0s\n",
      "        214     5.7877726371e+05 Pr: 0(0) 0s\n",
      "Model   status      : Optimal\n",
      "Simplex   iterations: 214\n",
      "Objective value     :  5.7877726371e+05\n",
      "HiGHS run time      :          0.03\n",
      "Generator\n",
      "DE solar      1.505975\n",
      "DE wind       1.529286\n",
      "DE gas        0.776100\n",
      "DE lignite    0.926722\n",
      "Name: p_nom, dtype: float64\n"
     ]
    },
    {
     "name": "stderr",
     "output_type": "stream",
     "text": [
      "/home/iegor/ensys/PyPSA/pypsa/optimization/optimize.py:466: FutureWarning: DataFrame.groupby with axis=1 is deprecated. Do `frame.T.groupby(...)` without axis instead.\n",
      "  pd.concat(\n",
      "/home/iegor/ensys/PyPSA/pypsa/optimization/constraints.py:530: FutureWarning: DataFrame.groupby with axis=1 is deprecated. Do `frame.T.groupby(...)` without axis instead.\n",
      "  (-get_as_dense(n, \"Load\", \"p_set\", sns) * n.loads.sign)\n",
      "INFO:linopy.model: Solve problem using Highs solver\n",
      "INFO:linopy.io:Writing objective.\n",
      "Writing constraints.: 100%|\u001b[38;2;128;191;255m██████████\u001b[0m| 3/3 [00:00<00:00, 35.88it/s]\n",
      "Writing continuous variables.: 100%|\u001b[38;2;128;191;255m██████████\u001b[0m| 1/1 [00:00<00:00, 60.39it/s]\n",
      "INFO:linopy.io: Writing time: 0.12s\n",
      "INFO:linopy.solvers:Log file at /tmp/highs.log.\n",
      "INFO:linopy.constants: Optimization successful: \n",
      "Status: ok\n",
      "Termination condition: optimal\n",
      "Solution: 11680 primals, 26280 duals\n",
      "Objective: 6.66e+05\n",
      "Solver model: available\n",
      "Solver message: optimal\n",
      "\n",
      "INFO:pypsa.optimization.optimize:The shadow-prices of the constraints Generator-fix-p-lower, Generator-fix-p-upper were not assigned to the network.\n",
      "/home/iegor/ensys/PyPSA/pypsa/optimization/optimize.py:466: FutureWarning: DataFrame.groupby with axis=1 is deprecated. Do `frame.T.groupby(...)` without axis instead.\n",
      "  pd.concat(\n",
      "/home/iegor/ensys/PyPSA/pypsa/components.py:323: FutureWarning: Setting an item of incompatible dtype is deprecated and will raise in a future error of pandas. Value '[]' has dtype incompatible with float64, please explicitly cast to a compatible dtype first.\n",
      "  attrs.loc[bool_b, \"default\"] = attrs.loc[bool_b].isin({True, \"True\"})\n",
      "/home/iegor/ensys/PyPSA/pypsa/components.py:323: FutureWarning: Setting an item of incompatible dtype is deprecated and will raise in a future error of pandas. Value '[]' has dtype incompatible with float64, please explicitly cast to a compatible dtype first.\n",
      "  attrs.loc[bool_b, \"default\"] = attrs.loc[bool_b].isin({True, \"True\"})\n",
      "/home/iegor/ensys/PyPSA/pypsa/components.py:323: FutureWarning: Setting an item of incompatible dtype is deprecated and will raise in a future error of pandas. Value '[]' has dtype incompatible with float64, please explicitly cast to a compatible dtype first.\n",
      "  attrs.loc[bool_b, \"default\"] = attrs.loc[bool_b].isin({True, \"True\"})\n",
      "/home/iegor/ensys/PyPSA/pypsa/components.py:323: FutureWarning: Setting an item of incompatible dtype is deprecated and will raise in a future error of pandas. Value '[]' has dtype incompatible with float64, please explicitly cast to a compatible dtype first.\n",
      "  attrs.loc[bool_b, \"default\"] = attrs.loc[bool_b].isin({True, \"True\"})\n",
      "INFO:pypsa.components:Applying weightings to all columns of `snapshot_weightings`\n"
     ]
    },
    {
     "name": "stdout",
     "output_type": "stream",
     "text": [
      "Running HiGHS 1.5.3 [date: 2023-05-16, git hash: 594fa5a9d-dirty]\n",
      "Copyright (c) 2023 HiGHS under MIT licence terms\n",
      "Presolving model\n",
      "2920 rows, 9763 cols, 9763 nonzeros\n",
      "1960 rows, 7110 cols, 7110 nonzeros\n",
      "Presolve : Reductions: rows 1960(-24320); columns 7110(-4570); elements 7110(-27930)\n",
      "Solving the presolved LP\n",
      "Using EKK dual simplex solver - serial\n",
      "  Iteration        Objective     Infeasibilities num(sum)\n",
      "          0     2.9869592338e+05 Pr: 1960(1960) 0s\n",
      "       1960     6.6574277031e+05 Pr: 0(0) 0s\n",
      "Solving the original LP from the solution after postsolve\n",
      "Using EKK dual simplex solver - serial\n",
      "  Iteration        Objective     Infeasibilities num(sum)\n",
      "       1960     6.6532574104e+05 Pr: 1(1) 0s\n",
      "       1963     6.6574277031e+05 Pr: 0(0) 0s\n",
      "Model   status      : Optimal\n",
      "Simplex   iterations: 1963\n",
      "Objective value     :  6.6574277031e+05\n",
      "HiGHS run time      :          0.05\n"
     ]
    },
    {
     "name": "stderr",
     "output_type": "stream",
     "text": [
      "/home/iegor/ensys/PyPSA/pypsa/optimization/constraints.py:530: FutureWarning: DataFrame.groupby with axis=1 is deprecated. Do `frame.T.groupby(...)` without axis instead.\n",
      "  (-get_as_dense(n, \"Load\", \"p_set\", sns) * n.loads.sign)\n",
      "INFO:linopy.model: Solve problem using Highs solver\n",
      "INFO:linopy.io:Writing objective.\n"
     ]
    },
    {
     "name": "stdout",
     "output_type": "stream",
     "text": [
      "Generator\n",
      "DE solar      1.388503\n",
      "DE wind      -0.000000\n",
      "DE gas        1.000000\n",
      "DE lignite   -0.000000\n",
      "Name: p_nom, dtype: float64\n"
     ]
    },
    {
     "name": "stderr",
     "output_type": "stream",
     "text": [
      "Writing constraints.: 100%|\u001b[38;2;128;191;255m██████████\u001b[0m| 3/3 [00:00<00:00, 37.88it/s]\n",
      "Writing continuous variables.: 100%|\u001b[38;2;128;191;255m██████████\u001b[0m| 1/1 [00:00<00:00, 57.00it/s]\n",
      "INFO:linopy.io: Writing time: 0.12s\n",
      "INFO:linopy.solvers:Log file at /tmp/highs.log.\n",
      "INFO:linopy.constants: Optimization successful: \n",
      "Status: ok\n",
      "Termination condition: optimal\n",
      "Solution: 11680 primals, 26280 duals\n",
      "Objective: 4.85e+06\n",
      "Solver model: available\n",
      "Solver message: optimal\n",
      "\n",
      "INFO:pypsa.optimization.optimize:The shadow-prices of the constraints Generator-fix-p-lower, Generator-fix-p-upper were not assigned to the network.\n"
     ]
    },
    {
     "name": "stdout",
     "output_type": "stream",
     "text": [
      "Running HiGHS 1.5.3 [date: 2023-05-16, git hash: 594fa5a9d-dirty]\n",
      "Copyright (c) 2023 HiGHS under MIT licence terms\n",
      "Presolving model\n",
      "0 rows, 0 cols, 0 nonzeros\n",
      "0 rows, 0 cols, 0 nonzeros\n",
      "Presolve : Reductions: rows 0(-26280); columns 0(-11680); elements 0(-35040) - Reduced to empty\n",
      "Solving the original LP from the solution after postsolve\n",
      "Model   status      : Optimal\n",
      "Objective value     :  4.8459407650e+06\n",
      "HiGHS run time      :          0.02\n",
      "Generator\n",
      "DE solar      1.631694\n",
      "DE wind       1.924190\n",
      "DE gas       -0.000000\n",
      "DE lignite    0.986723\n",
      "Name: p_nom, dtype: float64\n"
     ]
    },
    {
     "name": "stderr",
     "output_type": "stream",
     "text": [
      "/home/iegor/ensys/PyPSA/pypsa/optimization/optimize.py:466: FutureWarning: DataFrame.groupby with axis=1 is deprecated. Do `frame.T.groupby(...)` without axis instead.\n",
      "  pd.concat(\n",
      "/home/iegor/ensys/PyPSA/pypsa/optimization/constraints.py:530: FutureWarning: DataFrame.groupby with axis=1 is deprecated. Do `frame.T.groupby(...)` without axis instead.\n",
      "  (-get_as_dense(n, \"Load\", \"p_set\", sns) * n.loads.sign)\n",
      "INFO:linopy.model: Solve problem using Highs solver\n",
      "INFO:linopy.io:Writing objective.\n",
      "Writing constraints.: 100%|\u001b[38;2;128;191;255m██████████\u001b[0m| 3/3 [00:00<00:00, 27.03it/s]\n",
      "Writing continuous variables.: 100%|\u001b[38;2;128;191;255m██████████\u001b[0m| 1/1 [00:00<00:00, 60.37it/s]\n",
      "INFO:linopy.io: Writing time: 0.15s\n",
      "INFO:linopy.solvers:Log file at /tmp/highs.log.\n",
      "INFO:linopy.constants: Optimization successful: \n",
      "Status: ok\n",
      "Termination condition: optimal\n",
      "Solution: 11680 primals, 26280 duals\n",
      "Objective: 5.79e+05\n",
      "Solver model: available\n",
      "Solver message: optimal\n",
      "\n",
      "INFO:pypsa.optimization.optimize:The shadow-prices of the constraints Generator-fix-p-lower, Generator-fix-p-upper were not assigned to the network.\n"
     ]
    },
    {
     "name": "stdout",
     "output_type": "stream",
     "text": [
      "Running HiGHS 1.5.3 [date: 2023-05-16, git hash: 594fa5a9d-dirty]\n",
      "Copyright (c) 2023 HiGHS under MIT licence terms\n",
      "Presolving model\n",
      "1540 rows, 4358 cols, 4344 nonzeros\n",
      "210 rows, 630 cols, 630 nonzeros\n",
      "Presolve : Reductions: rows 210(-26070); columns 630(-11050); elements 630(-34410)\n",
      "Solving the presolved LP\n",
      "Using EKK dual simplex solver - serial\n",
      "  Iteration        Objective     Infeasibilities num(sum)\n",
      "          0     5.7876881154e+05 Pr: 210(210) 0s\n",
      "        210     5.7877726371e+05 Pr: 0(0) 0s\n",
      "Solving the original LP from the solution after postsolve\n",
      "Using EKK dual simplex solver - serial\n",
      "  Iteration        Objective     Infeasibilities num(sum)\n",
      "        210     5.7877717504e+05 Pr: 2(2) 0s\n",
      "        214     5.7877726371e+05 Pr: 0(0) 0s\n",
      "Model   status      : Optimal\n",
      "Simplex   iterations: 214\n",
      "Objective value     :  5.7877726371e+05\n",
      "HiGHS run time      :          0.04\n",
      "Generator\n",
      "DE solar      1.631694\n",
      "DE wind       1.924190\n",
      "DE gas       -0.000000\n",
      "DE lignite    0.986723\n",
      "Name: p_nom, dtype: float64\n"
     ]
    },
    {
     "name": "stderr",
     "output_type": "stream",
     "text": [
      "/home/iegor/ensys/PyPSA/pypsa/optimization/optimize.py:466: FutureWarning: DataFrame.groupby with axis=1 is deprecated. Do `frame.T.groupby(...)` without axis instead.\n",
      "  pd.concat(\n",
      "/home/iegor/ensys/PyPSA/pypsa/optimization/constraints.py:530: FutureWarning: DataFrame.groupby with axis=1 is deprecated. Do `frame.T.groupby(...)` without axis instead.\n",
      "  (-get_as_dense(n, \"Load\", \"p_set\", sns) * n.loads.sign)\n",
      "INFO:linopy.model: Solve problem using Highs solver\n",
      "INFO:linopy.io:Writing objective.\n",
      "Writing constraints.: 100%|\u001b[38;2;128;191;255m██████████\u001b[0m| 3/3 [00:00<00:00, 35.34it/s]\n",
      "Writing continuous variables.: 100%|\u001b[38;2;128;191;255m██████████\u001b[0m| 1/1 [00:00<00:00, 61.14it/s]\n",
      "INFO:linopy.io: Writing time: 0.12s\n",
      "INFO:linopy.solvers:Log file at /tmp/highs.log.\n",
      "INFO:linopy.constants: Optimization successful: \n",
      "Status: ok\n",
      "Termination condition: optimal\n",
      "Solution: 11680 primals, 26280 duals\n",
      "Objective: 5.79e+05\n",
      "Solver model: available\n",
      "Solver message: optimal\n",
      "\n",
      "INFO:pypsa.optimization.optimize:The shadow-prices of the constraints Generator-fix-p-lower, Generator-fix-p-upper were not assigned to the network.\n"
     ]
    },
    {
     "name": "stdout",
     "output_type": "stream",
     "text": [
      "Running HiGHS 1.5.3 [date: 2023-05-16, git hash: 594fa5a9d-dirty]\n",
      "Copyright (c) 2023 HiGHS under MIT licence terms\n",
      "Presolving model\n",
      "1540 rows, 4358 cols, 4344 nonzeros\n",
      "210 rows, 630 cols, 630 nonzeros\n",
      "Presolve : Reductions: rows 210(-26070); columns 630(-11050); elements 630(-34410)\n",
      "Solving the presolved LP\n",
      "Using EKK dual simplex solver - serial\n",
      "  Iteration        Objective     Infeasibilities num(sum)\n",
      "          0     5.7876881154e+05 Pr: 210(210) 0s\n",
      "        210     5.7877726371e+05 Pr: 0(0) 0s\n",
      "Solving the original LP from the solution after postsolve\n",
      "Using EKK dual simplex solver - serial\n",
      "  Iteration        Objective     Infeasibilities num(sum)\n",
      "        210     5.7877717504e+05 Pr: 2(2) 0s\n",
      "        214     5.7877726371e+05 Pr: 0(0) 0s\n",
      "Model   status      : Optimal\n",
      "Simplex   iterations: 214\n",
      "Objective value     :  5.7877726371e+05\n",
      "HiGHS run time      :          0.04\n",
      "Generator\n",
      "DE solar      1.505975\n",
      "DE wind       1.529286\n",
      "DE gas        0.776100\n",
      "DE lignite    0.926722\n",
      "Name: p_nom, dtype: float64\n"
     ]
    },
    {
     "name": "stderr",
     "output_type": "stream",
     "text": [
      "/home/iegor/ensys/PyPSA/pypsa/optimization/optimize.py:466: FutureWarning: DataFrame.groupby with axis=1 is deprecated. Do `frame.T.groupby(...)` without axis instead.\n",
      "  pd.concat(\n",
      "/home/iegor/ensys/PyPSA/pypsa/optimization/constraints.py:530: FutureWarning: DataFrame.groupby with axis=1 is deprecated. Do `frame.T.groupby(...)` without axis instead.\n",
      "  (-get_as_dense(n, \"Load\", \"p_set\", sns) * n.loads.sign)\n",
      "INFO:linopy.model: Solve problem using Highs solver\n",
      "INFO:linopy.io:Writing objective.\n",
      "Writing constraints.: 100%|\u001b[38;2;128;191;255m██████████\u001b[0m| 3/3 [00:00<00:00, 35.78it/s]\n",
      "Writing continuous variables.: 100%|\u001b[38;2;128;191;255m██████████\u001b[0m| 1/1 [00:00<00:00, 50.81it/s]\n",
      "INFO:linopy.io: Writing time: 0.13s\n",
      "INFO:linopy.solvers:Log file at /tmp/highs.log.\n",
      "INFO:linopy.constants: Optimization successful: \n",
      "Status: ok\n",
      "Termination condition: optimal\n",
      "Solution: 11680 primals, 26280 duals\n",
      "Objective: 6.70e+05\n",
      "Solver model: available\n",
      "Solver message: optimal\n",
      "\n",
      "INFO:pypsa.optimization.optimize:The shadow-prices of the constraints Generator-fix-p-lower, Generator-fix-p-upper were not assigned to the network.\n"
     ]
    },
    {
     "name": "stdout",
     "output_type": "stream",
     "text": [
      "Running HiGHS 1.5.3 [date: 2023-05-16, git hash: 594fa5a9d-dirty]\n",
      "Copyright (c) 2023 HiGHS under MIT licence terms\n",
      "Presolving model\n",
      "2920 rows, 9763 cols, 9763 nonzeros\n",
      "1960 rows, 7110 cols, 7110 nonzeros\n",
      "Presolve : Reductions: rows 1960(-24320); columns 7110(-4570); elements 7110(-27930)\n",
      "Solving the presolved LP\n",
      "Using EKK dual simplex solver - serial\n",
      "  Iteration        Objective     Infeasibilities num(sum)\n",
      "          0     3.0319749693e+05 Pr: 1960(1960) 0s\n",
      "       1960     6.7024434385e+05 Pr: 0(0) 0s\n",
      "Solving the original LP from the solution after postsolve\n",
      "Using EKK dual simplex solver - serial\n",
      "  Iteration        Objective     Infeasibilities num(sum)\n",
      "       1960     6.6982731458e+05 Pr: 1(1) 0s\n",
      "       1963     6.7024434385e+05 Pr: 0(0) 0s\n",
      "Model   status      : Optimal\n",
      "Simplex   iterations: 1963\n",
      "Objective value     :  6.7024434385e+05\n",
      "HiGHS run time      :          0.05\n"
     ]
    },
    {
     "name": "stderr",
     "output_type": "stream",
     "text": [
      "/home/iegor/ensys/PyPSA/pypsa/optimization/optimize.py:466: FutureWarning: DataFrame.groupby with axis=1 is deprecated. Do `frame.T.groupby(...)` without axis instead.\n",
      "  pd.concat(\n"
     ]
    }
   ],
   "source": [
    "for scenario in scenarios:\n",
    "    gas_price = gas_prices[scenario]\n",
    "    n = prepare_network(cts, gas_price)\n",
    "    n.generators.p_nom_extendable = False\n",
    "\n",
    "    for capacity_scenario in results.index:\n",
    "        n.generators.p_nom = results.loc[capacity_scenario, n.generators.index]\n",
    "\n",
    "        print(n.generators.p_nom)\n",
    "\n",
    "        n.optimize(solver_name=solver_name)\n",
    "\n",
    "        results.at[capacity_scenario, f\"gas-p-{scenario}\"] = n.generators_t.p[\n",
    "            \"DE gas\"\n",
    "        ].sum()\n",
    "        results.at[capacity_scenario, f\"lignite-p-{scenario}\"] = n.generators_t.p[\n",
    "            \"DE lignite\"\n",
    "        ].sum()"
   ]
  },
  {
   "cell_type": "code",
   "execution_count": 157,
   "metadata": {},
   "outputs": [
    {
     "data": {
      "text/html": [
       "<div>\n",
       "<style scoped>\n",
       "    .dataframe tbody tr th:only-of-type {\n",
       "        vertical-align: middle;\n",
       "    }\n",
       "\n",
       "    .dataframe tbody tr th {\n",
       "        vertical-align: top;\n",
       "    }\n",
       "\n",
       "    .dataframe thead th {\n",
       "        text-align: right;\n",
       "    }\n",
       "</style>\n",
       "<table border=\"1\" class=\"dataframe\">\n",
       "  <thead>\n",
       "    <tr style=\"text-align: right;\">\n",
       "      <th>Generator</th>\n",
       "      <th>DE solar</th>\n",
       "      <th>DE wind</th>\n",
       "      <th>DE gas</th>\n",
       "      <th>DE lignite</th>\n",
       "      <th>gas-p-low</th>\n",
       "      <th>lignite-p-low</th>\n",
       "      <th>gas-p-med</th>\n",
       "      <th>lignite-p-med</th>\n",
       "      <th>gas-p-high</th>\n",
       "      <th>lignite-p-high</th>\n",
       "    </tr>\n",
       "    <tr>\n",
       "      <th>scenario</th>\n",
       "      <th></th>\n",
       "      <th></th>\n",
       "      <th></th>\n",
       "      <th></th>\n",
       "      <th></th>\n",
       "      <th></th>\n",
       "      <th></th>\n",
       "      <th></th>\n",
       "      <th></th>\n",
       "      <th></th>\n",
       "    </tr>\n",
       "  </thead>\n",
       "  <tbody>\n",
       "    <tr>\n",
       "      <th>low</th>\n",
       "      <td>1.388503</td>\n",
       "      <td>-0.000000</td>\n",
       "      <td>1.0000</td>\n",
       "      <td>-0.000000</td>\n",
       "      <td>2422.962927</td>\n",
       "      <td>0.000000</td>\n",
       "      <td>2422.962927</td>\n",
       "      <td>0.000000</td>\n",
       "      <td>2422.962927</td>\n",
       "      <td>0.000000</td>\n",
       "    </tr>\n",
       "    <tr>\n",
       "      <th>med</th>\n",
       "      <td>1.631694</td>\n",
       "      <td>1.924190</td>\n",
       "      <td>-0.0000</td>\n",
       "      <td>0.986723</td>\n",
       "      <td>0.000000</td>\n",
       "      <td>1285.992264</td>\n",
       "      <td>0.000000</td>\n",
       "      <td>1285.992264</td>\n",
       "      <td>0.000000</td>\n",
       "      <td>1285.992264</td>\n",
       "    </tr>\n",
       "    <tr>\n",
       "      <th>high</th>\n",
       "      <td>1.631694</td>\n",
       "      <td>1.924190</td>\n",
       "      <td>-0.0000</td>\n",
       "      <td>0.986723</td>\n",
       "      <td>0.000000</td>\n",
       "      <td>1285.992264</td>\n",
       "      <td>0.000000</td>\n",
       "      <td>1285.992264</td>\n",
       "      <td>0.000000</td>\n",
       "      <td>1285.992264</td>\n",
       "    </tr>\n",
       "    <tr>\n",
       "      <th>stochastic</th>\n",
       "      <td>1.505975</td>\n",
       "      <td>1.529286</td>\n",
       "      <td>0.7761</td>\n",
       "      <td>0.926722</td>\n",
       "      <td>1409.254803</td>\n",
       "      <td>69.683772</td>\n",
       "      <td>3.001049</td>\n",
       "      <td>1475.937526</td>\n",
       "      <td>3.001049</td>\n",
       "      <td>1475.937526</td>\n",
       "    </tr>\n",
       "  </tbody>\n",
       "</table>\n",
       "</div>"
      ],
      "text/plain": [
       "Generator   DE solar   DE wind  DE gas  DE lignite    gas-p-low  \\\n",
       "scenario                                                          \n",
       "low         1.388503 -0.000000  1.0000   -0.000000  2422.962927   \n",
       "med         1.631694  1.924190 -0.0000    0.986723     0.000000   \n",
       "high        1.631694  1.924190 -0.0000    0.986723     0.000000   \n",
       "stochastic  1.505975  1.529286  0.7761    0.926722  1409.254803   \n",
       "\n",
       "Generator   lignite-p-low    gas-p-med  lignite-p-med   gas-p-high  \\\n",
       "scenario                                                             \n",
       "low              0.000000  2422.962927       0.000000  2422.962927   \n",
       "med           1285.992264     0.000000    1285.992264     0.000000   \n",
       "high          1285.992264     0.000000    1285.992264     0.000000   \n",
       "stochastic      69.683772     3.001049    1475.937526     3.001049   \n",
       "\n",
       "Generator   lignite-p-high  \n",
       "scenario                    \n",
       "low               0.000000  \n",
       "med            1285.992264  \n",
       "high           1285.992264  \n",
       "stochastic     1475.937526  "
      ]
     },
     "execution_count": 157,
     "metadata": {},
     "output_type": "execute_result"
    }
   ],
   "source": [
    "results"
   ]
  },
  {
   "cell_type": "code",
   "execution_count": 158,
   "metadata": {},
   "outputs": [],
   "source": [
    "for capacity_scenario in results.index:\n",
    "    for g in n.generators.index:\n",
    "        results.at[capacity_scenario, f\"{g} CC\"] = (\n",
    "            results.at[capacity_scenario, g] * n.generators.at[g, \"capital_cost\"]\n",
    "        )\n",
    "\n",
    "    for scenario in scenarios:\n",
    "        results.at[capacity_scenario, f\"DE gas-{scenario} MC\"] = (\n",
    "            n.snapshot_weightings.objective.mean()\n",
    "            * gas_prices[scenario]\n",
    "            / n.generators.at[\"DE gas\", \"efficiency\"]\n",
    "            * results.at[capacity_scenario, f\"gas-p-{scenario}\"]\n",
    "        )\n",
    "        results.at[capacity_scenario, f\"DE lignite-{scenario} MC\"] = (\n",
    "            n.snapshot_weightings.objective.mean()\n",
    "            * n.generators.at[\"DE lignite\", \"marginal_cost\"]\n",
    "            * results.at[capacity_scenario, f\"lignite-p-{scenario}\"]\n",
    "        )\n",
    "\n",
    "    results.at[capacity_scenario, \"DE gas-mean MC\"] = sum(\n",
    "        [\n",
    "            probability[scenario]\n",
    "            * results.at[capacity_scenario, f\"DE gas-{scenario} MC\"]\n",
    "            for scenario in scenarios\n",
    "        ]\n",
    "    )\n",
    "    results.at[capacity_scenario, \"DE lignite-mean MC\"] = sum(\n",
    "        [\n",
    "            probability[scenario]\n",
    "            * results.at[capacity_scenario, f\"DE lignite-{scenario} MC\"]\n",
    "            for scenario in scenarios\n",
    "        ]\n",
    "    )"
   ]
  },
  {
   "cell_type": "code",
   "execution_count": 159,
   "metadata": {},
   "outputs": [
    {
     "data": {
      "image/png": "[encoded data removed]",
      "text/plain": [
       "<Figure size 1600x400 with 4 Axes>"
      ]
     },
     "metadata": {},
     "output_type": "display_data"
    }
   ],
   "source": [
    "fig, axes = plt.subplots(1, len(results.index), figsize=(len(results.index) * 4, 4))\n",
    "\n",
    "colors = {\n",
    "    \"wind\": \"b\",\n",
    "    \"solar\": \"y\",\n",
    "    \"lignite\": \"black\",\n",
    "    \"gas\": \"brown\",\n",
    "    \"gas MC\": \"orange\",\n",
    "    \"lignite MC\": \"gray\",\n",
    "}\n",
    "\n",
    "# fig.suptitle('Horizontally stacked subplots')\n",
    "\n",
    "for i, capacity_scenario in enumerate(results.index):\n",
    "    ax = axes[i]\n",
    "\n",
    "    df = pd.DataFrame(index=scenarios + [\"mean\"])\n",
    "\n",
    "    for tech in [\"solar\", \"wind\", \"gas\", \"lignite\"]:\n",
    "        df[tech] = results.at[capacity_scenario, f\"DE {tech} CC\"]\n",
    "\n",
    "    for scenario in scenarios + [\"mean\"]:\n",
    "        df.at[scenario, \"gas MC\"] = results.at[\n",
    "            capacity_scenario, f\"DE gas-{scenario} MC\"\n",
    "        ]\n",
    "        df.at[scenario, \"lignite MC\"] = results.at[\n",
    "            capacity_scenario, f\"DE lignite-{scenario} MC\"\n",
    "        ]\n",
    "\n",
    "    df.plot(kind=\"bar\", stacked=True, ax=ax, color=colors)\n",
    "\n",
    "    ax.set_title(f\"capacity scenario {capacity_scenario}\")\n",
    "\n",
    "    ax.legend(loc=\"upper left\")\n",
    "\n",
    "    ax.set_ylim([0, 2.5e6])"
   ]
  },
  {
   "cell_type": "code",
   "execution_count": 160,
   "metadata": {},
   "outputs": [
    {
     "data": {
      "text/plain": [
       "(0.0, 2000000.0)"
      ]
     },
     "execution_count": 160,
     "metadata": {},
     "output_type": "execute_result"
    },
    {
     "data": {
      "image/png": "[encoded data removed]",
      "text/plain": [
       "<Figure size 400x400 with 1 Axes>"
      ]
     },
     "metadata": {},
     "output_type": "display_data"
    }
   ],
   "source": [
    "fig, ax = plt.subplots(1, 1, figsize=(4, 4))\n",
    "\n",
    "df = (\n",
    "    results[\n",
    "        [\n",
    "            \"DE solar CC\",\n",
    "            \"DE wind CC\",\n",
    "            \"DE gas CC\",\n",
    "            \"DE lignite CC\",\n",
    "            \"DE gas-mean MC\",\n",
    "            \"DE lignite-mean MC\",\n",
    "        ]\n",
    "    ]\n",
    "    .rename(columns=lambda x: x[3:-3])\n",
    "    .rename(columns={\"gas-mean\": \"gas MC\", \"lignite-mean\": \"lignite MC\"})\n",
    ")\n",
    "\n",
    "df.plot(kind=\"bar\", stacked=True, ax=ax, color=colors)\n",
    "\n",
    "ax.set_xlabel(\"capacity scenario\")\n",
    "\n",
    "ax.set_title(\"means of results\")\n",
    "ax.set_ylim([0, 2e6])"
   ]
  },
  {
   "cell_type": "markdown",
   "metadata": {},
   "source": [
    "# Analysis of a Stochastic Solution"
   ]
  },
  {
   "cell_type": "markdown",
   "metadata": {},
   "source": [
    "### The Expected costs of ignoring uncertainty (ECIU)\n",
    "\n",
    "in some literature also defined as the Value of Stochastic Solution (VSS). Can be used interchangeably.\n",
    "\n",
    "The natural question to ask is how much difference it really makes to the quality of the decisions reached if I use a stochastic problem instead of a deterministic problem?\n",
    "\n",
    "The ECIU measures the value of using a stochastic model (or the expected costs of ignoring uncertainty when using a deterministic model).\n"
   ]
  },
  {
   "cell_type": "code",
   "execution_count": 161,
   "metadata": {},
   "outputs": [],
   "source": [
    "portfolios = pd.DataFrame()\n",
    "costs = pd.Series()"
   ]
  },
  {
   "cell_type": "markdown",
   "metadata": {},
   "source": [
    "### Define the naive problem (usually -- the expected value problem (EV))"
   ]
  },
  {
   "cell_type": "code",
   "execution_count": 162,
   "metadata": {},
   "outputs": [
    {
     "data": {
      "text/plain": [
       "170.0"
      ]
     },
     "execution_count": 162,
     "metadata": {},
     "output_type": "execute_result"
    }
   ],
   "source": [
    "# can be anything (e.g., the 'med' scenario). A texbook way is to take expected value of uncertain parameter.\n",
    "\n",
    "naive_scenario = sum(pd.Series(gas_prices) * pd.Series(probability))\n",
    "naive_scenario\n",
    "# naive_scenario = gas_prices[\"med\"]"
   ]
  },
  {
   "cell_type": "markdown",
   "metadata": {},
   "source": [
    "### solve naive problem (deterministic)"
   ]
  },
  {
   "cell_type": "code",
   "execution_count": 163,
   "metadata": {},
   "outputs": [
    {
     "name": "stderr",
     "output_type": "stream",
     "text": [
      "/home/iegor/ensys/PyPSA/pypsa/components.py:323: FutureWarning: Setting an item of incompatible dtype is deprecated and will raise in a future error of pandas. Value '[]' has dtype incompatible with float64, please explicitly cast to a compatible dtype first.\n",
      "  attrs.loc[bool_b, \"default\"] = attrs.loc[bool_b].isin({True, \"True\"})\n",
      "/home/iegor/ensys/PyPSA/pypsa/components.py:323: FutureWarning: Setting an item of incompatible dtype is deprecated and will raise in a future error of pandas. Value '[]' has dtype incompatible with float64, please explicitly cast to a compatible dtype first.\n",
      "  attrs.loc[bool_b, \"default\"] = attrs.loc[bool_b].isin({True, \"True\"})\n",
      "/home/iegor/ensys/PyPSA/pypsa/components.py:323: FutureWarning: Setting an item of incompatible dtype is deprecated and will raise in a future error of pandas. Value '[]' has dtype incompatible with float64, please explicitly cast to a compatible dtype first.\n",
      "  attrs.loc[bool_b, \"default\"] = attrs.loc[bool_b].isin({True, \"True\"})\n",
      "/home/iegor/ensys/PyPSA/pypsa/components.py:323: FutureWarning: Setting an item of incompatible dtype is deprecated and will raise in a future error of pandas. Value '[]' has dtype incompatible with float64, please explicitly cast to a compatible dtype first.\n",
      "  attrs.loc[bool_b, \"default\"] = attrs.loc[bool_b].isin({True, \"True\"})\n",
      "INFO:pypsa.components:Applying weightings to all columns of `snapshot_weightings`\n",
      "/home/iegor/ensys/PyPSA/pypsa/optimization/constraints.py:530: FutureWarning: DataFrame.groupby with axis=1 is deprecated. Do `frame.T.groupby(...)` without axis instead.\n",
      "  (-get_as_dense(n, \"Load\", \"p_set\", sns) * n.loads.sign)\n",
      "INFO:linopy.model: Solve problem using Highs solver\n",
      "INFO:linopy.io:Writing objective.\n",
      "Writing constraints.: 100%|\u001b[38;2;128;191;255m██████████\u001b[0m| 5/5 [00:00<00:00, 50.72it/s]\n",
      "Writing continuous variables.: 100%|\u001b[38;2;128;191;255m██████████\u001b[0m| 2/2 [00:00<00:00, 101.77it/s]\n",
      "INFO:linopy.io: Writing time: 0.14s\n",
      "INFO:linopy.solvers:Log file at /tmp/highs.log.\n"
     ]
    },
    {
     "name": "stdout",
     "output_type": "stream",
     "text": [
      "Running HiGHS 1.5.3 [date: 2023-05-16, git hash: 594fa5a9d-dirty]\n",
      "Copyright (c) 2023 HiGHS under MIT licence terms\n",
      "Presolving model\n",
      "13239 rows, 10323 cols, 30957 nonzeros\n",
      "13239 rows, 10323 cols, 30957 nonzeros\n",
      "Presolve : Reductions: rows 13239(-13045); columns 10323(-1361); elements 30957(-14406)\n",
      "Solving the presolved LP\n",
      "Using EKK dual simplex solver - serial\n",
      "  Iteration        Objective     Infeasibilities num(sum)\n",
      "          0     0.0000000000e+00 Pr: 2920(38576) 0s\n",
      "       7369     1.1182753980e+06 Pr: 0(0) 0s\n",
      "Solving the original LP from the solution after postsolve\n",
      "Model   status      : Optimal\n",
      "Simplex   iterations: 7369\n",
      "Objective value     :  1.1182753980e+06\n",
      "HiGHS run time      :          0.23\n"
     ]
    },
    {
     "name": "stderr",
     "output_type": "stream",
     "text": [
      "INFO:linopy.constants: Optimization successful: \n",
      "Status: ok\n",
      "Termination condition: optimal\n",
      "Solution: 11684 primals, 26284 duals\n",
      "Objective: 1.12e+06\n",
      "Solver model: available\n",
      "Solver message: optimal\n",
      "\n",
      "INFO:pypsa.optimization.optimize:The shadow-prices of the constraints Generator-ext-p-lower, Generator-ext-p-upper were not assigned to the network.\n",
      "/home/iegor/ensys/PyPSA/pypsa/optimization/optimize.py:466: FutureWarning: DataFrame.groupby with axis=1 is deprecated. Do `frame.T.groupby(...)` without axis instead.\n",
      "  pd.concat(\n"
     ]
    }
   ],
   "source": [
    "scenario = \"naive\"  # naive problem (in literature often EVP for Expected Value Problem, if the naive assumption is the expected value)\n",
    "gas_price = naive_scenario\n",
    "\n",
    "n = prepare_network(cts, gas_price)\n",
    "\n",
    "n.optimize(solver_name=solver_name)\n",
    "\n",
    "portfolios[scenario] = n.generators.p_nom_opt\n",
    "costs[scenario] = n.objective"
   ]
  },
  {
   "cell_type": "code",
   "execution_count": 164,
   "metadata": {},
   "outputs": [
    {
     "data": {
      "text/html": [
       "<div>\n",
       "<style scoped>\n",
       "    .dataframe tbody tr th:only-of-type {\n",
       "        vertical-align: middle;\n",
       "    }\n",
       "\n",
       "    .dataframe tbody tr th {\n",
       "        vertical-align: top;\n",
       "    }\n",
       "\n",
       "    .dataframe thead th {\n",
       "        text-align: right;\n",
       "    }\n",
       "</style>\n",
       "<table border=\"1\" class=\"dataframe\">\n",
       "  <thead>\n",
       "    <tr style=\"text-align: right;\">\n",
       "      <th></th>\n",
       "      <th>naive</th>\n",
       "    </tr>\n",
       "    <tr>\n",
       "      <th>Generator</th>\n",
       "      <th></th>\n",
       "    </tr>\n",
       "  </thead>\n",
       "  <tbody>\n",
       "    <tr>\n",
       "      <th>DE solar</th>\n",
       "      <td>1.631694</td>\n",
       "    </tr>\n",
       "    <tr>\n",
       "      <th>DE wind</th>\n",
       "      <td>1.924190</td>\n",
       "    </tr>\n",
       "    <tr>\n",
       "      <th>DE gas</th>\n",
       "      <td>-0.000000</td>\n",
       "    </tr>\n",
       "    <tr>\n",
       "      <th>DE lignite</th>\n",
       "      <td>0.986723</td>\n",
       "    </tr>\n",
       "  </tbody>\n",
       "</table>\n",
       "</div>"
      ],
      "text/plain": [
       "               naive\n",
       "Generator           \n",
       "DE solar    1.631694\n",
       "DE wind     1.924190\n",
       "DE gas     -0.000000\n",
       "DE lignite  0.986723"
      ]
     },
     "execution_count": 164,
     "metadata": {},
     "output_type": "execute_result"
    }
   ],
   "source": [
    "# pd.set_option(\"display.precision\", 10)\n",
    "portfolios\n",
    "# costs"
   ]
  },
  {
   "cell_type": "markdown",
   "metadata": {},
   "source": [
    "### solve stochastic problem"
   ]
  },
  {
   "cell_type": "code",
   "execution_count": 165,
   "metadata": {},
   "outputs": [
    {
     "name": "stderr",
     "output_type": "stream",
     "text": [
      "/home/iegor/ensys/PyPSA/pypsa/components.py:323: FutureWarning: Setting an item of incompatible dtype is deprecated and will raise in a future error of pandas. Value '[]' has dtype incompatible with float64, please explicitly cast to a compatible dtype first.\n",
      "  attrs.loc[bool_b, \"default\"] = attrs.loc[bool_b].isin({True, \"True\"})\n",
      "/home/iegor/ensys/PyPSA/pypsa/components.py:323: FutureWarning: Setting an item of incompatible dtype is deprecated and will raise in a future error of pandas. Value '[]' has dtype incompatible with float64, please explicitly cast to a compatible dtype first.\n",
      "  attrs.loc[bool_b, \"default\"] = attrs.loc[bool_b].isin({True, \"True\"})\n",
      "/home/iegor/ensys/PyPSA/pypsa/components.py:323: FutureWarning: Setting an item of incompatible dtype is deprecated and will raise in a future error of pandas. Value '[]' has dtype incompatible with float64, please explicitly cast to a compatible dtype first.\n",
      "  attrs.loc[bool_b, \"default\"] = attrs.loc[bool_b].isin({True, \"True\"})\n",
      "/home/iegor/ensys/PyPSA/pypsa/components.py:323: FutureWarning: Setting an item of incompatible dtype is deprecated and will raise in a future error of pandas. Value '[]' has dtype incompatible with float64, please explicitly cast to a compatible dtype first.\n",
      "  attrs.loc[bool_b, \"default\"] = attrs.loc[bool_b].isin({True, \"True\"})\n",
      "INFO:pypsa.components:Applying weightings to all columns of `snapshot_weightings`\n",
      "/home/iegor/ensys/PyPSA/pypsa/optimization/constraints.py:530: FutureWarning: DataFrame.groupby with axis=1 is deprecated. Do `frame.T.groupby(...)` without axis instead.\n",
      "  (-get_as_dense(n, \"Load\", \"p_set\", sns) * n.loads.sign)\n",
      "/tmp/ipykernel_126431/1521646535.py:45: FutureWarning: DataFrame.groupby with axis=1 is deprecated. Do `frame.T.groupby(...)` without axis instead.\n",
      "  (-get_as_dense(n, \"Load\", \"p_set\", sns) * n.loads.sign)\n",
      "/tmp/ipykernel_126431/1521646535.py:45: FutureWarning: DataFrame.groupby with axis=1 is deprecated. Do `frame.T.groupby(...)` without axis instead.\n",
      "  (-get_as_dense(n, \"Load\", \"p_set\", sns) * n.loads.sign)\n",
      "INFO:linopy.model: Solve problem using Highs solver\n",
      "INFO:linopy.io:Writing objective.\n",
      "Writing constraints.: 100%|\u001b[38;2;128;191;255m██████████\u001b[0m| 11/11 [00:00<00:00, 39.25it/s]\n",
      "Writing continuous variables.: 100%|\u001b[38;2;128;191;255m██████████\u001b[0m| 4/4 [00:00<00:00, 72.42it/s]\n",
      "INFO:linopy.io: Writing time: 0.38s\n",
      "INFO:linopy.solvers:Log file at /tmp/highs.log.\n"
     ]
    },
    {
     "name": "stdout",
     "output_type": "stream",
     "text": [
      "Running HiGHS 1.5.3 [date: 2023-05-16, git hash: 594fa5a9d-dirty]\n",
      "Copyright (c) 2023 HiGHS under MIT licence terms\n",
      "Presolving model\n",
      "39717 rows, 30961 cols, 92871 nonzeros\n",
      "39717 rows, 30961 cols, 92871 nonzeros\n",
      "Presolve : Reductions: rows 39717(-39127); columns 30961(-4083); elements 92871(-43210)\n",
      "Solving the presolved LP\n",
      "Using EKK dual simplex solver - serial\n",
      "  Iteration        Objective     Infeasibilities num(sum)\n",
      "          0     0.0000000000e+00 Pr: 8760(53192) 0s\n",
      "      24210     1.0575733538e+06 Pr: 0(0) 2s\n",
      "Solving the original LP from the solution after postsolve\n",
      "Model   status      : Optimal\n",
      "Simplex   iterations: 24210\n",
      "Objective value     :  1.0575733538e+06\n",
      "HiGHS run time      :          2.50\n"
     ]
    },
    {
     "name": "stderr",
     "output_type": "stream",
     "text": [
      "INFO:linopy.constants: Optimization successful: \n",
      "Status: ok\n",
      "Termination condition: optimal\n",
      "Solution: 35044 primals, 78844 duals\n",
      "Objective: 1.06e+06\n",
      "Solver model: available\n",
      "Solver message: optimal\n",
      "\n",
      "INFO:pypsa.optimization.optimize:The shadow-prices of the constraints Generator-ext-p-lower, Generator-ext-p-upper, Generator-ext-p-upper-med, Generator-ext-p-lower-med, Bus-nodal_balance-med, Generator-ext-p-upper-high, Generator-ext-p-lower-high, Bus-nodal_balance-high were not assigned to the network.\n",
      "/home/iegor/ensys/PyPSA/pypsa/optimization/optimize.py:466: FutureWarning: DataFrame.groupby with axis=1 is deprecated. Do `frame.T.groupby(...)` without axis instead.\n",
      "  pd.concat(\n"
     ]
    }
   ],
   "source": [
    "scenario = \"SP\"  # SP for Stochastic Problem\n",
    "gas_price = gas_prices[base_scenario]\n",
    "\n",
    "n = prepare_network(cts, gas_price)\n",
    "prepare_stochastic_model(n)\n",
    "\n",
    "n.optimize.solve_model(solver_name=solver_name)\n",
    "\n",
    "portfolios[scenario] = n.generators.p_nom_opt\n",
    "costs[scenario] = n.objective"
   ]
  },
  {
   "cell_type": "code",
   "execution_count": 166,
   "metadata": {},
   "outputs": [
    {
     "data": {
      "text/html": [
       "<div>\n",
       "<style scoped>\n",
       "    .dataframe tbody tr th:only-of-type {\n",
       "        vertical-align: middle;\n",
       "    }\n",
       "\n",
       "    .dataframe tbody tr th {\n",
       "        vertical-align: top;\n",
       "    }\n",
       "\n",
       "    .dataframe thead th {\n",
       "        text-align: right;\n",
       "    }\n",
       "</style>\n",
       "<table border=\"1\" class=\"dataframe\">\n",
       "  <thead>\n",
       "    <tr style=\"text-align: right;\">\n",
       "      <th></th>\n",
       "      <th>naive</th>\n",
       "      <th>SP</th>\n",
       "    </tr>\n",
       "    <tr>\n",
       "      <th>Generator</th>\n",
       "      <th></th>\n",
       "      <th></th>\n",
       "    </tr>\n",
       "  </thead>\n",
       "  <tbody>\n",
       "    <tr>\n",
       "      <th>DE solar</th>\n",
       "      <td>1.631694</td>\n",
       "      <td>1.505975</td>\n",
       "    </tr>\n",
       "    <tr>\n",
       "      <th>DE wind</th>\n",
       "      <td>1.924190</td>\n",
       "      <td>1.529286</td>\n",
       "    </tr>\n",
       "    <tr>\n",
       "      <th>DE gas</th>\n",
       "      <td>-0.000000</td>\n",
       "      <td>0.776100</td>\n",
       "    </tr>\n",
       "    <tr>\n",
       "      <th>DE lignite</th>\n",
       "      <td>0.986723</td>\n",
       "      <td>0.926722</td>\n",
       "    </tr>\n",
       "  </tbody>\n",
       "</table>\n",
       "</div>"
      ],
      "text/plain": [
       "               naive        SP\n",
       "Generator                     \n",
       "DE solar    1.631694  1.505975\n",
       "DE wind     1.924190  1.529286\n",
       "DE gas     -0.000000  0.776100\n",
       "DE lignite  0.986723  0.926722"
      ]
     },
     "execution_count": 166,
     "metadata": {},
     "output_type": "execute_result"
    }
   ],
   "source": [
    "portfolios"
   ]
  },
  {
   "cell_type": "markdown",
   "metadata": {},
   "source": [
    "### Solve stochastic problem constrained by the naive solution "
   ]
  },
  {
   "cell_type": "code",
   "execution_count": 167,
   "metadata": {},
   "outputs": [
    {
     "name": "stderr",
     "output_type": "stream",
     "text": [
      "/home/iegor/ensys/PyPSA/pypsa/components.py:323: FutureWarning: Setting an item of incompatible dtype is deprecated and will raise in a future error of pandas. Value '[]' has dtype incompatible with float64, please explicitly cast to a compatible dtype first.\n",
      "  attrs.loc[bool_b, \"default\"] = attrs.loc[bool_b].isin({True, \"True\"})\n",
      "/home/iegor/ensys/PyPSA/pypsa/components.py:323: FutureWarning: Setting an item of incompatible dtype is deprecated and will raise in a future error of pandas. Value '[]' has dtype incompatible with float64, please explicitly cast to a compatible dtype first.\n",
      "  attrs.loc[bool_b, \"default\"] = attrs.loc[bool_b].isin({True, \"True\"})\n",
      "/home/iegor/ensys/PyPSA/pypsa/components.py:323: FutureWarning: Setting an item of incompatible dtype is deprecated and will raise in a future error of pandas. Value '[]' has dtype incompatible with float64, please explicitly cast to a compatible dtype first.\n",
      "  attrs.loc[bool_b, \"default\"] = attrs.loc[bool_b].isin({True, \"True\"})\n",
      "/home/iegor/ensys/PyPSA/pypsa/components.py:323: FutureWarning: Setting an item of incompatible dtype is deprecated and will raise in a future error of pandas. Value '[]' has dtype incompatible with float64, please explicitly cast to a compatible dtype first.\n",
      "  attrs.loc[bool_b, \"default\"] = attrs.loc[bool_b].isin({True, \"True\"})\n",
      "INFO:pypsa.components:Applying weightings to all columns of `snapshot_weightings`\n",
      "/home/iegor/ensys/PyPSA/pypsa/optimization/constraints.py:530: FutureWarning: DataFrame.groupby with axis=1 is deprecated. Do `frame.T.groupby(...)` without axis instead.\n",
      "  (-get_as_dense(n, \"Load\", \"p_set\", sns) * n.loads.sign)\n",
      "/tmp/ipykernel_126431/1521646535.py:45: FutureWarning: DataFrame.groupby with axis=1 is deprecated. Do `frame.T.groupby(...)` without axis instead.\n",
      "  (-get_as_dense(n, \"Load\", \"p_set\", sns) * n.loads.sign)\n",
      "/tmp/ipykernel_126431/1521646535.py:45: FutureWarning: DataFrame.groupby with axis=1 is deprecated. Do `frame.T.groupby(...)` without axis instead.\n",
      "  (-get_as_dense(n, \"Load\", \"p_set\", sns) * n.loads.sign)\n",
      "INFO:linopy.model: Solve problem using Highs solver\n",
      "INFO:linopy.io:Writing objective.\n",
      "Writing constraints.: 100%|\u001b[38;2;128;191;255m██████████\u001b[0m| 11/11 [00:00<00:00, 39.24it/s]\n",
      "Writing continuous variables.: 100%|\u001b[38;2;128;191;255m██████████\u001b[0m| 4/4 [00:00<00:00, 61.84it/s]\n",
      "INFO:linopy.io: Writing time: 0.39s\n",
      "INFO:linopy.solvers:Log file at /tmp/highs.log.\n"
     ]
    },
    {
     "name": "stdout",
     "output_type": "stream",
     "text": [
      "Running HiGHS 1.5.3 [date: 2023-05-16, git hash: 594fa5a9d-dirty]\n",
      "Copyright (c) 2023 HiGHS under MIT licence terms\n"
     ]
    },
    {
     "name": "stderr",
     "output_type": "stream",
     "text": [
      "INFO:linopy.constants: Optimization successful: \n",
      "Status: ok\n",
      "Termination condition: optimal\n",
      "Solution: 35044 primals, 78844 duals\n",
      "Objective: 1.06e+06\n",
      "Solver model: available\n",
      "Solver message: optimal\n",
      "\n",
      "INFO:pypsa.optimization.optimize:The shadow-prices of the constraints Generator-ext-p-lower, Generator-ext-p-upper, Generator-ext-p-upper-med, Generator-ext-p-lower-med, Bus-nodal_balance-med, Generator-ext-p-upper-high, Generator-ext-p-lower-high, Bus-nodal_balance-high were not assigned to the network.\n"
     ]
    },
    {
     "name": "stdout",
     "output_type": "stream",
     "text": [
      "Presolving model\n",
      "39717 rows, 30961 cols, 92871 nonzeros\n",
      "39717 rows, 30961 cols, 92871 nonzeros\n",
      "Presolve : Reductions: rows 39717(-39127); columns 30961(-4083); elements 92871(-43210)\n",
      "Solving the presolved LP\n",
      "Using EKK dual simplex solver - serial\n",
      "  Iteration        Objective     Infeasibilities num(sum)\n",
      "          0     0.0000000000e+00 Pr: 8760(53192) 0s\n",
      "      24210     1.0575733538e+06 Pr: 0(0) 2s\n",
      "Solving the original LP from the solution after postsolve\n",
      "Model   status      : Optimal\n",
      "Simplex   iterations: 24210\n",
      "Objective value     :  1.0575733538e+06\n",
      "HiGHS run time      :          2.56\n"
     ]
    },
    {
     "name": "stderr",
     "output_type": "stream",
     "text": [
      "/home/iegor/ensys/PyPSA/pypsa/optimization/optimize.py:466: FutureWarning: DataFrame.groupby with axis=1 is deprecated. Do `frame.T.groupby(...)` without axis instead.\n",
      "  pd.concat(\n"
     ]
    },
    {
     "data": {
      "text/plain": [
       "('ok', 'optimal')"
      ]
     },
     "execution_count": 167,
     "metadata": {},
     "output_type": "execute_result"
    }
   ],
   "source": [
    "scenario = \"SP-constrained\"\n",
    "\n",
    "gas_price = gas_prices[base_scenario]\n",
    "n = prepare_network(cts, gas_price)\n",
    "prepare_stochastic_model(n)\n",
    "\n",
    "n.generators.p_nom_extendable = False\n",
    "n.generators.p_nom = portfolios.loc[n.generators.index, \"naive\"]\n",
    "# n.generators.T\n",
    "\n",
    "n.optimize.solve_model(solver_name=solver_name)"
   ]
  },
  {
   "cell_type": "code",
   "execution_count": 168,
   "metadata": {},
   "outputs": [
    {
     "data": {
      "text/plain": [
       "1597071.488052698"
      ]
     },
     "execution_count": 168,
     "metadata": {},
     "output_type": "execute_result"
    }
   ],
   "source": [
    "# don't forget to add the capital costs of the (fixed) generators portfolio\n",
    "c = \"Generator\"\n",
    "ext_i = portfolios[\"naive\"].index\n",
    "cost = n.df(c)[\"capital_cost\"][ext_i]\n",
    "cost_of_portfolio = (n.generators.p_nom * cost).sum()\n",
    "n.objective += cost_of_portfolio\n",
    "n.objective"
   ]
  },
  {
   "cell_type": "code",
   "execution_count": 169,
   "metadata": {},
   "outputs": [
    {
     "data": {
      "text/plain": [
       "naive             1.118275e+06\n",
       "SP                1.057573e+06\n",
       "SP-constrained    1.597071e+06\n",
       "dtype: float64"
      ]
     },
     "execution_count": 169,
     "metadata": {},
     "output_type": "execute_result"
    }
   ],
   "source": [
    "portfolios[\n",
    "    scenario\n",
    "] = n.generators.p_nom  # just a fixed copy of naive problem's solution\n",
    "costs[\n",
    "    scenario\n",
    "] = (\n",
    "    n.objective\n",
    ")  # must be >= than the stochastic solution's costs, because you do dispatch with the suboptimal first-stage decisions\n",
    "\n",
    "costs"
   ]
  },
  {
   "cell_type": "markdown",
   "metadata": {},
   "source": [
    "### Compute ECIU"
   ]
  },
  {
   "cell_type": "code",
   "execution_count": 170,
   "metadata": {},
   "outputs": [
    {
     "name": "stdout",
     "output_type": "stream",
     "text": [
      "ECIU: 0.539 Meuro \n",
      "which is 51% of stochastic solution's costs\n"
     ]
    }
   ],
   "source": [
    "# ECIU (or VSS) in M euro\n",
    "eciu = (costs[\"SP-constrained\"] - costs[\"SP\"]) / 1e6\n",
    "# ECIU in % of stochastic solution\n",
    "eciu_pp = eciu / (costs[\"SP\"] / 1e6) * 100\n",
    "\n",
    "print(\n",
    "    f\"ECIU: {round(eciu, 3)} Meuro \\nwhich is {round(eciu_pp)}% of stochastic solution's costs\"\n",
    ")"
   ]
  },
  {
   "cell_type": "markdown",
   "metadata": {},
   "source": [
    "### The Expected Value of Perfect Information (EVPI)\n",
    "\n",
    "If system planner knew at the first stage which scenario will play out, it could optimize an expansion plan (i.e. that results in lower cost) for that scenario.\n",
    "\n",
    "The expected value (and the corresponding mathematical problem) of such solution is denoted in the literature as „wait-and-see” solution (or wait-and-see (WS) problem).\n",
    "\n",
    "The difference between the (probability-weighted) wait-and-see solutions and the here-and-now (stochastic) solution represents the added value of information about the future (i.e., the expected profit).\n",
    "\n",
    "*modelling perspective*: How much the expected costs could be reduced if system planner in the first stage knew exactly which scenario would happen?\n",
    "\n",
    "*economic perspective*: An upper bound to the amount that should be paid for improved forecasts."
   ]
  },
  {
   "cell_type": "code",
   "execution_count": 171,
   "metadata": {},
   "outputs": [],
   "source": [
    "portfolios = pd.DataFrame()\n",
    "costs = pd.Series()"
   ]
  },
  {
   "cell_type": "markdown",
   "metadata": {},
   "source": [
    "### Solve Wait-and-See problems\n",
    "where Wait-and-See (WS) is a standard textbook name for individual determinic problem (i.e. running a single scenario)."
   ]
  },
  {
   "cell_type": "code",
   "execution_count": 172,
   "metadata": {},
   "outputs": [
    {
     "name": "stderr",
     "output_type": "stream",
     "text": [
      "/home/iegor/ensys/PyPSA/pypsa/components.py:323: FutureWarning: Setting an item of incompatible dtype is deprecated and will raise in a future error of pandas. Value '[]' has dtype incompatible with float64, please explicitly cast to a compatible dtype first.\n",
      "  attrs.loc[bool_b, \"default\"] = attrs.loc[bool_b].isin({True, \"True\"})\n",
      "/home/iegor/ensys/PyPSA/pypsa/components.py:323: FutureWarning: Setting an item of incompatible dtype is deprecated and will raise in a future error of pandas. Value '[]' has dtype incompatible with float64, please explicitly cast to a compatible dtype first.\n",
      "  attrs.loc[bool_b, \"default\"] = attrs.loc[bool_b].isin({True, \"True\"})\n",
      "/home/iegor/ensys/PyPSA/pypsa/components.py:323: FutureWarning: Setting an item of incompatible dtype is deprecated and will raise in a future error of pandas. Value '[]' has dtype incompatible with float64, please explicitly cast to a compatible dtype first.\n",
      "  attrs.loc[bool_b, \"default\"] = attrs.loc[bool_b].isin({True, \"True\"})\n",
      "/home/iegor/ensys/PyPSA/pypsa/components.py:323: FutureWarning: Setting an item of incompatible dtype is deprecated and will raise in a future error of pandas. Value '[]' has dtype incompatible with float64, please explicitly cast to a compatible dtype first.\n",
      "  attrs.loc[bool_b, \"default\"] = attrs.loc[bool_b].isin({True, \"True\"})\n",
      "INFO:pypsa.components:Applying weightings to all columns of `snapshot_weightings`\n"
     ]
    },
    {
     "name": "stderr",
     "output_type": "stream",
     "text": [
      "/home/iegor/ensys/PyPSA/pypsa/optimization/constraints.py:530: FutureWarning: DataFrame.groupby with axis=1 is deprecated. Do `frame.T.groupby(...)` without axis instead.\n",
      "  (-get_as_dense(n, \"Load\", \"p_set\", sns) * n.loads.sign)\n",
      "INFO:linopy.model: Solve problem using Highs solver\n",
      "INFO:linopy.io:Writing objective.\n",
      "Writing constraints.: 100%|\u001b[38;2;128;191;255m██████████\u001b[0m| 5/5 [00:00<00:00, 51.85it/s]\n",
      "Writing continuous variables.: 100%|\u001b[38;2;128;191;255m██████████\u001b[0m| 2/2 [00:00<00:00, 112.26it/s]\n",
      "INFO:linopy.io: Writing time: 0.14s\n",
      "INFO:linopy.solvers:Log file at /tmp/highs.log.\n",
      "INFO:linopy.constants: Optimization successful: \n",
      "Status: ok\n",
      "Termination condition: optimal\n",
      "Solution: 11684 primals, 26284 duals\n",
      "Objective: 7.88e+05\n",
      "Solver model: available\n",
      "Solver message: optimal\n",
      "\n",
      "INFO:pypsa.optimization.optimize:The shadow-prices of the constraints Generator-ext-p-lower, Generator-ext-p-upper were not assigned to the network.\n"
     ]
    },
    {
     "name": "stdout",
     "output_type": "stream",
     "text": [
      "Running HiGHS 1.5.3 [date: 2023-05-16, git hash: 594fa5a9d-dirty]\n",
      "Copyright (c) 2023 HiGHS under MIT licence terms\n",
      "Presolving model\n",
      "13239 rows, 10323 cols, 30957 nonzeros\n",
      "13239 rows, 10323 cols, 30957 nonzeros\n",
      "Presolve : Reductions: rows 13239(-13045); columns 10323(-1361); elements 30957(-14406)\n",
      "Solving the presolved LP\n",
      "Using EKK dual simplex solver - serial\n",
      "  Iteration        Objective     Infeasibilities num(sum)\n",
      "          0     0.0000000000e+00 Pr: 2920(34348) 0s\n",
      "       7427     7.8834903072e+05 Pr: 0(0) 0s\n",
      "Solving the original LP from the solution after postsolve\n",
      "Model   status      : Optimal\n",
      "Simplex   iterations: 7427\n",
      "Objective value     :  7.8834903072e+05\n",
      "HiGHS run time      :          0.08\n"
     ]
    },
    {
     "name": "stderr",
     "output_type": "stream",
     "text": [
      "/home/iegor/ensys/PyPSA/pypsa/optimization/optimize.py:466: FutureWarning: DataFrame.groupby with axis=1 is deprecated. Do `frame.T.groupby(...)` without axis instead.\n",
      "  pd.concat(\n",
      "/home/iegor/ensys/PyPSA/pypsa/components.py:323: FutureWarning: Setting an item of incompatible dtype is deprecated and will raise in a future error of pandas. Value '[]' has dtype incompatible with float64, please explicitly cast to a compatible dtype first.\n",
      "  attrs.loc[bool_b, \"default\"] = attrs.loc[bool_b].isin({True, \"True\"})\n",
      "/home/iegor/ensys/PyPSA/pypsa/components.py:323: FutureWarning: Setting an item of incompatible dtype is deprecated and will raise in a future error of pandas. Value '[]' has dtype incompatible with float64, please explicitly cast to a compatible dtype first.\n",
      "  attrs.loc[bool_b, \"default\"] = attrs.loc[bool_b].isin({True, \"True\"})\n",
      "/home/iegor/ensys/PyPSA/pypsa/components.py:323: FutureWarning: Setting an item of incompatible dtype is deprecated and will raise in a future error of pandas. Value '[]' has dtype incompatible with float64, please explicitly cast to a compatible dtype first.\n",
      "  attrs.loc[bool_b, \"default\"] = attrs.loc[bool_b].isin({True, \"True\"})\n",
      "/home/iegor/ensys/PyPSA/pypsa/components.py:323: FutureWarning: Setting an item of incompatible dtype is deprecated and will raise in a future error of pandas. Value '[]' has dtype incompatible with float64, please explicitly cast to a compatible dtype first.\n",
      "  attrs.loc[bool_b, \"default\"] = attrs.loc[bool_b].isin({True, \"True\"})\n",
      "INFO:pypsa.components:Applying weightings to all columns of `snapshot_weightings`\n",
      "/home/iegor/ensys/PyPSA/pypsa/optimization/constraints.py:530: FutureWarning: DataFrame.groupby with axis=1 is deprecated. Do `frame.T.groupby(...)` without axis instead.\n",
      "  (-get_as_dense(n, \"Load\", \"p_set\", sns) * n.loads.sign)\n",
      "INFO:linopy.model: Solve problem using Highs solver\n",
      "INFO:linopy.io:Writing objective.\n",
      "Writing constraints.: 100%|\u001b[38;2;128;191;255m██████████\u001b[0m| 5/5 [00:00<00:00, 52.88it/s]\n",
      "Writing continuous variables.: 100%|\u001b[38;2;128;191;255m██████████\u001b[0m| 2/2 [00:00<00:00, 111.15it/s]\n",
      "INFO:linopy.io: Writing time: 0.13s\n",
      "INFO:linopy.solvers:Log file at /tmp/highs.log.\n"
     ]
    },
    {
     "name": "stdout",
     "output_type": "stream",
     "text": [
      "Running HiGHS 1.5.3 [date: 2023-05-16, git hash: 594fa5a9d-dirty]\n",
      "Copyright (c) 2023 HiGHS under MIT licence terms\n",
      "Presolving model\n",
      "13239 rows, 10323 cols, 30957 nonzeros\n",
      "13239 rows, 10323 cols, 30957 nonzeros\n",
      "Presolve : Reductions: rows 13239(-13045); columns 10323(-1361); elements 30957(-14406)\n",
      "Solving the presolved LP\n",
      "Using EKK dual simplex solver - serial\n",
      "  Iteration        Objective     Infeasibilities num(sum)\n",
      "          0     0.0000000000e+00 Pr: 2920(34892) 0s\n",
      "       7275     1.1182753980e+06 Pr: 0(0) 0s\n",
      "Solving the original LP from the solution after postsolve\n",
      "Model   status      : Optimal\n",
      "Simplex   iterations: 7275\n",
      "Objective value     :  1.1182753980e+06\n",
      "HiGHS run time      :          0.20\n"
     ]
    },
    {
     "name": "stderr",
     "output_type": "stream",
     "text": [
      "INFO:linopy.constants: Optimization successful: \n",
      "Status: ok\n",
      "Termination condition: optimal\n",
      "Solution: 11684 primals, 26284 duals\n",
      "Objective: 1.12e+06\n",
      "Solver model: available\n",
      "Solver message: optimal\n",
      "\n",
      "INFO:pypsa.optimization.optimize:The shadow-prices of the constraints Generator-ext-p-lower, Generator-ext-p-upper were not assigned to the network.\n",
      "/home/iegor/ensys/PyPSA/pypsa/optimization/optimize.py:466: FutureWarning: DataFrame.groupby with axis=1 is deprecated. Do `frame.T.groupby(...)` without axis instead.\n",
      "  pd.concat(\n",
      "/home/iegor/ensys/PyPSA/pypsa/components.py:323: FutureWarning: Setting an item of incompatible dtype is deprecated and will raise in a future error of pandas. Value '[]' has dtype incompatible with float64, please explicitly cast to a compatible dtype first.\n",
      "  attrs.loc[bool_b, \"default\"] = attrs.loc[bool_b].isin({True, \"True\"})\n",
      "/home/iegor/ensys/PyPSA/pypsa/components.py:323: FutureWarning: Setting an item of incompatible dtype is deprecated and will raise in a future error of pandas. Value '[]' has dtype incompatible with float64, please explicitly cast to a compatible dtype first.\n",
      "  attrs.loc[bool_b, \"default\"] = attrs.loc[bool_b].isin({True, \"True\"})\n",
      "/home/iegor/ensys/PyPSA/pypsa/components.py:323: FutureWarning: Setting an item of incompatible dtype is deprecated and will raise in a future error of pandas. Value '[]' has dtype incompatible with float64, please explicitly cast to a compatible dtype first.\n",
      "  attrs.loc[bool_b, \"default\"] = attrs.loc[bool_b].isin({True, \"True\"})\n",
      "/home/iegor/ensys/PyPSA/pypsa/components.py:323: FutureWarning: Setting an item of incompatible dtype is deprecated and will raise in a future error of pandas. Value '[]' has dtype incompatible with float64, please explicitly cast to a compatible dtype first.\n",
      "  attrs.loc[bool_b, \"default\"] = attrs.loc[bool_b].isin({True, \"True\"})\n",
      "INFO:pypsa.components:Applying weightings to all columns of `snapshot_weightings`\n",
      "/home/iegor/ensys/PyPSA/pypsa/optimization/constraints.py:530: FutureWarning: DataFrame.groupby with axis=1 is deprecated. Do `frame.T.groupby(...)` without axis instead.\n",
      "  (-get_as_dense(n, \"Load\", \"p_set\", sns) * n.loads.sign)\n",
      "INFO:linopy.model: Solve problem using Highs solver\n",
      "INFO:linopy.io:Writing objective.\n",
      "Writing constraints.: 100%|\u001b[38;2;128;191;255m██████████\u001b[0m| 5/5 [00:00<00:00, 52.61it/s]\n",
      "Writing continuous variables.: 100%|\u001b[38;2;128;191;255m██████████\u001b[0m| 2/2 [00:00<00:00, 110.43it/s]\n",
      "INFO:linopy.io: Writing time: 0.13s\n",
      "INFO:linopy.solvers:Log file at /tmp/highs.log.\n"
     ]
    },
    {
     "name": "stdout",
     "output_type": "stream",
     "text": [
      "Running HiGHS 1.5.3 [date: 2023-05-16, git hash: 594fa5a9d-dirty]\n",
      "Copyright (c) 2023 HiGHS under MIT licence terms\n",
      "Presolving model\n"
     ]
    },
    {
     "name": "stderr",
     "output_type": "stream",
     "text": [
      "INFO:linopy.constants: Optimization successful: \n",
      "Status: ok\n",
      "Termination condition: optimal\n",
      "Solution: 11684 primals, 26284 duals\n",
      "Objective: 1.12e+06\n",
      "Solver model: available\n",
      "Solver message: optimal\n",
      "\n",
      "INFO:pypsa.optimization.optimize:The shadow-prices of the constraints Generator-ext-p-lower, Generator-ext-p-upper were not assigned to the network.\n"
     ]
    },
    {
     "name": "stdout",
     "output_type": "stream",
     "text": [
      "13239 rows, 10323 cols, 30957 nonzeros\n",
      "13239 rows, 10323 cols, 30957 nonzeros\n",
      "Presolve : Reductions: rows 13239(-13045); columns 10323(-1361); elements 30957(-14406)\n",
      "Solving the presolved LP\n",
      "Using EKK dual simplex solver - serial\n",
      "  Iteration        Objective     Infeasibilities num(sum)\n",
      "          0     0.0000000000e+00 Pr: 2920(50896) 0s\n",
      "       7310     1.1182753980e+06 Pr: 0(0) 0s\n",
      "Solving the original LP from the solution after postsolve\n",
      "Model   status      : Optimal\n",
      "Simplex   iterations: 7310\n",
      "Objective value     :  1.1182753980e+06\n",
      "HiGHS run time      :          0.21\n"
     ]
    },
    {
     "name": "stderr",
     "output_type": "stream",
     "text": [
      "/home/iegor/ensys/PyPSA/pypsa/optimization/optimize.py:466: FutureWarning: DataFrame.groupby with axis=1 is deprecated. Do `frame.T.groupby(...)` without axis instead.\n",
      "  pd.concat(\n"
     ]
    }
   ],
   "source": [
    "for scenario in scenarios:\n",
    "    gas_price = gas_prices[scenario]\n",
    "    n = prepare_network(cts, gas_price)\n",
    "\n",
    "    n.optimize(solver_name=solver_name)\n",
    "\n",
    "    if results is None:\n",
    "        results = pd.DataFrame(columns=n.generators.index)\n",
    "        results.index.name = \"scenario\"\n",
    "\n",
    "    portfolios[scenario] = n.generators.p_nom_opt\n",
    "    costs[scenario] = n.objective"
   ]
  },
  {
   "cell_type": "markdown",
   "metadata": {},
   "source": [
    "### compute the expected value of wait-and-see scenario costs"
   ]
  },
  {
   "cell_type": "code",
   "execution_count": 173,
   "metadata": {},
   "outputs": [],
   "source": [
    "ws = sum(costs * pd.Series(probability))"
   ]
  },
  {
   "cell_type": "markdown",
   "metadata": {},
   "source": [
    "### solve stochastic problem"
   ]
  },
  {
   "cell_type": "code",
   "execution_count": 174,
   "metadata": {},
   "outputs": [
    {
     "name": "stderr",
     "output_type": "stream",
     "text": [
      "/home/iegor/ensys/PyPSA/pypsa/components.py:323: FutureWarning: Setting an item of incompatible dtype is deprecated and will raise in a future error of pandas. Value '[]' has dtype incompatible with float64, please explicitly cast to a compatible dtype first.\n",
      "  attrs.loc[bool_b, \"default\"] = attrs.loc[bool_b].isin({True, \"True\"})\n",
      "/home/iegor/ensys/PyPSA/pypsa/components.py:323: FutureWarning: Setting an item of incompatible dtype is deprecated and will raise in a future error of pandas. Value '[]' has dtype incompatible with float64, please explicitly cast to a compatible dtype first.\n",
      "  attrs.loc[bool_b, \"default\"] = attrs.loc[bool_b].isin({True, \"True\"})\n",
      "/home/iegor/ensys/PyPSA/pypsa/components.py:323: FutureWarning: Setting an item of incompatible dtype is deprecated and will raise in a future error of pandas. Value '[]' has dtype incompatible with float64, please explicitly cast to a compatible dtype first.\n",
      "  attrs.loc[bool_b, \"default\"] = attrs.loc[bool_b].isin({True, \"True\"})\n",
      "/home/iegor/ensys/PyPSA/pypsa/components.py:323: FutureWarning: Setting an item of incompatible dtype is deprecated and will raise in a future error of pandas. Value '[]' has dtype incompatible with float64, please explicitly cast to a compatible dtype first.\n",
      "  attrs.loc[bool_b, \"default\"] = attrs.loc[bool_b].isin({True, \"True\"})\n",
      "INFO:pypsa.components:Applying weightings to all columns of `snapshot_weightings`\n",
      "/home/iegor/ensys/PyPSA/pypsa/optimization/constraints.py:530: FutureWarning: DataFrame.groupby with axis=1 is deprecated. Do `frame.T.groupby(...)` without axis instead.\n",
      "  (-get_as_dense(n, \"Load\", \"p_set\", sns) * n.loads.sign)\n",
      "/tmp/ipykernel_126431/1521646535.py:45: FutureWarning: DataFrame.groupby with axis=1 is deprecated. Do `frame.T.groupby(...)` without axis instead.\n",
      "  (-get_as_dense(n, \"Load\", \"p_set\", sns) * n.loads.sign)\n",
      "/tmp/ipykernel_126431/1521646535.py:45: FutureWarning: DataFrame.groupby with axis=1 is deprecated. Do `frame.T.groupby(...)` without axis instead.\n",
      "  (-get_as_dense(n, \"Load\", \"p_set\", sns) * n.loads.sign)\n",
      "INFO:linopy.model: Solve problem using Highs solver\n",
      "INFO:linopy.io:Writing objective.\n",
      "Writing constraints.: 100%|\u001b[38;2;128;191;255m██████████\u001b[0m| 11/11 [00:00<00:00, 41.01it/s]\n",
      "Writing continuous variables.: 100%|\u001b[38;2;128;191;255m██████████\u001b[0m| 4/4 [00:00<00:00, 83.71it/s]\n",
      "INFO:linopy.io: Writing time: 0.36s\n",
      "INFO:linopy.solvers:Log file at /tmp/highs.log.\n"
     ]
    },
    {
     "name": "stdout",
     "output_type": "stream",
     "text": [
      "Running HiGHS 1.5.3 [date: 2023-05-16, git hash: 594fa5a9d-dirty]\n",
      "Copyright (c) 2023 HiGHS under MIT licence terms\n",
      "Presolving model\n"
     ]
    },
    {
     "name": "stderr",
     "output_type": "stream",
     "text": [
      "INFO:linopy.constants: Optimization successful: \n",
      "Status: ok\n",
      "Termination condition: optimal\n",
      "Solution: 35044 primals, 78844 duals\n",
      "Objective: 1.06e+06\n",
      "Solver model: available\n",
      "Solver message: optimal\n",
      "\n",
      "INFO:pypsa.optimization.optimize:The shadow-prices of the constraints Generator-ext-p-lower, Generator-ext-p-upper, Generator-ext-p-upper-med, Generator-ext-p-lower-med, Bus-nodal_balance-med, Generator-ext-p-upper-high, Generator-ext-p-lower-high, Bus-nodal_balance-high were not assigned to the network.\n"
     ]
    },
    {
     "name": "stdout",
     "output_type": "stream",
     "text": [
      "39717 rows, 30961 cols, 92871 nonzeros\n",
      "39717 rows, 30961 cols, 92871 nonzeros\n",
      "Presolve : Reductions: rows 39717(-39127); columns 30961(-4083); elements 92871(-43210)\n",
      "Solving the presolved LP\n",
      "Using EKK dual simplex solver - serial\n",
      "  Iteration        Objective     Infeasibilities num(sum)\n",
      "          0     0.0000000000e+00 Pr: 8760(53192) 0s\n",
      "      24210     1.0575733538e+06 Pr: 0(0) 2s\n",
      "Solving the original LP from the solution after postsolve\n",
      "Model   status      : Optimal\n",
      "Simplex   iterations: 24210\n",
      "Objective value     :  1.0575733538e+06\n",
      "HiGHS run time      :          2.60\n"
     ]
    },
    {
     "name": "stderr",
     "output_type": "stream",
     "text": [
      "/home/iegor/ensys/PyPSA/pypsa/optimization/optimize.py:466: FutureWarning: DataFrame.groupby with axis=1 is deprecated. Do `frame.T.groupby(...)` without axis instead.\n",
      "  pd.concat(\n"
     ]
    }
   ],
   "source": [
    "scenario = \"SP\"  # SP for Stochastic Problem\n",
    "gas_price = gas_prices[base_scenario]\n",
    "\n",
    "n = prepare_network(cts, gas_price)\n",
    "prepare_stochastic_model(n)\n",
    "\n",
    "n.optimize.solve_model(solver_name=solver_name)\n",
    "\n",
    "portfolios[scenario] = n.generators.p_nom_opt\n",
    "costs[scenario] = n.objective"
   ]
  },
  {
   "cell_type": "markdown",
   "metadata": {},
   "source": [
    "### Compute EVPI"
   ]
  },
  {
   "cell_type": "code",
   "execution_count": 175,
   "metadata": {},
   "outputs": [
    {
     "name": "stdout",
     "output_type": "stream",
     "text": [
      "EVPI: 0.071 Meuro \n",
      "which is 7% of stochastic solution's costs\n"
     ]
    }
   ],
   "source": [
    "# EVPI in M euro\n",
    "evpi = (\n",
    "    costs[\"SP\"] - ws\n",
    ") / 1e6  # must be >=0 because improved information cannot make the decision maker worse\n",
    "# ECIU in % of stochastic solution\n",
    "evpi_pp = evpi / (costs[\"SP\"] / 1e6) * 100\n",
    "\n",
    "print(\n",
    "    f\"EVPI: {round(evpi, 3)} Meuro \\nwhich is {round(evpi_pp)}% of stochastic solution's costs\"\n",
    ")"
   ]
  },
  {
   "cell_type": "markdown",
   "metadata": {},
   "source": []
  },
  {
   "cell_type": "markdown",
   "metadata": {},
   "source": [
    "### Comparing the ECIU and EVPI metrics\n",
    "\n",
    "ECIU: an investment decision is made when uncertainty is **ignored**. \n",
    "The ECIU is **the additional expected cost of assuming that future is certain**.\n",
    "\n",
    "EVPI: an investment decision is made after uncertainty is **removed**.\n",
    "The EVPI is the **expected cost of being uncertain about the future**."
   ]
  },
  {
   "cell_type": "markdown",
   "metadata": {},
   "source": []
  },
  {
   "cell_type": "markdown",
   "metadata": {},
   "source": []
  }
 ],
 "metadata": {
  "kernelspec": {
   "display_name": "pypsa-eur",
   "language": "python",
   "name": "python3"
  },
  "language_info": {
   "codemirror_mode": {
    "name": "ipython",
    "version": 3
   },
   "file_extension": ".py",
   "mimetype": "text/x-python",
   "name": "python",
   "nbconvert_exporter": "python",
   "pygments_lexer": "ipython3",
   "version": "3.10.12"
  }
 },
 "nbformat": 4,
 "nbformat_minor": 2
}
